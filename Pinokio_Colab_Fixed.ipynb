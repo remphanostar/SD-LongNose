{
 "cells": [
  {
   "cell_type": "markdown",
   "metadata": {
    "id": "header"
   },
   "source": [
    "# 🚀 Pinokio Cloud GPU - Google Colab (Fixed)\n",
    "\n",
    "**One-click deployment of Pinokio AI tools on Google Colab**\n",
    "\n",
    "This notebook automatically sets up Pinokio with AI tools like Stable Diffusion, ComfyUI, and more.\n",
    "\n",
    "---"
   ]
  },
  {
   "cell_type": "markdown",
   "metadata": {
    "id": "setup-header"
   },
   "source": [
    "## 📦 Setup & Installation"
   ]
  },
  {
   "cell_type": "code",
   "execution_count": null,
   "metadata": {
    "id": "setup-cell"
   },
   "outputs": [],
   "source": [
    "# Setup repository and dependencies\n",
    "import os\n",
    "import subprocess\n",
    "import sys\n",
    "\n",
    "# Clone the enhanced Pinokio repository\n",
    "if not os.path.exists(\"SD-LongNose\"):\n",
    "    print(\"📥 Cloning Pinokio repository...\")\n",
    "    !git clone https://github.com/remphanostar/SD-LongNose.git\n",
    "    print(\"✅ Repository cloned\")\n",
    "\n",
    "# Change to repository directory and add to path\n",
    "os.chdir(\"SD-LongNose\")\n",
    "sys.path.insert(0, '.')\n",
    "sys.path.insert(0, 'modules')\n",
    "\n",
    "# Install dependencies\n",
    "!pip install -q requests pyngrok psutil\n",
    "\n",
    "print(\"✅ Setup complete\")"
   ]
  },
  {
   "cell_type": "markdown",
   "metadata": {
    "id": "quickstart-header"
   },
   "source": [
    "## 🚀 Method 1: Simple Quick Start"
   ]
  },
  {
   "cell_type": "code",
   "execution_count": null,
   "metadata": {
    "id": "simple-quickstart"
   },
   "outputs": [],
   "source": [
    "# Import and run quick start\n",
    "from pinokio_cloud_main import quick_start_notebook\n",
    "\n",
    "# Run quick start with default settings\n",
    "pinokio, tunnel_url = quick_start_notebook()\n",
    "\n",
    "if tunnel_url:\n",
    "    print(f\"\\n🎉 SUCCESS! Access your Pinokio interface at:\")\n",
    "    print(f\"🔗 {tunnel_url}\")\n",
    "    print(f\"\\n📱 Click the link above to open Pinokio in your browser!\")\n",
    "    print(f\"🤖 You can browse and install from the entire AI tool library!\")\n",
    "else:\n",
    "    print(\"❌ Setup failed - check the output above for errors\")"
   ]
  },
  {
   "cell_type": "markdown",
   "metadata": {
    "id": "advanced-header"
   },
   "source": [
    "## 🛠️ Method 2: Manual Step-by-Step"
   ]
  },
  {
   "cell_type": "code",
   "execution_count": null,
   "metadata": {
    "id": "manual-setup"
   },
   "outputs": [],
   "source": [
    "# Manual setup with more control\n",
    "from pinokio_cloud_main import PinokioCloudGPU\n",
    "\n",
    "# Initialize\n",
    "pinokio = PinokioCloudGPU(log_level=\"INFO\")\n",
    "\n",
    "# Step by step setup\n",
    "print(\"🔍 Setting up environment...\")\n",
    "pinokio.setup()\n",
    "\n",
    "print(\"📦 Installing Pinokio...\")\n",
    "pinokio.install_pinokio()\n",
    "\n",
    "print(\"🚀 Starting Pinokio server...\")\n",
    "pinokio.start_pinokio()\n",
    "\n",
    "print(\"🌐 Setting up tunnel...\")\n",
    "tunnel_url = pinokio.setup_tunnel()\n",
    "\n",
    "if tunnel_url:\n",
    "    print(f\"\\n✅ Success! Pinokio GUI available at:\")\n",
    "    print(f\"🔗 {tunnel_url}\")\n",
    "    pinokio.print_status()\n",
    "else:\n",
    "    print(\"⚠️ Tunnel setup failed, but server is running locally\")"
   ]
  },
  {
   "cell_type": "markdown",
   "metadata": {
    "id": "tools-header"
   },
   "source": [
    "## 🤖 Install Specific AI Tools (Optional)"
   ]
  },
  {
   "cell_type": "code",
   "execution_count": null,
   "metadata": {
    "id": "install-tools"
   },
   "outputs": [],
   "source": [
    "# Install specific AI tools via API (optional)\n",
    "if 'pinokio' in locals() and pinokio:\n",
    "    \n",
    "    # Example: Install Stable Diffusion\n",
    "    try:\n",
    "        tool_url = pinokio.install_ai_tool(\"stable-diffusion\")\n",
    "        if tool_url:\n",
    "            print(f\"🎨 Stable Diffusion installed and available at: {tool_url}\")\n",
    "    except Exception as e:\n",
    "        print(f\"ℹ️  Install via GUI instead: {e}\")\n",
    "    \n",
    "    # Show current status\n",
    "    pinokio.print_status()\n",
    "else:\n",
    "    print(\"❌ Run the setup cells first!\")"
   ]
  },
  {
   "cell_type": "markdown",
   "metadata": {
    "id": "config-header"
   },
   "source": [
    "## 🔧 Method 3: Custom Configuration"
   ]
  },
  {
   "cell_type": "code",
   "execution_count": null,
   "metadata": {
    "id": "custom-config"
   },
   "outputs": [],
   "source": [
    "# Create custom configuration and run\n",
    "from pinokio_cloud_main import PinokioCloudGPU\n",
    "\n",
    "# Initialize with custom settings\n",
    "pinokio = PinokioCloudGPU(log_level=\"DEBUG\")  # More verbose logging\n",
    "\n",
    "# Modify configuration\n",
    "pinokio.config.update({\n",
    "    \"tunnel_service\": \"cloudflare\",  # Force cloudflare tunnel\n",
    "    \"server_port\": 42000,\n",
    "    \"auto_install_tools\": [\"stable-diffusion\", \"comfyui\"],  # Auto install these\n",
    "    \"headless\": True\n",
    "})\n",
    "\n",
    "# Run full setup\n",
    "try:\n",
    "    pinokio.setup()\n",
    "    pinokio.install_pinokio()\n",
    "    pinokio.start_pinokio()\n",
    "    tunnel_url = pinokio.setup_tunnel()\n",
    "    \n",
    "    # Auto-install configured tools\n",
    "    if pinokio.config.get('auto_install_tools'):\n",
    "        for tool in pinokio.config['auto_install_tools']:\n",
    "            try:\n",
    "                print(f\"🤖 Installing {tool}...\")\n",
    "                pinokio.install_ai_tool(tool, auto_launch=False)\n",
    "            except Exception as e:\n",
    "                print(f\"⚠️ {tool} installation failed: {e}\")\n",
    "    \n",
    "    print(f\"\\n🎉 Custom setup complete!\")\n",
    "    if tunnel_url:\n",
    "        print(f\"🔗 Access at: {tunnel_url}\")\n",
    "    pinokio.print_status()\n",
    "    \n",
    "except Exception as e:\n",
    "    print(f\"❌ Custom setup failed: {e}\")"
   ]
  },
  {
   "cell_type": "markdown",
   "metadata": {
    "id": "status-header"
   },
   "source": [
    "## 📊 Status & Recovery"
   ]
  },
  {
   "cell_type": "code",
   "execution_count": null,
   "metadata": {
    "id": "status-check"
   },
   "outputs": [],
   "source": [
    "# Check status and recover if needed\n",
    "if 'pinokio' in locals() and pinokio:\n",
    "    pinokio.print_status()\n",
    "    \n",
    "    # Uncomment to attempt recovery if something fails:\n",
    "    # try:\n",
    "    #     pinokio.recover_from_error()\n",
    "    #     print(\"✅ Recovery attempted\")\n",
    "    # except Exception as e:\n",
    "    #     print(f\"⚠️ Recovery failed: {e}\")\n",
    "else:\n",
    "    print(\"❌ No Pinokio instance found. Run a setup cell first.\")"
   ]
  },
  {
   "cell_type": "markdown",
   "metadata": {
    "id": "cleanup-header"
   },
   "source": [
    "## 🧹 Cleanup (Run when finished)"
   ]
  },
  {
   "cell_type": "code",
   "execution_count": null,
   "metadata": {
    "id": "cleanup-cell"
   },
   "outputs": [],
   "source": [
    "# Stop all services (uncomment when done)\n",
    "# if 'pinokio' in locals() and pinokio:\n",
    "#     try:\n",
    "#         pinokio.cleanup()\n",
    "#         print(\"✅ All services stopped\")\n",
    "#     except Exception as e:\n",
    "#         print(f\"⚠️ Cleanup error: {e}\")"
   ]
  },
  {
   "cell_type": "markdown",
   "metadata": {
    "id": "help-header"
   },
   "source": [
    "## 💡 Quick Help & Tips\n",
    "\n",
    "**🎯 What This Does:**\n",
    "- Starts the **complete Pinokio web interface**\n",
    "- Gives you access to the **entire AI tool library** (500+ tools)\n",
    "- Creates a public URL to access the GUI from anywhere\n",
    "\n",
    "**🖱️ How to Use:**\n",
    "1. Run any of the setup methods above\n",
    "2. Click the tunnel URL when it appears\n",
    "3. Browse the \"Discover\" tab in Pinokio GUI\n",
    "4. One-click install any AI tool from the library\n",
    "\n",
    "**🔧 Available Tools Include:**\n",
    "- Stable Diffusion WebUI variants\n",
    "- ComfyUI and custom nodes\n",
    "- Text generation models\n",
    "- Image upscalers and processors  \n",
    "- Voice synthesis tools\n",
    "- Video generation models\n",
    "- Training and fine-tuning tools\n",
    "\n",
    "**🚨 Troubleshooting:**\n",
    "- If setup fails, try the \"Method 2: Manual\" approach\n",
    "- For connection issues, check the Status section\n",
    "- GPU not detected? Enable GPU runtime in Colab\n",
    "- Import errors? Re-run the setup cell\n",
    "\n",
    "**💬 Support:** [GitHub Issues](https://github.com/remphanostar/SD-LongNose/issues)"
   ]
  }
 ],
 "metadata": {
  "accelerator": "GPU",
  "colab": {
   "gpuType": "T4",
   "machine_shape": "hm",
   "provenance": []
  },
  "kernelspec": {
   "display_name": "Python 3",
   "name": "python3"
  },
  "language_info": {
   "name": "python"
  }
 },
 "nbformat": 4,
 "nbformat_minor": 0
}
