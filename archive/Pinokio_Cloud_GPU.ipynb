{
 "cells": [
  {
   "cell_type": "markdown",
   "metadata": {},
   "source": [
    "# 🚀 Pinokio Cloud GPU Deployment\n",
    "\n",
    "This notebook deploys the Pinokio AI tool environment on cloud GPU platforms with automatic platform detection, tunneling, and AI tool management.\n",
    "\n",
    "**Supported Platforms:**\n",
    "- Google Colab\n",
    "- Kaggle\n",
    "- Paperspace Gradient\n",
    "- Lightning.ai\n",
    "- RunPod\n",
    "- Vast.ai\n",
    "- DigitalOcean\n",
    "- AWS SageMaker\n",
    "- GCP Vertex AI"
   ]
  },
  {
   "cell_type": "markdown",
   "metadata": {},
   "source": [
    "## 📦 Step 1: Clone Repository and Install Dependencies"
   ]
  },
  {
   "cell_type": "code",
   "execution_count": null,
   "metadata": {},
   "outputs": [],
   "source": [
    "import os\n",
    "import sys\n",
    "import subprocess\n",
    "\n",
    "# Clone the Pinokio Cloud GPU repository\n",
    "repo_url = \"https://github.com/remphanostar/SD-LongNose.git\"\n",
    "repo_dir = \"SD-LongNose\"\n",
    "\n",
    "if not os.path.exists(repo_dir):\n",
    "    print(\"📥 Cloning repository...\")\n",
    "    subprocess.run([\"git\", \"clone\", repo_url], check=True)\n",
    "    print(\"✅ Repository cloned\")\n",
    "else:\n",
    "    print(\"✅ Repository already exists\")\n",
    "\n",
    "# Add to Python path\n",
    "sys.path.insert(0, repo_dir)"
   ]
  },
  {
   "cell_type": "markdown",
   "metadata": {},
   "source": [
    "## 📦 Step 2: Install Required Packages"
   ]
  },
  {
   "cell_type": "code",
   "execution_count": null,
   "metadata": {},
   "outputs": [],
   "source": [
    "# Install required packages\n",
    "packages = [\n",
    "    \"requests\",\n",
    "    \"pyngrok\",\n",
    "    \"psutil\",\n",
    "    \"cloud-detect\"\n",
    "]\n",
    "\n",
    "for package in packages:\n",
    "    print(f\"Installing {package}...\")\n",
    "    subprocess.run([sys.executable, \"-m\", \"pip\", \"install\", \"-q\", package], check=False)\n",
    "\n",
    "print(\"✅ Dependencies installed\")"
   ]
  },
  {
   "cell_type": "markdown",
   "metadata": {},
   "source": [
    "## 🔍 Step 3: Platform Detection and Setup"
   ]
  },
  {
   "cell_type": "code",
   "execution_count": null,
   "metadata": {},
   "outputs": [],
   "source": [
    "# Import modules\n",
    "from modules.platform_detector import PlatformDetector\n",
    "from modules.pinokio_installer import PinokioInstaller\n",
    "from modules.tunnel_manager import TunnelManager\n",
    "from modules.pinokio_controller import PinokioController\n",
    "\n",
    "# Detect platform\n",
    "detector = PlatformDetector()\n",
    "platform = detector.detect_platform()\n",
    "paths = detector.setup_paths()\n",
    "gpu_info = detector.detect_gpu()\n",
    "\n",
    "# Print system information\n",
    "detector.print_summary()"
   ]
  },
  {
   "cell_type": "markdown",
   "metadata": {},
   "source": [
    "## 💾 Step 4: Mount Persistent Storage (Colab Only)"
   ]
  },
  {
   "cell_type": "code",
   "execution_count": null,
   "metadata": {},
   "outputs": [],
   "source": [
    "# Mount Google Drive for persistent storage (Colab only)\n",
    "if platform == \"colab\":\n",
    "    detector.mount_google_drive()"
   ]
  },
  {
   "cell_type": "markdown",
   "metadata": {},
   "source": [
    "## 🎯 Step 5: Install Pinokio"
   ]
  },
  {
   "cell_type": "code",
   "execution_count": null,
   "metadata": {},
   "outputs": [],
   "source": [
    "# Create directories\n",
    "detector.create_directories()\n",
    "\n",
    "# Install Pinokio\n",
    "installer = PinokioInstaller(paths['pinokio'])\n",
    "installer.install(headless=True)"
   ]
  },
  {
   "cell_type": "markdown",
   "metadata": {},
   "source": [
    "## 🚀 Step 6: Start Pinokio Server"
   ]
  },
  {
   "cell_type": "code",
   "execution_count": null,
   "metadata": {},
   "outputs": [],
   "source": [
    "# Start Pinokio controller\n",
    "controller = PinokioController(paths['pinokio'])\n",
    "controller.start_server(headless=True, port=42000)"
   ]
  },
  {
   "cell_type": "markdown",
   "metadata": {},
   "source": [
    "## 🌐 Step 7: Setup Tunneling\n",
    "\n",
    "**Note:** For ngrok, you'll need an auth token from https://ngrok.com/"
   ]
  },
  {
   "cell_type": "code",
   "execution_count": null,
   "metadata": {},
   "outputs": [],
   "source": [
    "# Setup tunnel manager\n",
    "tunnel = TunnelManager()\n",
    "\n",
    "# Option 1: Use ngrok (requires auth token)\n",
    "# ngrok_token = \"YOUR_NGROK_AUTH_TOKEN\"  # Replace with your token\n",
    "# tunnel_url = tunnel.start_ngrok_tunnel(42000, ngrok_token)\n",
    "\n",
    "# Option 2: Use Cloudflare Tunnel (no auth required)\n",
    "tunnel_url = tunnel.start_cloudflare_tunnel(42000)\n",
    "\n",
    "# Option 3: Auto-select best available\n",
    "# tunnel_url = tunnel.start_tunnel(42000, service=\"auto\")\n",
    "\n",
    "if tunnel_url:\n",
    "    print(f\"\\n🎉 Pinokio is accessible at: {tunnel_url}\")\n",
    "    print(f\"📱 Open this URL in your browser to access the Pinokio interface\")\n",
    "else:\n",
    "    print(\"⚠️ Tunneling failed - Pinokio is only accessible locally\")"
   ]
  },
  {
   "cell_type": "markdown",
   "metadata": {},
   "source": [
    "## 🤖 Step 8: Install AI Tools (Optional)\n",
    "\n",
    "You can install popular AI tools directly through the API:"
   ]
  },
  {
   "cell_type": "code",
   "execution_count": null,
   "metadata": {},
   "outputs": [],
   "source": [
    "# Example: Install and launch Stable Diffusion WebUI\n",
    "tool_url = controller.quick_install_and_launch(\"stable-diffusion\")\n",
    "if tool_url:\n",
    "    print(f\"🎨 Stable Diffusion WebUI is running at: {tool_url}\")\n",
    "\n",
    "# List available apps\n",
    "# apps = controller.list_apps()\n",
    "\n",
    "# Install specific tool\n",
    "# controller.install_app(\"https://github.com/AUTOMATIC1111/stable-diffusion-webui\", \"sd-webui\")\n",
    "\n",
    "# Launch installed tool\n",
    "# result = controller.launch_app(\"sd-webui\")"
   ]
  },
  {
   "cell_type": "markdown",
   "metadata": {},
   "source": [
    "## 🎯 Quick Start Function\n",
    "\n",
    "Use this cell for a one-click setup:"
   ]
  },
  {
   "cell_type": "code",
   "execution_count": null,
   "metadata": {},
   "outputs": [],
   "source": [
    "def quick_start(ngrok_token=None, install_tools=None):\n",
    "    \"\"\"\n",
    "    Quick start Pinokio with auto-configuration\n",
    "    \n",
    "    Args:\n",
    "        ngrok_token: Optional ngrok auth token for tunneling\n",
    "        install_tools: List of tools to install (e.g., [\"stable-diffusion\", \"comfyui\"])\n",
    "    \"\"\"\n",
    "    from pinokio_cloud_main import PinokioCloudGPU\n",
    "    \n",
    "    # Initialize and setup\n",
    "    pinokio = PinokioCloudGPU()\n",
    "    \n",
    "    # Setup environment\n",
    "    pinokio.setup()\n",
    "    \n",
    "    # Install Pinokio\n",
    "    pinokio.install_pinokio()\n",
    "    \n",
    "    # Start server\n",
    "    pinokio.start_pinokio()\n",
    "    \n",
    "    # Setup tunnel\n",
    "    tunnel_url = pinokio.setup_tunnel(ngrok_token=ngrok_token)\n",
    "    \n",
    "    # Install tools if specified\n",
    "    if install_tools:\n",
    "        for tool in install_tools:\n",
    "            pinokio.install_ai_tool(tool)\n",
    "    \n",
    "    return pinokio, tunnel_url\n",
    "\n",
    "# Run quick start\n",
    "# pinokio, url = quick_start()\n",
    "# print(f\"\\n🎉 Access Pinokio at: {url}\")"
   ]
  },
  {
   "cell_type": "markdown",
   "metadata": {},
   "source": [
    "## 🛑 Step 9: Cleanup (Run when finished)"
   ]
  },
  {
   "cell_type": "code",
   "execution_count": null,
   "metadata": {},
   "outputs": [],
   "source": [
    "# Stop all services\n",
    "def cleanup():\n",
    "    \"\"\"Stop all services and clean up\"\"\"\n",
    "    try:\n",
    "        # Stop AI apps\n",
    "        # controller.stop_app(\"sd-webui\")\n",
    "        \n",
    "        # Stop Pinokio server\n",
    "        controller.stop_server()\n",
    "        \n",
    "        # Stop tunnels\n",
    "        tunnel.stop_all_tunnels()\n",
    "        \n",
    "        print(\"✅ All services stopped\")\n",
    "    except Exception as e:\n",
    "        print(f\"⚠️ Cleanup error: {e}\")\n",
    "\n",
    "# Uncomment to run cleanup\n",
    "# cleanup()"
   ]
  },
  {
   "cell_type": "markdown",
   "metadata": {},
   "source": [
    "## 📚 Additional Resources\n",
    "\n",
    "### Available AI Tools:\n",
    "- **stable-diffusion** - Stable Diffusion WebUI by AUTOMATIC1111\n",
    "- **comfyui** - ComfyUI for node-based workflows\n",
    "- **text-generation** - Text Generation WebUI by oobabooga\n",
    "- **kohya-ss** - Kohya SS for model training\n",
    "- **invokeai** - InvokeAI for advanced image generation\n",
    "\n",
    "### Useful Commands:\n",
    "```python\n",
    "# Check system info\n",
    "detector.get_system_info()\n",
    "\n",
    "# List installed apps\n",
    "controller.list_apps()\n",
    "\n",
    "# Check app status\n",
    "controller.get_app_status(\"app-name\")\n",
    "\n",
    "# View active tunnels\n",
    "tunnel.get_active_tunnels()\n",
    "```\n",
    "\n",
    "### Troubleshooting:\n",
    "1. **GPU not detected**: Check platform GPU allocation\n",
    "2. **Tunnel fails**: Try different service (ngrok, cloudflare, localtunnel)\n",
    "3. **Pinokio won't start**: Check logs in `paths['pinokio']/logs/`\n",
    "4. **Out of memory**: Reduce model size or use CPU mode\n",
    "\n",
    "### Support:\n",
    "- GitHub Issues: [Report bugs and request features](https://github.com/remphanostar/SD-LongNose)\n",
    "- Documentation: [Full documentation](https://github.com/remphanostar/SD-LongNose/wiki)"
   ]
  }
 ],
 "metadata": {
  "kernelspec": {
   "display_name": "Python 3",
   "language": "python",
   "name": "python3"
  },
  "language_info": {
   "codemirror_mode": {
    "name": "ipython",
    "version": 3
   },
   "file_extension": ".py",
   "mimetype": "text/x-python",
   "name": "python",
   "nbconvert_exporter": "python",
   "pygments_lexer": "ipython3",
   "version": "3.8.0"
  }
 },
 "nbformat": 4,
 "nbformat_minor": 4
}
