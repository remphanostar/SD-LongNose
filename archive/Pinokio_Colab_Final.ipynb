{
  "cells": [
    {
      "cell_type": "markdown",
      "metadata": {
        "id": "header"
      },
      "source": [
        "# 🚀 Pinokio Cloud GPU - Google Colab (Final)\n",
        "\n",
        "**One-click deployment of Pinokio AI tools on Google Colab**\n",
        "\n",
        "This notebook automatically sets up Pinokio with AI tools like Stable Diffusion, ComfyUI, and more.\n",
        "\n",
        "---"
      ]
    },
    {
      "cell_type": "markdown",
      "metadata": {
        "id": "setup-header"
      },
      "source": [
        "## 📦 Setup & Installation"
      ]
    },
    {
      "cell_type": "code",
      "execution_count": 1,
      "metadata": {
        "colab": {
          "base_uri": "https://localhost:8080/"
        },
        "id": "setup-cell",
        "outputId": "560b7e80-0e81-4010-d17b-bbac2c36e371"
      },
      "outputs": [
        {
          "name": "stdout",
          "output_type": "stream",
          "text": [
            "📥 Cloning Pinokio repository...\n",
            "Cloning into 'SD-LongNose'...\n",
            "remote: Enumerating objects: 42, done.\u001b[K\n",
            "remote: Counting objects: 100% (42/42), done.\u001b[K\n",
            "remote: Compressing objects: 100% (39/39), done.\u001b[K\n",
            "remote: Total 42 (delta 12), reused 0 (delta 0), pack-reused 0 (from 0)\u001b[K\n",
            "Receiving objects: 100% (42/42), 78.58 KiB | 665.00 KiB/s, done.\n",
            "Resolving deltas: 100% (12/12), done.\n",
            "✅ Repository cloned\n",
            "✅ Setup complete\n"
          ]
        }
      ],
      "source": [
        "# Setup repository and dependencies\n",
        "import os\n",
        "import subprocess\n",
        "import sys\n",
        "\n",
        "# Clone the enhanced Pinokio repository\n",
        "if not os.path.exists(\"SD-LongNose\"):\n",
        "    print(\"📥 Cloning Pinokio repository...\")\n",
        "    !git clone https://github.com/remphanostar/SD-LongNose.git\n",
        "    print(\"✅ Repository cloned\")\n",
        "\n",
        "# Change to repository directory and add to path\n",
        "os.chdir(\"SD-LongNose\")\n",
        "sys.path.insert(0, '.')\n",
        "sys.path.insert(0, 'modules')\n",
        "\n",
        "# Install dependencies with better error handling\n",
        "%pip install -q requests pyngrok psutil\n",
        "\n",
        "print(\"✅ Setup complete\")"
      ]
    },
    {
      "cell_type": "markdown",
      "metadata": {
        "id": "quickstart-header"
      },
      "source": [
        "## 🚀 Quick Start (Recommended)"
      ]
    },
    {
      "cell_type": "code",
      "execution_count": 2,
      "metadata": {
        "colab": {
          "base_uri": "https://localhost:8080/"
        },
        "id": "quickstart",
        "outputId": "ba0985d6-e0f6-4540-f047-7b06008207c5"
      },
      "outputs": [
        {
          "name": "stderr",
          "output_type": "stream",
          "text": [
            "2025-09-01 01:32:08,615 - PinokioCloudGPU - INFO - State updated: setting_up\n",
            "INFO:PinokioCloudGPU:State updated: setting_up\n",
            "2025-09-01 01:32:08,617 - PinokioCloudGPU - INFO - 🔍 Setting up Pinokio Cloud GPU environment...\n",
            "INFO:PinokioCloudGPU:🔍 Setting up Pinokio Cloud GPU environment...\n",
            "2025-09-01 01:32:08,620 - PlatformDetector - INFO - Platform detected by _detect_by_env_vars: colab\n",
            "INFO:PlatformDetector:Platform detected by _detect_by_env_vars: colab\n",
            "2025-09-01 01:32:08,622 - PinokioCloudGPU - INFO - Mounting Google Drive for Colab...\n",
            "INFO:PinokioCloudGPU:Mounting Google Drive for Colab...\n"
          ]
        },
        {
          "name": "stdout",
          "output_type": "stream",
          "text": [
            "🚀 PINOKIO CLOUD GPU - QUICK START\n",
            "==================================================\n",
            "🔍 Setting up environment...\n"
          ]
        },
        {
          "name": "stderr",
          "output_type": "stream",
          "text": [
            "2025-09-01 01:32:26,819 - PlatformDetector - INFO - ✅ Google Drive mounted successfully at /content/drive\n",
            "INFO:PlatformDetector:✅ Google Drive mounted successfully at /content/drive\n",
            "2025-09-01 01:32:26,824 - PlatformDetector - INFO - ✅ Created 10 Pinokio directories at /content/pinokio\n",
            "INFO:PlatformDetector:✅ Created 10 Pinokio directories at /content/pinokio\n",
            "2025-09-01 01:32:26,848 - PlatformDetector - INFO - Detected 1 NVIDIA GPU(s)\n",
            "INFO:PlatformDetector:Detected 1 NVIDIA GPU(s)\n",
            "2025-09-01 01:32:26,893 - PlatformDetector - INFO - CUDA version: 12.5\n",
            "INFO:PlatformDetector:CUDA version: 12.5\n"
          ]
        },
        {
          "name": "stdout",
          "output_type": "stream",
          "text": [
            "Mounted at /content/drive\n"
          ]
        },
        {
          "name": "stderr",
          "output_type": "stream",
          "text": [
            "2025-09-01 01:32:31,280 - PlatformDetector - INFO - PyTorch CUDA available: 12.6\n",
            "INFO:PlatformDetector:PyTorch CUDA available: 12.6\n",
            "2025-09-01 01:32:34,854 - PlatformDetector - INFO - TensorFlow detected 1 GPU(s)\n",
            "INFO:PlatformDetector:TensorFlow detected 1 GPU(s)\n",
            "2025-09-01 01:32:34,857 - PinokioCloudGPU - INFO - State updated: setup_complete\n",
            "INFO:PinokioCloudGPU:State updated: setup_complete\n",
            "2025-09-01 01:32:34,860 - PinokioCloudGPU - INFO - ✅ Environment setup complete\n",
            "INFO:PinokioCloudGPU:✅ Environment setup complete\n",
            "2025-09-01 01:32:34,861 - PinokioCloudGPU - INFO - State updated: installing\n",
            "INFO:PinokioCloudGPU:State updated: installing\n",
            "2025-09-01 01:32:34,863 - PinokioCloudGPU - INFO - 📦 Installing Pinokio...\n",
            "INFO:PinokioCloudGPU:📦 Installing Pinokio...\n",
            "2025-09-01 01:32:34,865 - PinokioCloudGPU - INFO - State updated: error\n",
            "INFO:PinokioCloudGPU:State updated: error\n",
            "2025-09-01 01:32:34,866 - PinokioCloudGPU - ERROR - Pinokio installation failed: PinokioInstaller.install() got an unexpected keyword argument 'enable_backup'\n",
            "ERROR:PinokioCloudGPU:Pinokio installation failed: PinokioInstaller.install() got an unexpected keyword argument 'enable_backup'\n",
            "2025-09-01 01:32:34,867 - PinokioCloudGPU - WARNING - install_pinokio failed (attempt 1/2): PinokioInstaller.install() got an unexpected keyword argument 'enable_backup'. Retrying in 3.0s...\n",
            "WARNING:PinokioCloudGPU:install_pinokio failed (attempt 1/2): PinokioInstaller.install() got an unexpected keyword argument 'enable_backup'. Retrying in 3.0s...\n"
          ]
        },
        {
          "name": "stdout",
          "output_type": "stream",
          "text": [
            "============================================================\n",
            "🔍 PLATFORM DETECTION SUMMARY\n",
            "============================================================\n",
            "Platform: colab\n",
            "Pinokio Path: /content/pinokio\n",
            "Data Path: /content\n",
            "\n",
            "📊 GPU Information:\n",
            "  Available: True\n",
            "  Device 0: Tesla T4 (15360 MiB)\n",
            "  CUDA Version: 12.5\n",
            "\n",
            "💾 Memory: 12.7 GB\n",
            "💿 Disk: 73.6 GB free of 112.6 GB\n",
            "============================================================\n",
            "✅ Environment setup complete\n",
            "📦 Installing Pinokio...\n"
          ]
        },
        {
          "name": "stderr",
          "output_type": "stream",
          "text": [
            "2025-09-01 01:32:37,869 - PinokioCloudGPU - INFO - State updated: installing\n",
            "INFO:PinokioCloudGPU:State updated: installing\n",
            "2025-09-01 01:32:37,871 - PinokioCloudGPU - INFO - 📦 Installing Pinokio...\n",
            "INFO:PinokioCloudGPU:📦 Installing Pinokio...\n",
            "2025-09-01 01:32:37,873 - PinokioCloudGPU - INFO - State updated: error\n",
            "INFO:PinokioCloudGPU:State updated: error\n",
            "2025-09-01 01:32:37,875 - PinokioCloudGPU - ERROR - Pinokio installation failed: PinokioInstaller.install() got an unexpected keyword argument 'enable_backup'\n",
            "ERROR:PinokioCloudGPU:Pinokio installation failed: PinokioInstaller.install() got an unexpected keyword argument 'enable_backup'\n",
            "2025-09-01 01:32:37,876 - PinokioCloudGPU - ERROR - install_pinokio failed after 2 attempts: PinokioInstaller.install() got an unexpected keyword argument 'enable_backup'\n",
            "ERROR:PinokioCloudGPU:install_pinokio failed after 2 attempts: PinokioInstaller.install() got an unexpected keyword argument 'enable_backup'\n"
          ]
        },
        {
          "name": "stdout",
          "output_type": "stream",
          "text": [
            "❌ Pinokio installation failed: PinokioInstaller.install() got an unexpected keyword argument 'enable_backup'\n",
            "❌ Setup failed: PinokioInstaller.install() got an unexpected keyword argument 'enable_backup'\n",
            "💡 Try running the 'Manual Step-by-Step' section below\n"
          ]
        }
      ],
      "source": [
        "# Enhanced quick start with error recovery\n",
        "try:\n",
        "    from pinokio_cloud_main import PinokioCloudGPU\n",
        "\n",
        "    print(\"🚀 PINOKIO CLOUD GPU - QUICK START\")\n",
        "    print(\"=\" * 50)\n",
        "\n",
        "    # Initialize with robust error handling\n",
        "    pinokio = PinokioCloudGPU(log_level=\"INFO\")\n",
        "\n",
        "    # Step-by-step setup with individual error handling\n",
        "    print(\"🔍 Setting up environment...\")\n",
        "    try:\n",
        "        pinokio.setup()\n",
        "        print(\"✅ Environment setup complete\")\n",
        "    except Exception as e:\n",
        "        print(f\"⚠️ Environment setup had issues: {e}\")\n",
        "        print(\"Continuing with reduced functionality...\")\n",
        "\n",
        "    print(\"📦 Installing Pinokio...\")\n",
        "    try:\n",
        "        pinokio.install_pinokio()\n",
        "        print(\"✅ Pinokio installation complete\")\n",
        "    except Exception as e:\n",
        "        print(f\"❌ Pinokio installation failed: {e}\")\n",
        "        raise\n",
        "\n",
        "    print(\"🚀 Starting Pinokio server...\")\n",
        "    try:\n",
        "        pinokio.start_pinokio()\n",
        "        print(\"✅ Pinokio server started\")\n",
        "    except Exception as e:\n",
        "        print(f\"❌ Server startup failed: {e}\")\n",
        "        raise\n",
        "\n",
        "    print(\"🌐 Setting up tunnel...\")\n",
        "    tunnel_url = None\n",
        "    try:\n",
        "        tunnel_url = pinokio.setup_tunnel()\n",
        "        if tunnel_url:\n",
        "            print(f\"✅ Tunnel created successfully\")\n",
        "        else:\n",
        "            print(\"⚠️ Tunnel setup failed, but server is running locally\")\n",
        "    except Exception as e:\n",
        "        print(f\"⚠️ Tunnel setup error: {e}\")\n",
        "\n",
        "    # Final status\n",
        "    if tunnel_url:\n",
        "        print(f\"\\n🎉 SUCCESS! Access your Pinokio interface at:\")\n",
        "        print(f\"🔗 {tunnel_url}\")\n",
        "        print(f\"\\n📱 Click the link above to open Pinokio in your browser!\")\n",
        "        print(f\"🤖 You can browse and install from the entire AI tool library!\")\n",
        "    else:\n",
        "        print(f\"\\n⚠️ Setup completed but tunnel unavailable\")\n",
        "        print(f\"🖥️ Pinokio is running locally on port 42000\")\n",
        "\n",
        "    # Show final status\n",
        "    try:\n",
        "        pinokio.print_status()\n",
        "    except:\n",
        "        pass\n",
        "\n",
        "except ImportError as e:\n",
        "    print(f\"❌ Import error: {e}\")\n",
        "    print(\"💡 Please run the setup cell first\")\n",
        "except Exception as e:\n",
        "    print(f\"❌ Setup failed: {e}\")\n",
        "    print(\"💡 Try running the 'Manual Step-by-Step' section below\")"
      ]
    },
    {
      "cell_type": "markdown",
      "metadata": {
        "id": "manual-header"
      },
      "source": [
        "## 🛠️ Manual Step-by-Step (If Quick Start Fails)"
      ]
    },
    {
      "cell_type": "code",
      "execution_count": 3,
      "metadata": {
        "colab": {
          "base_uri": "https://localhost:8080/"
        },
        "id": "manual-setup",
        "outputId": "e882753a-644f-4433-d349-0685c1117e57"
      },
      "outputs": [
        {
          "name": "stderr",
          "output_type": "stream",
          "text": [
            "2025-09-01 01:32:52,722 - PlatformDetector - INFO - Platform detected by _detect_by_env_vars: colab\n",
            "INFO:PlatformDetector:Platform detected by _detect_by_env_vars: colab\n"
          ]
        },
        {
          "name": "stdout",
          "output_type": "stream",
          "text": [
            "🔍 Detecting platform...\n",
            "✅ Platform detected: colab\n",
            "📁 Pinokio path: /content/pinokio\n"
          ]
        },
        {
          "name": "stderr",
          "output_type": "stream",
          "text": [
            "2025-09-01 01:32:55,652 - PlatformDetector - INFO - ✅ Google Drive mounted successfully at /content/drive\n",
            "INFO:PlatformDetector:✅ Google Drive mounted successfully at /content/drive\n",
            "2025-09-01 01:32:55,660 - PlatformDetector - INFO - ✅ Created 10 Pinokio directories at /content/pinokio\n",
            "INFO:PlatformDetector:✅ Created 10 Pinokio directories at /content/pinokio\n",
            "2025-09-01 01:32:55,692 - PlatformDetector - INFO - Detected 1 NVIDIA GPU(s)\n",
            "INFO:PlatformDetector:Detected 1 NVIDIA GPU(s)\n",
            "2025-09-01 01:32:55,701 - PlatformDetector - INFO - CUDA version: 12.5\n",
            "INFO:PlatformDetector:CUDA version: 12.5\n",
            "2025-09-01 01:32:55,705 - PlatformDetector - INFO - PyTorch CUDA available: 12.6\n",
            "INFO:PlatformDetector:PyTorch CUDA available: 12.6\n",
            "2025-09-01 01:32:55,709 - PlatformDetector - INFO - TensorFlow detected 1 GPU(s)\n",
            "INFO:PlatformDetector:TensorFlow detected 1 GPU(s)\n",
            "2025-09-01 01:32:55,713 - PinokioInstaller - INFO - Starting Pinokio installation...\n",
            "INFO:PinokioInstaller:Starting Pinokio installation...\n",
            "2025-09-01 01:32:55,716 - PinokioInstaller - INFO - 📦 Installing system dependencies...\n",
            "INFO:PinokioInstaller:📦 Installing system dependencies...\n",
            "2025-09-01 01:32:55,720 - PinokioInstaller - INFO - Updating package list...\n",
            "INFO:PinokioInstaller:Updating package list...\n"
          ]
        },
        {
          "name": "stdout",
          "output_type": "stream",
          "text": [
            "Mounted at /content/drive\n",
            "🎮 GPU Available: True\n",
            "📦 Installing Pinokio...\n"
          ]
        },
        {
          "name": "stderr",
          "output_type": "stream",
          "text": [
            "2025-09-01 01:33:03,668 - PinokioInstaller - INFO - ✅ Installed 10 dependencies\n",
            "INFO:PinokioInstaller:✅ Installed 10 dependencies\n",
            "2025-09-01 01:33:03,669 - PinokioInstaller - INFO - 📺 Setting up virtual display...\n",
            "INFO:PinokioInstaller:📺 Setting up virtual display...\n",
            "2025-09-01 01:33:06,685 - PinokioInstaller - ERROR - ⚠️ Virtual display setup failed: [Errno 2] No such file or directory: 'xdpyinfo'\n",
            "ERROR:PinokioInstaller:⚠️ Virtual display setup failed: [Errno 2] No such file or directory: 'xdpyinfo'\n",
            "2025-09-01 01:33:06,687 - PinokioInstaller - WARNING - Virtual display setup failed, continuing anyway\n",
            "WARNING:PinokioInstaller:Virtual display setup failed, continuing anyway\n",
            "2025-09-01 01:33:06,972 - PinokioInstaller - WARNING - No Linux AppImage found in latest release\n",
            "WARNING:PinokioInstaller:No Linux AppImage found in latest release\n",
            "2025-09-01 01:33:06,973 - PinokioInstaller - INFO - 📥 Downloading Pinokio from https://github.com/pinokiocomputer/pinokio/releases/latest/download/Pinokio-linux.AppImage\n",
            "INFO:PinokioInstaller:📥 Downloading Pinokio from https://github.com/pinokiocomputer/pinokio/releases/latest/download/Pinokio-linux.AppImage\n",
            "2025-09-01 01:33:07,405 - PinokioInstaller - ERROR - ❌ Download failed: 404 Client Error: Not Found for url: https://github.com/pinokiocomputer/pinokio/releases/download/3.9.0/Pinokio-linux.AppImage\n",
            "ERROR:PinokioInstaller:❌ Download failed: 404 Client Error: Not Found for url: https://github.com/pinokiocomputer/pinokio/releases/download/3.9.0/Pinokio-linux.AppImage\n",
            "WARNING:root:download_pinokio attempt 1 failed: 404 Client Error: Not Found for url: https://github.com/pinokiocomputer/pinokio/releases/download/3.9.0/Pinokio-linux.AppImage. Retrying...\n",
            "2025-09-01 01:33:12,408 - PinokioInstaller - INFO - 📥 Downloading Pinokio from https://github.com/pinokiocomputer/pinokio/releases/latest/download/Pinokio-linux.AppImage\n",
            "INFO:PinokioInstaller:📥 Downloading Pinokio from https://github.com/pinokiocomputer/pinokio/releases/latest/download/Pinokio-linux.AppImage\n",
            "2025-09-01 01:33:12,789 - PinokioInstaller - ERROR - ❌ Download failed: 404 Client Error: Not Found for url: https://github.com/pinokiocomputer/pinokio/releases/download/3.9.0/Pinokio-linux.AppImage\n",
            "ERROR:PinokioInstaller:❌ Download failed: 404 Client Error: Not Found for url: https://github.com/pinokiocomputer/pinokio/releases/download/3.9.0/Pinokio-linux.AppImage\n",
            "WARNING:root:download_pinokio attempt 2 failed: 404 Client Error: Not Found for url: https://github.com/pinokiocomputer/pinokio/releases/download/3.9.0/Pinokio-linux.AppImage. Retrying...\n",
            "2025-09-01 01:33:22,792 - PinokioInstaller - INFO - 📥 Downloading Pinokio from https://github.com/pinokiocomputer/pinokio/releases/latest/download/Pinokio-linux.AppImage\n",
            "INFO:PinokioInstaller:📥 Downloading Pinokio from https://github.com/pinokiocomputer/pinokio/releases/latest/download/Pinokio-linux.AppImage\n",
            "2025-09-01 01:33:23,048 - PinokioInstaller - ERROR - ❌ Download failed: 404 Client Error: Not Found for url: https://github.com/pinokiocomputer/pinokio/releases/download/3.9.0/Pinokio-linux.AppImage\n",
            "ERROR:PinokioInstaller:❌ Download failed: 404 Client Error: Not Found for url: https://github.com/pinokiocomputer/pinokio/releases/download/3.9.0/Pinokio-linux.AppImage\n",
            "ERROR:root:download_pinokio failed after 3 attempts: 404 Client Error: Not Found for url: https://github.com/pinokiocomputer/pinokio/releases/download/3.9.0/Pinokio-linux.AppImage\n",
            "2025-09-01 01:33:23,051 - PinokioInstaller - ERROR - Download failed after retries: 404 Client Error: Not Found for url: https://github.com/pinokiocomputer/pinokio/releases/download/3.9.0/Pinokio-linux.AppImage\n",
            "ERROR:PinokioInstaller:Download failed after retries: 404 Client Error: Not Found for url: https://github.com/pinokiocomputer/pinokio/releases/download/3.9.0/Pinokio-linux.AppImage\n",
            "2025-09-01 01:33:23,053 - modules.pinokio_controller - INFO - 🚀 Starting Pinokio server on port 42000...\n",
            "INFO:modules.pinokio_controller:🚀 Starting Pinokio server on port 42000...\n",
            "2025-09-01 01:33:23,054 - modules.pinokio_controller - ERROR - ❌ Failed to start Pinokio server: Pinokio binary not found at /content/pinokio/Pinokio-linux.AppImage\n",
            "ERROR:modules.pinokio_controller:❌ Failed to start Pinokio server: Pinokio binary not found at /content/pinokio/Pinokio-linux.AppImage\n",
            "2025-09-01 01:33:23,055 - modules.pinokio_controller - WARNING - start_server failed (attempt 1/3): Pinokio binary not found at /content/pinokio/Pinokio-linux.AppImage. Retrying in 2.0s...\n",
            "WARNING:modules.pinokio_controller:start_server failed (attempt 1/3): Pinokio binary not found at /content/pinokio/Pinokio-linux.AppImage. Retrying in 2.0s...\n"
          ]
        },
        {
          "name": "stdout",
          "output_type": "stream",
          "text": [
            "🚀 Starting Pinokio server...\n"
          ]
        },
        {
          "name": "stderr",
          "output_type": "stream",
          "text": [
            "2025-09-01 01:33:25,057 - modules.pinokio_controller - INFO - 🚀 Starting Pinokio server on port 42000...\n",
            "INFO:modules.pinokio_controller:🚀 Starting Pinokio server on port 42000...\n",
            "2025-09-01 01:33:25,058 - modules.pinokio_controller - ERROR - ❌ Failed to start Pinokio server: Pinokio binary not found at /content/pinokio/Pinokio-linux.AppImage\n",
            "ERROR:modules.pinokio_controller:❌ Failed to start Pinokio server: Pinokio binary not found at /content/pinokio/Pinokio-linux.AppImage\n",
            "2025-09-01 01:33:25,059 - modules.pinokio_controller - WARNING - start_server failed (attempt 2/3): Pinokio binary not found at /content/pinokio/Pinokio-linux.AppImage. Retrying in 4.0s...\n",
            "WARNING:modules.pinokio_controller:start_server failed (attempt 2/3): Pinokio binary not found at /content/pinokio/Pinokio-linux.AppImage. Retrying in 4.0s...\n",
            "2025-09-01 01:33:29,061 - modules.pinokio_controller - INFO - 🚀 Starting Pinokio server on port 42000...\n",
            "INFO:modules.pinokio_controller:🚀 Starting Pinokio server on port 42000...\n",
            "2025-09-01 01:33:29,062 - modules.pinokio_controller - ERROR - ❌ Failed to start Pinokio server: Pinokio binary not found at /content/pinokio/Pinokio-linux.AppImage\n",
            "ERROR:modules.pinokio_controller:❌ Failed to start Pinokio server: Pinokio binary not found at /content/pinokio/Pinokio-linux.AppImage\n",
            "2025-09-01 01:33:29,063 - modules.pinokio_controller - ERROR - start_server failed after 3 attempts: Pinokio binary not found at /content/pinokio/Pinokio-linux.AppImage\n",
            "ERROR:modules.pinokio_controller:start_server failed after 3 attempts: Pinokio binary not found at /content/pinokio/Pinokio-linux.AppImage\n"
          ]
        },
        {
          "name": "stdout",
          "output_type": "stream",
          "text": [
            "❌ Manual setup failed: Pinokio binary not found at /content/pinokio/Pinokio-linux.AppImage\n",
            "💡 Please check the error and try again\n"
          ]
        }
      ],
      "source": [
        "# Manual setup with maximum error recovery\n",
        "try:\n",
        "    # Import modules directly\n",
        "    from modules.platform_detector import PlatformDetector\n",
        "    from modules.pinokio_installer import PinokioInstaller\n",
        "    from modules.tunnel_manager import TunnelManager\n",
        "    from modules.pinokio_controller import PinokioController\n",
        "\n",
        "    print(\"🔍 Detecting platform...\")\n",
        "    detector = PlatformDetector()\n",
        "    platform = detector.detect_platform()\n",
        "    paths = detector.setup_paths()\n",
        "\n",
        "    print(f\"✅ Platform detected: {platform}\")\n",
        "    print(f\"📁 Pinokio path: {paths['pinokio']}\")\n",
        "\n",
        "    # Mount Google Drive if on Colab\n",
        "    if platform == \"colab\":\n",
        "        detector.mount_google_drive()\n",
        "\n",
        "    # Create directories\n",
        "    detector.create_directories()\n",
        "\n",
        "    # GPU detection (optional)\n",
        "    try:\n",
        "        gpu_info = detector.detect_gpu()\n",
        "        print(f\"🎮 GPU Available: {gpu_info.get('available', False)}\")\n",
        "    except Exception as e:\n",
        "        print(f\"⚠️ GPU detection failed: {e}\")\n",
        "\n",
        "    # Install Pinokio\n",
        "    print(\"📦 Installing Pinokio...\")\n",
        "    installer = PinokioInstaller(paths['pinokio'])\n",
        "    installer.install(headless=True)\n",
        "\n",
        "    # Start Pinokio server\n",
        "    print(\"🚀 Starting Pinokio server...\")\n",
        "    controller = PinokioController(paths['pinokio'])\n",
        "    controller.start_server(headless=True, port=42000)\n",
        "\n",
        "    # Setup tunnel\n",
        "    print(\"🌐 Setting up tunnel...\")\n",
        "    tunnel = TunnelManager()\n",
        "    tunnel_url = tunnel.start_cloudflare_tunnel(42000)\n",
        "\n",
        "    if tunnel_url:\n",
        "        print(f\"\\n🎉 SUCCESS! Manual setup complete!\")\n",
        "        print(f\"🔗 Access Pinokio at: {tunnel_url}\")\n",
        "    else:\n",
        "        print(f\"\\n✅ Pinokio server is running on port 42000\")\n",
        "        print(f\"⚠️ Tunnel setup failed - only local access available\")\n",
        "\n",
        "except Exception as e:\n",
        "    print(f\"❌ Manual setup failed: {e}\")\n",
        "    print(\"💡 Please check the error and try again\")"
      ]
    },
    {
      "cell_type": "markdown",
      "metadata": {
        "id": "tools-header"
      },
      "source": [
        "## 🤖 Install AI Tools (Optional)"
      ]
    },
    {
      "cell_type": "code",
      "execution_count": null,
      "metadata": {
        "id": "install-tools"
      },
      "outputs": [],
      "source": [
        "# Install specific AI tools if controller is available\n",
        "if 'controller' in locals() and controller:\n",
        "    try:\n",
        "        # Example: Install Stable Diffusion via API\n",
        "        print(\"🎨 Installing Stable Diffusion...\")\n",
        "        tool_url = controller.quick_install_and_launch(\"stable-diffusion\")\n",
        "        if tool_url:\n",
        "            print(f\"✅ Stable Diffusion available at: {tool_url}\")\n",
        "    except Exception as e:\n",
        "        print(f\"ℹ️ Tool installation via API failed: {e}\")\n",
        "        print(\"💡 You can install tools manually through the Pinokio GUI\")\n",
        "elif 'pinokio' in locals() and pinokio:\n",
        "    try:\n",
        "        # Try with main orchestrator\n",
        "        tool_url = pinokio.install_ai_tool(\"stable-diffusion\")\n",
        "        if tool_url:\n",
        "            print(f\"🎨 Stable Diffusion installed: {tool_url}\")\n",
        "    except Exception as e:\n",
        "        print(f\"ℹ️ Automated tool installation not available: {e}\")\n",
        "        print(\"💡 Use the Pinokio GUI to browse and install tools\")\n",
        "else:\n",
        "    print(\"💡 Run a setup cell first to enable tool installation\")"
      ]
    },
    {
      "cell_type": "markdown",
      "metadata": {
        "id": "status-header"
      },
      "source": [
        "## 📊 Status Check"
      ]
    },
    {
      "cell_type": "code",
      "execution_count": 4,
      "metadata": {
        "colab": {
          "base_uri": "https://localhost:8080/"
        },
        "id": "status-check",
        "outputId": "708a45c7-f30e-41ee-8af6-3152b6ed18f7"
      },
      "outputs": [
        {
          "name": "stdout",
          "output_type": "stream",
          "text": [
            "📊 CURRENT STATUS\n",
            "==============================\n",
            "\n",
            "==================================================\n",
            "📊 PINOKIO CLOUD GPU STATUS\n",
            "==================================================\n",
            "🚀 State: error\n",
            "🖥️  Platform: colab\n",
            "❌ Last Error: Pinokio installation failed: PinokioInstaller.install() got an unexpected keyword argument 'enable_backup'\n",
            "📦 Pinokio: ❌ Stopped (port: None)\n",
            "🌐 Tunnel: Not configured\n",
            "🤖 Installed Tools: 0\n",
            "==================================================\n",
            "\n",
            "🔍 Checking for Pinokio processes...\n",
            "❌ No Pinokio processes found\n"
          ]
        }
      ],
      "source": [
        "# Check what's running\n",
        "print(\"📊 CURRENT STATUS\")\n",
        "print(\"=\" * 30)\n",
        "\n",
        "# Check if variables exist and services are running\n",
        "if 'pinokio' in locals():\n",
        "    try:\n",
        "        pinokio.print_status()\n",
        "    except Exception as e:\n",
        "        print(f\"⚠️ Status check failed: {e}\")\n",
        "elif 'controller' in locals():\n",
        "    try:\n",
        "        running = controller.is_running()\n",
        "        print(f\"🚀 Pinokio Server: {'✅ Running' if running else '❌ Stopped'}\")\n",
        "        if 'tunnel_url' in locals() and tunnel_url:\n",
        "            print(f\"🌐 Tunnel URL: {tunnel_url}\")\n",
        "    except Exception as e:\n",
        "        print(f\"⚠️ Controller status check failed: {e}\")\n",
        "else:\n",
        "    print(\"❌ No Pinokio instance found\")\n",
        "    print(\"💡 Run one of the setup cells above first\")\n",
        "\n",
        "# Show running processes\n",
        "print(\"\\n🔍 Checking for Pinokio processes...\")\n",
        "try:\n",
        "    result = !ps aux | grep -i pinokio | grep -v grep\n",
        "    if result:\n",
        "        print(\"✅ Found Pinokio processes:\")\n",
        "        for line in result:\n",
        "            print(f\"  {line}\")\n",
        "    else:\n",
        "        print(\"❌ No Pinokio processes found\")\n",
        "except:\n",
        "    print(\"⚠️ Could not check processes\")"
      ]
    },
    {
      "cell_type": "markdown",
      "metadata": {
        "id": "cleanup-header"
      },
      "source": [
        "## 🧹 Cleanup (Run when finished)"
      ]
    },
    {
      "cell_type": "code",
      "execution_count": 5,
      "metadata": {
        "id": "cleanup-cell"
      },
      "outputs": [],
      "source": [
        "# Stop all services (uncomment when done)\n",
        "# print(\"🧹 Stopping all services...\")\n",
        "#\n",
        "# if 'pinokio' in locals():\n",
        "#     try:\n",
        "#         pinokio.cleanup()\n",
        "#         print(\"✅ Main orchestrator cleanup complete\")\n",
        "#     except Exception as e:\n",
        "#         print(f\"⚠️ Main cleanup error: {e}\")\n",
        "#\n",
        "# if 'controller' in locals():\n",
        "#     try:\n",
        "#         controller.stop_server()\n",
        "#         print(\"✅ Pinokio server stopped\")\n",
        "#     except Exception as e:\n",
        "#         print(f\"⚠️ Server stop error: {e}\")\n",
        "#\n",
        "# if 'tunnel' in locals():\n",
        "#     try:\n",
        "#         tunnel.stop_all_tunnels()\n",
        "#         print(\"✅ All tunnels stopped\")\n",
        "#     except Exception as e:\n",
        "#         print(f\"⚠️ Tunnel stop error: {e}\")\n",
        "#\n",
        "# print(\"✅ Cleanup complete\")"
      ]
    },
    {
      "cell_type": "markdown",
      "metadata": {
        "id": "help-header"
      },
      "source": [
        "## 💡 Help & Troubleshooting\n",
        "\n",
        "**🎯 What This Does:**\n",
        "- Starts the **complete Pinokio web interface**\n",
        "- Gives you access to the **entire AI tool library** (500+ tools)\n",
        "- Creates a public URL to access the GUI from anywhere\n",
        "\n",
        "**🖱️ How to Use:**\n",
        "1. Run the \"Quick Start\" cell above\n",
        "2. Click the tunnel URL when it appears\n",
        "3. Browse the \"Discover\" tab in Pinokio GUI\n",
        "4. One-click install any AI tool from the library\n",
        "\n",
        "**🔧 If Quick Start Fails:**\n",
        "1. Try the \"Manual Step-by-Step\" approach\n",
        "2. Check the \"Status Check\" section to see what's running\n",
        "3. Look for error messages and troubleshoot accordingly\n",
        "\n",
        "**🚨 Common Issues:**\n",
        "- **KeyError: 'memory'** → Fixed in this version, should work now\n",
        "- **Import errors** → Re-run the setup cell\n",
        "- **GPU not detected** → Enable GPU runtime in Colab settings\n",
        "- **Tunnel fails** → Server still works locally on port 42000\n",
        "\n",
        "**🛠️ Available Tools Include:**\n",
        "- Stable Diffusion WebUI variants\n",
        "- ComfyUI and custom nodes\n",
        "- Text generation models\n",
        "- Image upscalers and processors  \n",
        "- Voice synthesis tools\n",
        "- Video generation models\n",
        "- Training and fine-tuning tools\n",
        "\n",
        "**💬 Support:** [GitHub Issues](https://github.com/remphanostar/SD-LongNose/issues)"
      ]
    }
  ],
  "metadata": {
    "accelerator": "GPU",
    "colab": {
      "gpuType": "T4",
      "provenance": []
    },
    "kernelspec": {
      "display_name": "Python 3",
      "name": "python3"
    },
    "language_info": {
      "name": "python"
    }
  },
  "nbformat": 4,
  "nbformat_minor": 0
}
