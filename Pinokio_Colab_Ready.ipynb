{
 "cells": [
  {
   "cell_type": "markdown",
   "metadata": {
    "id": "header"
   },
   "source": [
    "# 🚀 Pinokio Cloud GPU - Google Colab\n",
    "\n",
    "**One-click deployment of Pinokio AI tools on Google Colab**\n",
    "\n",
    "This notebook automatically sets up Pinokio with AI tools like Stable Diffusion, ComfyUI, and more.\n",
    "\n",
    "---"
   ]
  },
  {
   "cell_type": "markdown",
   "metadata": {
    "id": "setup-header"
   },
   "source": [
    "## 📦 Setup & Installation"
   ]
  },
  {
   "cell_type": "code",
   "execution_count": null,
   "metadata": {
    "id": "setup-cell"
   },
   "outputs": [],
   "source": [
    "# Setup repository and dependencies\n",
    "import os\n",
    "import subprocess\n",
    "import sys\n",
    "\n",
    "# Clone the enhanced Pinokio repository\n",
    "if not os.path.exists(\"SD-LongNose\"):\n",
    "    print(\"📥 Cloning Pinokio repository...\")\n",
    "    !git clone https://github.com/remphanostar/SD-LongNose.git\n",
    "    print(\"✅ Repository cloned\")\n",
    "\n",
    "# Change to repository directory\n",
    "os.chdir(\"SD-LongNose\")\n",
    "\n",
    "# Run the enhanced setup script\n",
    "exec(open(\"notebook_setup.py\").read())"
   ]
  },
  {
   "cell_type": "markdown",
   "metadata": {
    "id": "quickstart-header"
   },
   "source": [
    "## 🚀 Quick Start\n",
    "\n",
    "**Choose your preferred method:**"
   ]
  },
  {
   "cell_type": "code",
   "execution_count": null,
   "metadata": {
    "id": "auto-quickstart"
   },
   "outputs": [],
   "source": [
    "# 🔥 FULLY AUTOMATIC - Installs Pinokio + Stable Diffusion\n",
    "pinokio, tunnel_url = quick_start_notebook(\n",
    "    config={\n",
    "        \"tunnel_service\": \"cloudflare\",\n",
    "        \"auto_install_tools\": [\"stable-diffusion\"]\n",
    "    }\n",
    ")\n",
    "\n",
    "if tunnel_url:\n",
    "    print(f\"\\n🎉 SUCCESS! Access your Pinokio interface at:\")\n",
    "    print(f\"🔗 {tunnel_url}\")\n",
    "    print(f\"\\n📱 Click the link above to open Pinokio in your browser!\")\n",
    "else:\n",
    "    print(\"❌ Setup failed - check the output above for errors\")"
   ]
  },
  {
   "cell_type": "code",
   "execution_count": null,
   "metadata": {
    "id": "custom-quickstart"
   },
   "outputs": [],
   "source": [
    "# 🛠️ CUSTOM SETUP - Choose your own tools\n",
    "# Uncomment and modify as needed:\n",
    "\n",
    "# tools_to_install = [\"comfyui\", \"text-generation\"]  # Choose from: stable-diffusion, comfyui, text-generation, kohya-ss, invokeai\n",
    "# pinokio, tunnel_url = quick_start_notebook(\n",
    "#     config={\n",
    "#         \"tunnel_service\": \"auto\",  # auto, cloudflare, ngrok, localtunnel\n",
    "#         \"auto_install_tools\": tools_to_install\n",
    "#     }\n",
    "# )"
   ]
  },
  {
   "cell_type": "markdown",
   "metadata": {
    "id": "tools-header"
   },
   "source": [
    "## 🤖 AI Tools Management"
   ]
  },
  {
   "cell_type": "code",
   "execution_count": null,
   "metadata": {
    "id": "install-tools"
   },
   "outputs": [],
   "source": [
    "# Install additional AI tools (run after quick start)\n",
    "if 'pinokio' in locals():\n",
    "    # Available tools: stable-diffusion, comfyui, text-generation, kohya-ss, invokeai, fooocus\n",
    "    \n",
    "    # Example: Install ComfyUI\n",
    "    # tool_url = pinokio.install_ai_tool(\"comfyui\")\n",
    "    # print(f\"🎨 ComfyUI available at: {tool_url}\")\n",
    "    \n",
    "    # Show status\n",
    "    pinokio.print_status()\n",
    "else:\n",
    "    print(\"❌ Run the Quick Start cell first!\")"
   ]
  },
  {
   "cell_type": "markdown",
   "metadata": {
    "id": "ngrok-header"
   },
   "source": [
    "## 🔒 Ngrok Setup (Optional)\n",
    "\n",
    "For more stable tunnels, get a free ngrok token at [ngrok.com](https://ngrok.com)"
   ]
  },
  {
   "cell_type": "code",
   "execution_count": null,
   "metadata": {
    "id": "ngrok-setup"
   },
   "outputs": [],
   "source": [
    "# Setup with ngrok token for more stable connection\n",
    "# NGROK_TOKEN = \"your_token_here\"  # Get from https://ngrok.com\n",
    "\n",
    "# pinokio, tunnel_url = quick_start_notebook(\n",
    "#     config={\n",
    "#         \"tunnel_service\": \"ngrok\",\n",
    "#         \"ngrok_token\": NGROK_TOKEN,\n",
    "#         \"auto_install_tools\": [\"stable-diffusion\"]\n",
    "#     }\n",
    "# )"
   ]
  },
  {
   "cell_type": "markdown",
   "metadata": {
    "id": "status-header"
   },
   "source": [
    "## 📊 Status & Recovery"
   ]
  },
  {
   "cell_type": "code",
   "execution_count": null,
   "metadata": {
    "id": "status-check"
   },
   "outputs": [],
   "source": [
    "# Check status and recover if needed\n",
    "if 'pinokio' in locals():\n",
    "    pinokio.print_status()\n",
    "    \n",
    "    # Uncomment to attempt recovery if something fails:\n",
    "    # pinokio.recover_from_error()\n",
    "else:\n",
    "    print(\"❌ No Pinokio instance found. Run Quick Start first.\")"
   ]
  },
  {
   "cell_type": "markdown",
   "metadata": {
    "id": "cleanup-header"
   },
   "source": [
    "## 🧹 Cleanup (Run when finished)"
   ]
  },
  {
   "cell_type": "code",
   "execution_count": null,
   "metadata": {
    "id": "cleanup-cell"
   },
   "outputs": [],
   "source": [
    "# Stop all services (uncomment when done)\n",
    "# if 'pinokio' in locals():\n",
    "#     pinokio.cleanup()\n",
    "#     print(\"✅ All services stopped\")"
   ]
  },
  {
   "cell_type": "markdown",
   "metadata": {
    "id": "help-header"
   },
   "source": [
    "## 💡 Quick Help\n",
    "\n",
    "**Available AI Tools:**\n",
    "- `stable-diffusion` - AUTOMATIC1111 WebUI\n",
    "- `comfyui` - Node-based workflow interface\n",
    "- `text-generation` - oobabooga text generation\n",
    "- `kohya-ss` - Model training toolkit\n",
    "- `invokeai` - Advanced image generation\n",
    "- `fooocus` - Simplified AI art generation\n",
    "\n",
    "**Troubleshooting:**\n",
    "- If setup fails, try running the Quick Start cell again\n",
    "- For connection issues, check the Status & Recovery section\n",
    "- GPU not detected? Make sure you're using a GPU runtime\n",
    "\n",
    "**Support:** [GitHub Issues](https://github.com/remphanostar/SD-LongNose/issues)"
   ]
  }
 ],
 "metadata": {
  "accelerator": "GPU",
  "colab": {
   "gpuType": "T4",
   "machine_shape": "hm",
   "provenance": []
  },
  "kernelspec": {
   "display_name": "Python 3",
   "name": "python3"
  },
  "language_info": {
   "name": "python"
  }
 },
 "nbformat": 4,
 "nbformat_minor": 0
}
