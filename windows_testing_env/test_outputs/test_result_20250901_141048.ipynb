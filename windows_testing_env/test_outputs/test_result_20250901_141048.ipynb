{
 "cells": [
  {
   "cell_type": "markdown",
   "id": "91e3c324",
   "metadata": {
    "id": "header",
    "papermill": {
     "duration": 0.00553,
     "end_time": "2025-09-01T02:10:51.260627",
     "exception": false,
     "start_time": "2025-09-01T02:10:51.255097",
     "status": "completed"
    },
    "tags": []
   },
   "source": [
    "# 🚀 Pinokio Cloud GPU - Google Colab (Final)\n",
    "\n",
    "**One-click deployment of Pinokio AI tools on Google Colab**\n",
    "\n",
    "This notebook automatically sets up Pinokio with AI tools like Stable Diffusion, ComfyUI, and more.\n",
    "\n",
    "---"
   ]
  },
  {
   "cell_type": "markdown",
   "id": "ced31391",
   "metadata": {
    "id": "setup-header",
    "papermill": {
     "duration": 0.002165,
     "end_time": "2025-09-01T02:10:51.265959",
     "exception": false,
     "start_time": "2025-09-01T02:10:51.263794",
     "status": "completed"
    },
    "tags": []
   },
   "source": [
    "## 📦 Setup & Installation"
   ]
  },
  {
   "cell_type": "code",
   "execution_count": 1,
   "id": "729987bd",
   "metadata": {
    "colab": {
     "base_uri": "https://localhost:8080/"
    },
    "execution": {
     "iopub.execute_input": "2025-09-01T02:10:51.272764Z",
     "iopub.status.busy": "2025-09-01T02:10:51.272384Z",
     "iopub.status.idle": "2025-09-01T02:10:54.595905Z",
     "shell.execute_reply": "2025-09-01T02:10:54.595223Z"
    },
    "id": "setup-cell",
    "outputId": "ab6e2dd3-25fe-40e4-fa53-89fa418bf7d1",
    "papermill": {
     "duration": 3.328285,
     "end_time": "2025-09-01T02:10:54.597341",
     "exception": false,
     "start_time": "2025-09-01T02:10:51.269056",
     "status": "completed"
    },
    "tags": []
   },
   "outputs": [
    {
     "name": "stdout",
     "output_type": "stream",
     "text": [
      "Note: you may need to restart the kernel to use updated packages.\n",
      "✅ Setup complete\n"
     ]
    }
   ],
   "source": [
    "# Setup repository and dependencies\n",
    "import os\n",
    "import subprocess\n",
    "import sys\n",
    "\n",
    "# Clone the enhanced Pinokio repository\n",
    "if not os.path.exists(\"SD-LongNose\"):\n",
    "    print(\"📥 Cloning Pinokio repository...\")\n",
    "    !git clone https://github.com/remphanostar/SD-LongNose.git\n",
    "    print(\"✅ Repository cloned\")\n",
    "\n",
    "# Change to repository directory and add to path\n",
    "os.chdir(\"SD-LongNose\")\n",
    "sys.path.insert(0, '.')\n",
    "sys.path.insert(0, 'modules')\n",
    "\n",
    "# Install dependencies with better error handling\n",
    "%pip install -q requests pyngrok psutil\n",
    "\n",
    "print(\"✅ Setup complete\")"
   ]
  },
  {
   "cell_type": "markdown",
   "id": "0b6cbb21",
   "metadata": {
    "id": "quickstart-header",
    "papermill": {
     "duration": 0.001921,
     "end_time": "2025-09-01T02:10:54.602463",
     "exception": false,
     "start_time": "2025-09-01T02:10:54.600542",
     "status": "completed"
    },
    "tags": []
   },
   "source": [
    "## 🚀 Quick Start (Recommended)"
   ]
  },
  {
   "cell_type": "code",
   "execution_count": 2,
   "id": "28030b03",
   "metadata": {
    "colab": {
     "base_uri": "https://localhost:8080/"
    },
    "execution": {
     "iopub.execute_input": "2025-09-01T02:10:54.608736Z",
     "iopub.status.busy": "2025-09-01T02:10:54.608393Z",
     "iopub.status.idle": "2025-09-01T02:11:07.187887Z",
     "shell.execute_reply": "2025-09-01T02:11:07.186503Z"
    },
    "id": "quickstart",
    "outputId": "16e5811c-1737-4ea9-ee8b-f71a4fca3621",
    "papermill": {
     "duration": 12.089966,
     "end_time": "2025-09-01T02:11:06.694539",
     "exception": false,
     "start_time": "2025-09-01T02:10:54.604573",
     "status": "completed"
    },
    "tags": []
   },
   "outputs": [
    {
     "name": "stderr",
     "output_type": "stream",
     "text": [
      "2025-09-01 14:10:55,344 - PinokioCloudGPU - WARNING - Failed to load state: 'str' object has no attribute 'value', using fresh state\n"
     ]
    },
    {
     "name": "stderr",
     "output_type": "stream",
     "text": [
      "2025-09-01 14:10:55,346 - PinokioCloudGPU - INFO - State updated: setting_up\n"
     ]
    },
    {
     "name": "stderr",
     "output_type": "stream",
     "text": [
      "2025-09-01 14:10:55,347 - PinokioCloudGPU - INFO - 🔍 Setting up Pinokio Cloud GPU environment...\n"
     ]
    },
    {
     "name": "stderr",
     "output_type": "stream",
     "text": [
      "--- Logging error ---\n",
      "Traceback (most recent call last):\n",
      "  File \"C:\\Python313\\Lib\\logging\\__init__.py\", line 1154, in emit\n",
      "    stream.write(msg + self.terminator)\n",
      "    ~~~~~~~~~~~~^^^^^^^^^^^^^^^^^^^^^^^\n",
      "  File \"C:\\Python313\\Lib\\encodings\\cp1252.py\", line 19, in encode\n",
      "    return codecs.charmap_encode(input,self.errors,encoding_table)[0]\n",
      "           ~~~~~~~~~~~~~~~~~~~~~^^^^^^^^^^^^^^^^^^^^^^^^^^^^^^^^^^\n",
      "UnicodeEncodeError: 'charmap' codec can't encode character '\\U0001f50d' in position 63: character maps to <undefined>\n",
      "Call stack:\n",
      "  File \"C:\\Python313\\Lib\\runpy.py\", line 198, in _run_module_as_main\n",
      "    return _run_code(code, main_globals, None,\n",
      "  File \"C:\\Python313\\Lib\\runpy.py\", line 88, in _run_code\n",
      "    exec(code, run_globals)\n",
      "  File \"C:\\Users\\Greepo\\AppData\\Roaming\\Python\\Python313\\site-packages\\ipykernel_launcher.py\", line 18, in <module>\n",
      "    app.launch_new_instance()\n",
      "  File \"C:\\Users\\Greepo\\AppData\\Roaming\\Python\\Python313\\site-packages\\traitlets\\config\\application.py\", line 1075, in launch_instance\n",
      "    app.start()\n",
      "  File \"C:\\Users\\Greepo\\AppData\\Roaming\\Python\\Python313\\site-packages\\ipykernel\\kernelapp.py\", line 739, in start\n",
      "    self.io_loop.start()\n",
      "  File \"C:\\Users\\Greepo\\AppData\\Roaming\\Python\\Python313\\site-packages\\tornado\\platform\\asyncio.py\", line 211, in start\n",
      "    self.asyncio_loop.run_forever()\n",
      "  File \"C:\\Python313\\Lib\\asyncio\\base_events.py\", line 683, in run_forever\n",
      "    self._run_once()\n",
      "  File \"C:\\Python313\\Lib\\asyncio\\base_events.py\", line 2042, in _run_once\n",
      "    handle._run()\n",
      "  File \"C:\\Python313\\Lib\\asyncio\\events.py\", line 89, in _run\n",
      "    self._context.run(self._callback, *self._args)\n",
      "  File \"C:\\Users\\Greepo\\AppData\\Roaming\\Python\\Python313\\site-packages\\ipykernel\\kernelbase.py\", line 545, in dispatch_queue\n",
      "    await self.process_one()\n",
      "  File \"C:\\Users\\Greepo\\AppData\\Roaming\\Python\\Python313\\site-packages\\ipykernel\\kernelbase.py\", line 534, in process_one\n",
      "    await dispatch(*args)\n",
      "  File \"C:\\Users\\Greepo\\AppData\\Roaming\\Python\\Python313\\site-packages\\ipykernel\\kernelbase.py\", line 437, in dispatch_shell\n",
      "    await result\n",
      "  File \"C:\\Users\\Greepo\\AppData\\Roaming\\Python\\Python313\\site-packages\\ipykernel\\ipkernel.py\", line 362, in execute_request\n",
      "    await super().execute_request(stream, ident, parent)\n",
      "  File \"C:\\Users\\Greepo\\AppData\\Roaming\\Python\\Python313\\site-packages\\ipykernel\\kernelbase.py\", line 778, in execute_request\n",
      "    reply_content = await reply_content\n",
      "  File \"C:\\Users\\Greepo\\AppData\\Roaming\\Python\\Python313\\site-packages\\ipykernel\\ipkernel.py\", line 449, in do_execute\n",
      "    res = shell.run_cell(\n",
      "  File \"C:\\Users\\Greepo\\AppData\\Roaming\\Python\\Python313\\site-packages\\ipykernel\\zmqshell.py\", line 549, in run_cell\n",
      "    return super().run_cell(*args, **kwargs)\n",
      "  File \"C:\\Users\\Greepo\\AppData\\Roaming\\Python\\Python313\\site-packages\\IPython\\core\\interactiveshell.py\", line 3100, in run_cell\n",
      "    result = self._run_cell(\n",
      "  File \"C:\\Users\\Greepo\\AppData\\Roaming\\Python\\Python313\\site-packages\\IPython\\core\\interactiveshell.py\", line 3155, in _run_cell\n",
      "    result = runner(coro)\n",
      "  File \"C:\\Users\\Greepo\\AppData\\Roaming\\Python\\Python313\\site-packages\\IPython\\core\\async_helpers.py\", line 128, in _pseudo_sync_runner\n",
      "    coro.send(None)\n",
      "  File \"C:\\Users\\Greepo\\AppData\\Roaming\\Python\\Python313\\site-packages\\IPython\\core\\interactiveshell.py\", line 3367, in run_cell_async\n",
      "    has_raised = await self.run_ast_nodes(code_ast.body, cell_name,\n",
      "  File \"C:\\Users\\Greepo\\AppData\\Roaming\\Python\\Python313\\site-packages\\IPython\\core\\interactiveshell.py\", line 3612, in run_ast_nodes\n",
      "    if await self.run_code(code, result, async_=asy):\n",
      "  File \"C:\\Users\\Greepo\\AppData\\Roaming\\Python\\Python313\\site-packages\\IPython\\core\\interactiveshell.py\", line 3672, in run_code\n",
      "    exec(code_obj, self.user_global_ns, self.user_ns)\n",
      "  File \"C:\\Users\\Greepo\\AppData\\Local\\Temp\\ipykernel_26956\\3769070297.py\", line 14, in <module>\n",
      "    pinokio.setup()\n",
      "  File \"A:\\Tools n Programs\\PinokioNotebook\\SD-LongNose\\pinokio_cloud_main.py\", line 79, in wrapper\n",
      "    return func(*args, **kwargs)\n",
      "  File \"A:\\Tools n Programs\\PinokioNotebook\\SD-LongNose\\pinokio_cloud_main.py\", line 237, in setup\n",
      "    self.logger.info(\"🔍 Setting up Pinokio Cloud GPU environment...\")\n",
      "Message: '🔍 Setting up Pinokio Cloud GPU environment...'\n",
      "Arguments: ()\n",
      "2025-09-01 14:10:55,360 - PlatformDetector - INFO - Platform detected by _detect_by_env_vars: colab\n"
     ]
    },
    {
     "name": "stderr",
     "output_type": "stream",
     "text": [
      "2025-09-01 14:10:55,361 - PinokioCloudGPU - INFO - Mounting Google Drive for Colab...\n"
     ]
    },
    {
     "name": "stderr",
     "output_type": "stream",
     "text": [
      "2025-09-01 14:10:55,365 - PlatformDetector - ERROR - google.colab module not available\n"
     ]
    },
    {
     "name": "stderr",
     "output_type": "stream",
     "text": [
      "2025-09-01 14:10:55,366 - PinokioCloudGPU - WARNING - Google Drive mount failed, continuing anyway\n"
     ]
    },
    {
     "name": "stderr",
     "output_type": "stream",
     "text": [
      "2025-09-01 14:10:55,370 - PlatformDetector - INFO - ✅ Created 10 Pinokio directories at /content/pinokio\n"
     ]
    },
    {
     "name": "stderr",
     "output_type": "stream",
     "text": [
      "2025-09-01 14:10:55,415 - PinokioCloudGPU - INFO - State updated: setup_complete\n"
     ]
    },
    {
     "name": "stderr",
     "output_type": "stream",
     "text": [
      "2025-09-01 14:10:55,417 - PinokioCloudGPU - INFO - ✅ Environment setup complete\n"
     ]
    },
    {
     "name": "stderr",
     "output_type": "stream",
     "text": [
      "--- Logging error ---\n",
      "Traceback (most recent call last):\n",
      "  File \"C:\\Python313\\Lib\\logging\\__init__.py\", line 1154, in emit\n",
      "    stream.write(msg + self.terminator)\n",
      "    ~~~~~~~~~~~~^^^^^^^^^^^^^^^^^^^^^^^\n",
      "  File \"C:\\Python313\\Lib\\encodings\\cp1252.py\", line 19, in encode\n",
      "    return codecs.charmap_encode(input,self.errors,encoding_table)[0]\n",
      "           ~~~~~~~~~~~~~~~~~~~~~^^^^^^^^^^^^^^^^^^^^^^^^^^^^^^^^^^\n",
      "UnicodeEncodeError: 'charmap' codec can't encode character '\\u2705' in position 63: character maps to <undefined>\n",
      "Call stack:\n",
      "  File \"C:\\Python313\\Lib\\runpy.py\", line 198, in _run_module_as_main\n",
      "    return _run_code(code, main_globals, None,\n",
      "  File \"C:\\Python313\\Lib\\runpy.py\", line 88, in _run_code\n",
      "    exec(code, run_globals)\n",
      "  File \"C:\\Users\\Greepo\\AppData\\Roaming\\Python\\Python313\\site-packages\\ipykernel_launcher.py\", line 18, in <module>\n",
      "    app.launch_new_instance()\n",
      "  File \"C:\\Users\\Greepo\\AppData\\Roaming\\Python\\Python313\\site-packages\\traitlets\\config\\application.py\", line 1075, in launch_instance\n",
      "    app.start()\n",
      "  File \"C:\\Users\\Greepo\\AppData\\Roaming\\Python\\Python313\\site-packages\\ipykernel\\kernelapp.py\", line 739, in start\n",
      "    self.io_loop.start()\n",
      "  File \"C:\\Users\\Greepo\\AppData\\Roaming\\Python\\Python313\\site-packages\\tornado\\platform\\asyncio.py\", line 211, in start\n",
      "    self.asyncio_loop.run_forever()\n",
      "  File \"C:\\Python313\\Lib\\asyncio\\base_events.py\", line 683, in run_forever\n",
      "    self._run_once()\n",
      "  File \"C:\\Python313\\Lib\\asyncio\\base_events.py\", line 2042, in _run_once\n",
      "    handle._run()\n",
      "  File \"C:\\Python313\\Lib\\asyncio\\events.py\", line 89, in _run\n",
      "    self._context.run(self._callback, *self._args)\n",
      "  File \"C:\\Users\\Greepo\\AppData\\Roaming\\Python\\Python313\\site-packages\\ipykernel\\kernelbase.py\", line 545, in dispatch_queue\n",
      "    await self.process_one()\n",
      "  File \"C:\\Users\\Greepo\\AppData\\Roaming\\Python\\Python313\\site-packages\\ipykernel\\kernelbase.py\", line 534, in process_one\n",
      "    await dispatch(*args)\n",
      "  File \"C:\\Users\\Greepo\\AppData\\Roaming\\Python\\Python313\\site-packages\\ipykernel\\kernelbase.py\", line 437, in dispatch_shell\n",
      "    await result\n",
      "  File \"C:\\Users\\Greepo\\AppData\\Roaming\\Python\\Python313\\site-packages\\ipykernel\\ipkernel.py\", line 362, in execute_request\n",
      "    await super().execute_request(stream, ident, parent)\n",
      "  File \"C:\\Users\\Greepo\\AppData\\Roaming\\Python\\Python313\\site-packages\\ipykernel\\kernelbase.py\", line 778, in execute_request\n",
      "    reply_content = await reply_content\n",
      "  File \"C:\\Users\\Greepo\\AppData\\Roaming\\Python\\Python313\\site-packages\\ipykernel\\ipkernel.py\", line 449, in do_execute\n",
      "    res = shell.run_cell(\n",
      "  File \"C:\\Users\\Greepo\\AppData\\Roaming\\Python\\Python313\\site-packages\\ipykernel\\zmqshell.py\", line 549, in run_cell\n",
      "    return super().run_cell(*args, **kwargs)\n",
      "  File \"C:\\Users\\Greepo\\AppData\\Roaming\\Python\\Python313\\site-packages\\IPython\\core\\interactiveshell.py\", line 3100, in run_cell\n",
      "    result = self._run_cell(\n",
      "  File \"C:\\Users\\Greepo\\AppData\\Roaming\\Python\\Python313\\site-packages\\IPython\\core\\interactiveshell.py\", line 3155, in _run_cell\n",
      "    result = runner(coro)\n",
      "  File \"C:\\Users\\Greepo\\AppData\\Roaming\\Python\\Python313\\site-packages\\IPython\\core\\async_helpers.py\", line 128, in _pseudo_sync_runner\n",
      "    coro.send(None)\n",
      "  File \"C:\\Users\\Greepo\\AppData\\Roaming\\Python\\Python313\\site-packages\\IPython\\core\\interactiveshell.py\", line 3367, in run_cell_async\n",
      "    has_raised = await self.run_ast_nodes(code_ast.body, cell_name,\n",
      "  File \"C:\\Users\\Greepo\\AppData\\Roaming\\Python\\Python313\\site-packages\\IPython\\core\\interactiveshell.py\", line 3612, in run_ast_nodes\n",
      "    if await self.run_code(code, result, async_=asy):\n",
      "  File \"C:\\Users\\Greepo\\AppData\\Roaming\\Python\\Python313\\site-packages\\IPython\\core\\interactiveshell.py\", line 3672, in run_code\n",
      "    exec(code_obj, self.user_global_ns, self.user_ns)\n",
      "  File \"C:\\Users\\Greepo\\AppData\\Local\\Temp\\ipykernel_26956\\3769070297.py\", line 14, in <module>\n",
      "    pinokio.setup()\n",
      "  File \"A:\\Tools n Programs\\PinokioNotebook\\SD-LongNose\\pinokio_cloud_main.py\", line 79, in wrapper\n",
      "    return func(*args, **kwargs)\n",
      "  File \"A:\\Tools n Programs\\PinokioNotebook\\SD-LongNose\\pinokio_cloud_main.py\", line 265, in setup\n",
      "    self.logger.info(\"✅ Environment setup complete\")\n",
      "Message: '✅ Environment setup complete'\n",
      "Arguments: ()\n",
      "2025-09-01 14:10:55,421 - PinokioCloudGPU - INFO - State updated: installing\n"
     ]
    },
    {
     "name": "stderr",
     "output_type": "stream",
     "text": [
      "2025-09-01 14:10:55,422 - PinokioCloudGPU - INFO - 📦 Installing Pinokio...\n"
     ]
    },
    {
     "name": "stderr",
     "output_type": "stream",
     "text": [
      "--- Logging error ---\n",
      "Traceback (most recent call last):\n",
      "  File \"C:\\Python313\\Lib\\logging\\__init__.py\", line 1154, in emit\n",
      "    stream.write(msg + self.terminator)\n",
      "    ~~~~~~~~~~~~^^^^^^^^^^^^^^^^^^^^^^^\n",
      "  File \"C:\\Python313\\Lib\\encodings\\cp1252.py\", line 19, in encode\n",
      "    return codecs.charmap_encode(input,self.errors,encoding_table)[0]\n",
      "           ~~~~~~~~~~~~~~~~~~~~~^^^^^^^^^^^^^^^^^^^^^^^^^^^^^^^^^^\n",
      "UnicodeEncodeError: 'charmap' codec can't encode character '\\U0001f4e6' in position 73: character maps to <undefined>\n",
      "Call stack:\n",
      "  File \"C:\\Python313\\Lib\\runpy.py\", line 198, in _run_module_as_main\n",
      "    return _run_code(code, main_globals, None,\n",
      "  File \"C:\\Python313\\Lib\\runpy.py\", line 88, in _run_code\n",
      "    exec(code, run_globals)\n",
      "  File \"C:\\Users\\Greepo\\AppData\\Roaming\\Python\\Python313\\site-packages\\ipykernel_launcher.py\", line 18, in <module>\n",
      "    app.launch_new_instance()\n",
      "  File \"C:\\Users\\Greepo\\AppData\\Roaming\\Python\\Python313\\site-packages\\traitlets\\config\\application.py\", line 1075, in launch_instance\n",
      "    app.start()\n",
      "  File \"C:\\Users\\Greepo\\AppData\\Roaming\\Python\\Python313\\site-packages\\ipykernel\\kernelapp.py\", line 739, in start\n",
      "    self.io_loop.start()\n",
      "  File \"C:\\Users\\Greepo\\AppData\\Roaming\\Python\\Python313\\site-packages\\tornado\\platform\\asyncio.py\", line 211, in start\n",
      "    self.asyncio_loop.run_forever()\n",
      "  File \"C:\\Python313\\Lib\\asyncio\\base_events.py\", line 683, in run_forever\n",
      "    self._run_once()\n",
      "  File \"C:\\Python313\\Lib\\asyncio\\base_events.py\", line 2042, in _run_once\n",
      "    handle._run()\n",
      "  File \"C:\\Python313\\Lib\\asyncio\\events.py\", line 89, in _run\n",
      "    self._context.run(self._callback, *self._args)\n",
      "  File \"C:\\Users\\Greepo\\AppData\\Roaming\\Python\\Python313\\site-packages\\ipykernel\\kernelbase.py\", line 545, in dispatch_queue\n",
      "    await self.process_one()\n",
      "  File \"C:\\Users\\Greepo\\AppData\\Roaming\\Python\\Python313\\site-packages\\ipykernel\\kernelbase.py\", line 534, in process_one\n",
      "    await dispatch(*args)\n",
      "  File \"C:\\Users\\Greepo\\AppData\\Roaming\\Python\\Python313\\site-packages\\ipykernel\\kernelbase.py\", line 437, in dispatch_shell\n",
      "    await result\n",
      "  File \"C:\\Users\\Greepo\\AppData\\Roaming\\Python\\Python313\\site-packages\\ipykernel\\ipkernel.py\", line 362, in execute_request\n",
      "    await super().execute_request(stream, ident, parent)\n",
      "  File \"C:\\Users\\Greepo\\AppData\\Roaming\\Python\\Python313\\site-packages\\ipykernel\\kernelbase.py\", line 778, in execute_request\n",
      "    reply_content = await reply_content\n",
      "  File \"C:\\Users\\Greepo\\AppData\\Roaming\\Python\\Python313\\site-packages\\ipykernel\\ipkernel.py\", line 449, in do_execute\n",
      "    res = shell.run_cell(\n",
      "  File \"C:\\Users\\Greepo\\AppData\\Roaming\\Python\\Python313\\site-packages\\ipykernel\\zmqshell.py\", line 549, in run_cell\n",
      "    return super().run_cell(*args, **kwargs)\n",
      "  File \"C:\\Users\\Greepo\\AppData\\Roaming\\Python\\Python313\\site-packages\\IPython\\core\\interactiveshell.py\", line 3100, in run_cell\n",
      "    result = self._run_cell(\n",
      "  File \"C:\\Users\\Greepo\\AppData\\Roaming\\Python\\Python313\\site-packages\\IPython\\core\\interactiveshell.py\", line 3155, in _run_cell\n",
      "    result = runner(coro)\n",
      "  File \"C:\\Users\\Greepo\\AppData\\Roaming\\Python\\Python313\\site-packages\\IPython\\core\\async_helpers.py\", line 128, in _pseudo_sync_runner\n",
      "    coro.send(None)\n",
      "  File \"C:\\Users\\Greepo\\AppData\\Roaming\\Python\\Python313\\site-packages\\IPython\\core\\interactiveshell.py\", line 3367, in run_cell_async\n",
      "    has_raised = await self.run_ast_nodes(code_ast.body, cell_name,\n",
      "  File \"C:\\Users\\Greepo\\AppData\\Roaming\\Python\\Python313\\site-packages\\IPython\\core\\interactiveshell.py\", line 3612, in run_ast_nodes\n",
      "    if await self.run_code(code, result, async_=asy):\n",
      "  File \"C:\\Users\\Greepo\\AppData\\Roaming\\Python\\Python313\\site-packages\\IPython\\core\\interactiveshell.py\", line 3672, in run_code\n",
      "    exec(code_obj, self.user_global_ns, self.user_ns)\n",
      "  File \"C:\\Users\\Greepo\\AppData\\Local\\Temp\\ipykernel_26956\\3769070297.py\", line 22, in <module>\n",
      "    pinokio.install_pinokio()\n",
      "  File \"A:\\Tools n Programs\\PinokioNotebook\\SD-LongNose\\pinokio_cloud_main.py\", line 79, in wrapper\n",
      "    return func(*args, **kwargs)\n",
      "  File \"A:\\Tools n Programs\\PinokioNotebook\\SD-LongNose\\pinokio_cloud_main.py\", line 282, in install_pinokio\n",
      "    self.logger.info(\"📦 Installing Pinokio...\")\n",
      "Message: '📦 Installing Pinokio...'\n",
      "Arguments: ()\n",
      "2025-09-01 14:10:55,428 - PinokioCloudGPU - INFO - Pinokio already installed, skipping installation\n"
     ]
    },
    {
     "name": "stderr",
     "output_type": "stream",
     "text": [
      "2025-09-01 14:10:55,430 - PinokioCloudGPU - INFO - State updated: installation_complete\n"
     ]
    },
    {
     "name": "stderr",
     "output_type": "stream",
     "text": [
      "2025-09-01 14:10:55,432 - PinokioCloudGPU - INFO - State updated: starting_server\n"
     ]
    },
    {
     "name": "stderr",
     "output_type": "stream",
     "text": [
      "2025-09-01 14:10:55,433 - PinokioCloudGPU - INFO - 🚀 Starting Pinokio server on port 42000...\n"
     ]
    },
    {
     "name": "stderr",
     "output_type": "stream",
     "text": [
      "--- Logging error ---\n",
      "Traceback (most recent call last):\n",
      "  File \"C:\\Python313\\Lib\\logging\\__init__.py\", line 1154, in emit\n",
      "    stream.write(msg + self.terminator)\n",
      "    ~~~~~~~~~~~~^^^^^^^^^^^^^^^^^^^^^^^\n",
      "  File \"C:\\Python313\\Lib\\encodings\\cp1252.py\", line 19, in encode\n",
      "    return codecs.charmap_encode(input,self.errors,encoding_table)[0]\n",
      "           ~~~~~~~~~~~~~~~~~~~~~^^^^^^^^^^^^^^^^^^^^^^^^^^^^^^^^^^\n",
      "UnicodeEncodeError: 'charmap' codec can't encode character '\\U0001f680' in position 71: character maps to <undefined>\n",
      "Call stack:\n",
      "  File \"C:\\Python313\\Lib\\runpy.py\", line 198, in _run_module_as_main\n",
      "    return _run_code(code, main_globals, None,\n",
      "  File \"C:\\Python313\\Lib\\runpy.py\", line 88, in _run_code\n",
      "    exec(code, run_globals)\n",
      "  File \"C:\\Users\\Greepo\\AppData\\Roaming\\Python\\Python313\\site-packages\\ipykernel_launcher.py\", line 18, in <module>\n",
      "    app.launch_new_instance()\n",
      "  File \"C:\\Users\\Greepo\\AppData\\Roaming\\Python\\Python313\\site-packages\\traitlets\\config\\application.py\", line 1075, in launch_instance\n",
      "    app.start()\n",
      "  File \"C:\\Users\\Greepo\\AppData\\Roaming\\Python\\Python313\\site-packages\\ipykernel\\kernelapp.py\", line 739, in start\n",
      "    self.io_loop.start()\n",
      "  File \"C:\\Users\\Greepo\\AppData\\Roaming\\Python\\Python313\\site-packages\\tornado\\platform\\asyncio.py\", line 211, in start\n",
      "    self.asyncio_loop.run_forever()\n",
      "  File \"C:\\Python313\\Lib\\asyncio\\base_events.py\", line 683, in run_forever\n",
      "    self._run_once()\n",
      "  File \"C:\\Python313\\Lib\\asyncio\\base_events.py\", line 2042, in _run_once\n",
      "    handle._run()\n",
      "  File \"C:\\Python313\\Lib\\asyncio\\events.py\", line 89, in _run\n",
      "    self._context.run(self._callback, *self._args)\n",
      "  File \"C:\\Users\\Greepo\\AppData\\Roaming\\Python\\Python313\\site-packages\\ipykernel\\kernelbase.py\", line 545, in dispatch_queue\n",
      "    await self.process_one()\n",
      "  File \"C:\\Users\\Greepo\\AppData\\Roaming\\Python\\Python313\\site-packages\\ipykernel\\kernelbase.py\", line 534, in process_one\n",
      "    await dispatch(*args)\n",
      "  File \"C:\\Users\\Greepo\\AppData\\Roaming\\Python\\Python313\\site-packages\\ipykernel\\kernelbase.py\", line 437, in dispatch_shell\n",
      "    await result\n",
      "  File \"C:\\Users\\Greepo\\AppData\\Roaming\\Python\\Python313\\site-packages\\ipykernel\\ipkernel.py\", line 362, in execute_request\n",
      "    await super().execute_request(stream, ident, parent)\n",
      "  File \"C:\\Users\\Greepo\\AppData\\Roaming\\Python\\Python313\\site-packages\\ipykernel\\kernelbase.py\", line 778, in execute_request\n",
      "    reply_content = await reply_content\n",
      "  File \"C:\\Users\\Greepo\\AppData\\Roaming\\Python\\Python313\\site-packages\\ipykernel\\ipkernel.py\", line 449, in do_execute\n",
      "    res = shell.run_cell(\n",
      "  File \"C:\\Users\\Greepo\\AppData\\Roaming\\Python\\Python313\\site-packages\\ipykernel\\zmqshell.py\", line 549, in run_cell\n",
      "    return super().run_cell(*args, **kwargs)\n",
      "  File \"C:\\Users\\Greepo\\AppData\\Roaming\\Python\\Python313\\site-packages\\IPython\\core\\interactiveshell.py\", line 3100, in run_cell\n",
      "    result = self._run_cell(\n",
      "  File \"C:\\Users\\Greepo\\AppData\\Roaming\\Python\\Python313\\site-packages\\IPython\\core\\interactiveshell.py\", line 3155, in _run_cell\n",
      "    result = runner(coro)\n",
      "  File \"C:\\Users\\Greepo\\AppData\\Roaming\\Python\\Python313\\site-packages\\IPython\\core\\async_helpers.py\", line 128, in _pseudo_sync_runner\n",
      "    coro.send(None)\n",
      "  File \"C:\\Users\\Greepo\\AppData\\Roaming\\Python\\Python313\\site-packages\\IPython\\core\\interactiveshell.py\", line 3367, in run_cell_async\n",
      "    has_raised = await self.run_ast_nodes(code_ast.body, cell_name,\n",
      "  File \"C:\\Users\\Greepo\\AppData\\Roaming\\Python\\Python313\\site-packages\\IPython\\core\\interactiveshell.py\", line 3612, in run_ast_nodes\n",
      "    if await self.run_code(code, result, async_=asy):\n",
      "  File \"C:\\Users\\Greepo\\AppData\\Roaming\\Python\\Python313\\site-packages\\IPython\\core\\interactiveshell.py\", line 3672, in run_code\n",
      "    exec(code_obj, self.user_global_ns, self.user_ns)\n",
      "  File \"C:\\Users\\Greepo\\AppData\\Local\\Temp\\ipykernel_26956\\3769070297.py\", line 30, in <module>\n",
      "    pinokio.start_pinokio()\n",
      "  File \"A:\\Tools n Programs\\PinokioNotebook\\SD-LongNose\\pinokio_cloud_main.py\", line 79, in wrapper\n",
      "    return func(*args, **kwargs)\n",
      "  File \"A:\\Tools n Programs\\PinokioNotebook\\SD-LongNose\\pinokio_cloud_main.py\", line 326, in start_pinokio\n",
      "    self.logger.info(f\"🚀 Starting Pinokio server on port {port}...\")\n",
      "Message: '🚀 Starting Pinokio server on port 42000...'\n",
      "Arguments: ()\n",
      "2025-09-01 14:10:55,438 - pinokio_controller - INFO - 🚀 Starting Pinokio server on port 42000...\n"
     ]
    },
    {
     "name": "stderr",
     "output_type": "stream",
     "text": [
      "2025-09-01 14:10:55,439 - pinokio_controller - ERROR - ❌ Failed to start Pinokio server: Pinokio binary not found at /content/pinokio\\Pinokio.exe\n"
     ]
    },
    {
     "name": "stderr",
     "output_type": "stream",
     "text": [
      "2025-09-01 14:10:55,440 - pinokio_controller - WARNING - start_server failed (attempt 1/3): Pinokio binary not found at /content/pinokio\\Pinokio.exe. Retrying in 2.0s...\n"
     ]
    },
    {
     "name": "stdout",
     "output_type": "stream",
     "text": [
      "🚀 PINOKIO CLOUD GPU - QUICK START\n",
      "==================================================\n",
      "🔍 Setting up environment...\n",
      "============================================================\n",
      "🔍 PLATFORM DETECTION SUMMARY\n",
      "============================================================\n",
      "Platform: colab\n",
      "Pinokio Path: /content/pinokio\n",
      "Data Path: /content\n",
      "\n",
      "📊 GPU Information:\n",
      "  Available: False\n",
      "\n",
      "💾 Memory: 31.9 GB\n",
      "💿 Disk: 11.0 GB free of 110.7 GB\n",
      "============================================================\n",
      "✅ Environment setup complete\n",
      "📦 Installing Pinokio...\n",
      "✅ Pinokio installation complete\n",
      "🚀 Starting Pinokio server...\n"
     ]
    },
    {
     "name": "stderr",
     "output_type": "stream",
     "text": [
      "2025-09-01 14:10:57,441 - pinokio_controller - INFO - 🚀 Starting Pinokio server on port 42000...\n"
     ]
    },
    {
     "name": "stderr",
     "output_type": "stream",
     "text": [
      "2025-09-01 14:10:57,443 - pinokio_controller - ERROR - ❌ Failed to start Pinokio server: Pinokio binary not found at /content/pinokio\\Pinokio.exe\n"
     ]
    },
    {
     "name": "stderr",
     "output_type": "stream",
     "text": [
      "2025-09-01 14:10:57,444 - pinokio_controller - WARNING - start_server failed (attempt 2/3): Pinokio binary not found at /content/pinokio\\Pinokio.exe. Retrying in 4.0s...\n"
     ]
    },
    {
     "name": "stderr",
     "output_type": "stream",
     "text": [
      "2025-09-01 14:11:01,445 - pinokio_controller - INFO - 🚀 Starting Pinokio server on port 42000...\n"
     ]
    },
    {
     "name": "stderr",
     "output_type": "stream",
     "text": [
      "2025-09-01 14:11:01,446 - pinokio_controller - ERROR - ❌ Failed to start Pinokio server: Pinokio binary not found at /content/pinokio\\Pinokio.exe\n"
     ]
    },
    {
     "name": "stderr",
     "output_type": "stream",
     "text": [
      "2025-09-01 14:11:01,447 - pinokio_controller - ERROR - start_server failed after 3 attempts: Pinokio binary not found at /content/pinokio\\Pinokio.exe\n"
     ]
    },
    {
     "name": "stderr",
     "output_type": "stream",
     "text": [
      "2025-09-01 14:11:01,448 - PinokioCloudGPU - INFO - State updated: error\n"
     ]
    },
    {
     "name": "stderr",
     "output_type": "stream",
     "text": [
      "2025-09-01 14:11:01,448 - PinokioCloudGPU - ERROR - Failed to start Pinokio: Pinokio binary not found at /content/pinokio\\Pinokio.exe\n"
     ]
    },
    {
     "name": "stderr",
     "output_type": "stream",
     "text": [
      "2025-09-01 14:11:01,449 - PinokioCloudGPU - WARNING - start_pinokio failed (attempt 1/3): Pinokio binary not found at /content/pinokio\\Pinokio.exe. Retrying in 5.0s...\n"
     ]
    },
    {
     "name": "stderr",
     "output_type": "stream",
     "text": [
      "\n",
      "KeyboardInterrupt\n"
     ]
    },
    {
     "name": "stderr",
     "output_type": "stream",
     "text": [
      "\n"
     ]
    }
   ],
   "source": [
    "# Enhanced quick start with error recovery\n",
    "try:\n",
    "    from pinokio_cloud_main import PinokioCloudGPU\n",
    "\n",
    "    print(\"🚀 PINOKIO CLOUD GPU - QUICK START\")\n",
    "    print(\"=\" * 50)\n",
    "\n",
    "    # Initialize with robust error handling\n",
    "    pinokio = PinokioCloudGPU(log_level=\"INFO\")\n",
    "\n",
    "    # Step-by-step setup with individual error handling\n",
    "    print(\"🔍 Setting up environment...\")\n",
    "    try:\n",
    "        pinokio.setup()\n",
    "        print(\"✅ Environment setup complete\")\n",
    "    except Exception as e:\n",
    "        print(f\"⚠️ Environment setup had issues: {e}\")\n",
    "        print(\"Continuing with reduced functionality...\")\n",
    "\n",
    "    print(\"📦 Installing Pinokio...\")\n",
    "    try:\n",
    "        pinokio.install_pinokio()\n",
    "        print(\"✅ Pinokio installation complete\")\n",
    "    except Exception as e:\n",
    "        print(f\"❌ Pinokio installation failed: {e}\")\n",
    "        raise\n",
    "\n",
    "    print(\"🚀 Starting Pinokio server...\")\n",
    "    try:\n",
    "        pinokio.start_pinokio()\n",
    "        print(\"✅ Pinokio server started\")\n",
    "    except Exception as e:\n",
    "        print(f\"❌ Server startup failed: {e}\")\n",
    "        raise\n",
    "\n",
    "    print(\"🌐 Setting up tunnel...\")\n",
    "    tunnel_url = None\n",
    "    try:\n",
    "        tunnel_url = pinokio.setup_tunnel()\n",
    "        if tunnel_url:\n",
    "            print(f\"✅ Tunnel created successfully\")\n",
    "        else:\n",
    "            print(\"⚠️ Tunnel setup failed, but server is running locally\")\n",
    "    except Exception as e:\n",
    "        print(f\"⚠️ Tunnel setup error: {e}\")\n",
    "\n",
    "    # Final status\n",
    "    if tunnel_url:\n",
    "        print(f\"\\n🎉 SUCCESS! Access your Pinokio interface at:\")\n",
    "        print(f\"🔗 {tunnel_url}\")\n",
    "        print(f\"\\n📱 Click the link above to open Pinokio in your browser!\")\n",
    "        print(f\"🤖 You can browse and install from the entire AI tool library!\")\n",
    "    else:\n",
    "        print(f\"\\n⚠️ Setup completed but tunnel unavailable\")\n",
    "        print(f\"🖥️ Pinokio is running locally on port 42000\")\n",
    "\n",
    "    # Show final status\n",
    "    try:\n",
    "        pinokio.print_status()\n",
    "    except:\n",
    "        pass\n",
    "\n",
    "except ImportError as e:\n",
    "    print(f\"❌ Import error: {e}\")\n",
    "    print(\"💡 Please run the setup cell first\")\n",
    "except Exception as e:\n",
    "    print(f\"❌ Setup failed: {e}\")\n",
    "    print(\"💡 Try running the 'Manual Step-by-Step' section below\")"
   ]
  },
  {
   "cell_type": "markdown",
   "id": "3714c093",
   "metadata": {
    "id": "manual-header",
    "papermill": {
     "duration": null,
     "end_time": null,
     "exception": null,
     "start_time": null,
     "status": "completed"
    },
    "tags": []
   },
   "source": [
    "## 🛠️ Manual Step-by-Step (If Quick Start Fails)"
   ]
  },
  {
   "cell_type": "code",
   "execution_count": null,
   "id": "b4632a52",
   "metadata": {
    "colab": {
     "base_uri": "https://localhost:8080/"
    },
    "id": "manual-setup",
    "outputId": "4e2aa97b-6495-4a89-aa17-8487f39f8908",
    "papermill": {
     "duration": null,
     "end_time": null,
     "exception": null,
     "start_time": null,
     "status": "completed"
    },
    "tags": []
   },
   "outputs": [],
   "source": [
    "# Manual setup with maximum error recovery\n",
    "try:\n",
    "    # Import modules directly\n",
    "    from modules.platform_detector import PlatformDetector\n",
    "    from modules.pinokio_installer import PinokioInstaller\n",
    "    from modules.tunnel_manager import TunnelManager\n",
    "    from modules.pinokio_controller import PinokioController\n",
    "\n",
    "    print(\"🔍 Detecting platform...\")\n",
    "    detector = PlatformDetector()\n",
    "    platform = detector.detect_platform()\n",
    "    paths = detector.setup_paths()\n",
    "\n",
    "    print(f\"✅ Platform detected: {platform}\")\n",
    "    print(f\"📁 Pinokio path: {paths['pinokio']}\")\n",
    "\n",
    "    # Mount Google Drive if on Colab\n",
    "    if platform == \"colab\":\n",
    "        detector.mount_google_drive()\n",
    "\n",
    "    # Create directories\n",
    "    detector.create_directories()\n",
    "\n",
    "    # GPU detection (optional)\n",
    "    try:\n",
    "        gpu_info = detector.detect_gpu()\n",
    "        print(f\"🎮 GPU Available: {gpu_info.get('available', False)}\")\n",
    "    except Exception as e:\n",
    "        print(f\"⚠️ GPU detection failed: {e}\")\n",
    "\n",
    "    # Install Pinokio\n",
    "    print(\"📦 Installing Pinokio...\")\n",
    "    installer = PinokioInstaller(paths['pinokio'])\n",
    "    installer.install(headless=True)\n",
    "\n",
    "    # Start Pinokio server\n",
    "    print(\"🚀 Starting Pinokio server...\")\n",
    "    controller = PinokioController(paths['pinokio'])\n",
    "    controller.start_server(headless=True, port=42000)\n",
    "\n",
    "    # Setup tunnel\n",
    "    print(\"🌐 Setting up tunnel...\")\n",
    "    tunnel = TunnelManager()\n",
    "    tunnel_url = tunnel.start_cloudflare_tunnel(42000)\n",
    "\n",
    "    if tunnel_url:\n",
    "        print(f\"\\n🎉 SUCCESS! Manual setup complete!\")\n",
    "        print(f\"🔗 Access Pinokio at: {tunnel_url}\")\n",
    "    else:\n",
    "        print(f\"\\n✅ Pinokio server is running on port 42000\")\n",
    "        print(f\"⚠️ Tunnel setup failed - only local access available\")\n",
    "\n",
    "except Exception as e:\n",
    "    print(f\"❌ Manual setup failed: {e}\")\n",
    "    print(\"💡 Please check the error and try again\")"
   ]
  },
  {
   "cell_type": "markdown",
   "id": "3b5de339",
   "metadata": {
    "id": "tools-header",
    "papermill": {
     "duration": null,
     "end_time": null,
     "exception": null,
     "start_time": null,
     "status": "completed"
    },
    "tags": []
   },
   "source": [
    "## 🤖 Install AI Tools (Optional)"
   ]
  },
  {
   "cell_type": "code",
   "execution_count": null,
   "id": "9d7d9b13",
   "metadata": {
    "colab": {
     "base_uri": "https://localhost:8080/"
    },
    "id": "install-tools",
    "outputId": "bc15f85e-958b-404d-97f1-e2c8a8ce94a4",
    "papermill": {
     "duration": null,
     "end_time": null,
     "exception": null,
     "start_time": null,
     "status": "completed"
    },
    "tags": []
   },
   "outputs": [],
   "source": [
    "# Install specific AI tools if controller is available\n",
    "if 'controller' in locals() and controller:\n",
    "    try:\n",
    "        # Example: Install Stable Diffusion via API\n",
    "        print(\"🎨 Installing Stable Diffusion...\")\n",
    "        tool_url = controller.quick_install_and_launch(\"stable-diffusion\")\n",
    "        if tool_url:\n",
    "            print(f\"✅ Stable Diffusion available at: {tool_url}\")\n",
    "    except Exception as e:\n",
    "        print(f\"ℹ️ Tool installation via API failed: {e}\")\n",
    "        print(\"💡 You can install tools manually through the Pinokio GUI\")\n",
    "elif 'pinokio' in locals() and pinokio:\n",
    "    try:\n",
    "        # Try with main orchestrator\n",
    "        tool_url = pinokio.install_ai_tool(\"stable-diffusion\")\n",
    "        if tool_url:\n",
    "            print(f\"🎨 Stable Diffusion installed: {tool_url}\")\n",
    "    except Exception as e:\n",
    "        print(f\"ℹ️ Automated tool installation not available: {e}\")\n",
    "        print(\"💡 Use the Pinokio GUI to browse and install tools\")\n",
    "else:\n",
    "    print(\"💡 Run a setup cell first to enable tool installation\")"
   ]
  },
  {
   "cell_type": "markdown",
   "id": "3c9b9aca",
   "metadata": {
    "id": "status-header",
    "papermill": {
     "duration": null,
     "end_time": null,
     "exception": null,
     "start_time": null,
     "status": "completed"
    },
    "tags": []
   },
   "source": [
    "## 📊 Status Check"
   ]
  },
  {
   "cell_type": "code",
   "execution_count": null,
   "id": "150f04fd",
   "metadata": {
    "colab": {
     "base_uri": "https://localhost:8080/"
    },
    "id": "status-check",
    "outputId": "708a45c7-f30e-41ee-8af6-3152b6ed18f7",
    "papermill": {
     "duration": null,
     "end_time": null,
     "exception": null,
     "start_time": null,
     "status": "completed"
    },
    "tags": []
   },
   "outputs": [],
   "source": [
    "# Check what's running\n",
    "print(\"📊 CURRENT STATUS\")\n",
    "print(\"=\" * 30)\n",
    "\n",
    "# Check if variables exist and services are running\n",
    "if 'pinokio' in locals():\n",
    "    try:\n",
    "        pinokio.print_status()\n",
    "    except Exception as e:\n",
    "        print(f\"⚠️ Status check failed: {e}\")\n",
    "elif 'controller' in locals():\n",
    "    try:\n",
    "        running = controller.is_running()\n",
    "        print(f\"🚀 Pinokio Server: {'✅ Running' if running else '❌ Stopped'}\")\n",
    "        if 'tunnel_url' in locals() and tunnel_url:\n",
    "            print(f\"🌐 Tunnel URL: {tunnel_url}\")\n",
    "    except Exception as e:\n",
    "        print(f\"⚠️ Controller status check failed: {e}\")\n",
    "else:\n",
    "    print(\"❌ No Pinokio instance found\")\n",
    "    print(\"💡 Run one of the setup cells above first\")\n",
    "\n",
    "# Show running processes\n",
    "print(\"\\n🔍 Checking for Pinokio processes...\")\n",
    "try:\n",
    "    result = !ps aux | grep -i pinokio | grep -v grep\n",
    "    if result:\n",
    "        print(\"✅ Found Pinokio processes:\")\n",
    "        for line in result:\n",
    "            print(f\"  {line}\")\n",
    "    else:\n",
    "        print(\"❌ No Pinokio processes found\")\n",
    "except:\n",
    "    print(\"⚠️ Could not check processes\")"
   ]
  },
  {
   "cell_type": "markdown",
   "id": "f5a2de9b",
   "metadata": {
    "id": "cleanup-header",
    "papermill": {
     "duration": null,
     "end_time": null,
     "exception": null,
     "start_time": null,
     "status": "completed"
    },
    "tags": []
   },
   "source": [
    "## 🧹 Cleanup (Run when finished)"
   ]
  },
  {
   "cell_type": "code",
   "execution_count": null,
   "id": "c3117a7b",
   "metadata": {
    "id": "cleanup-cell",
    "papermill": {
     "duration": null,
     "end_time": null,
     "exception": null,
     "start_time": null,
     "status": "completed"
    },
    "tags": []
   },
   "outputs": [],
   "source": [
    "# Stop all services (uncomment when done)\n",
    "# print(\"🧹 Stopping all services...\")\n",
    "#\n",
    "# if 'pinokio' in locals():\n",
    "#     try:\n",
    "#         pinokio.cleanup()\n",
    "#         print(\"✅ Main orchestrator cleanup complete\")\n",
    "#     except Exception as e:\n",
    "#         print(f\"⚠️ Main cleanup error: {e}\")\n",
    "#\n",
    "# if 'controller' in locals():\n",
    "#     try:\n",
    "#         controller.stop_server()\n",
    "#         print(\"✅ Pinokio server stopped\")\n",
    "#     except Exception as e:\n",
    "#         print(f\"⚠️ Server stop error: {e}\")\n",
    "#\n",
    "# if 'tunnel' in locals():\n",
    "#     try:\n",
    "#         tunnel.stop_all_tunnels()\n",
    "#         print(\"✅ All tunnels stopped\")\n",
    "#     except Exception as e:\n",
    "#         print(f\"⚠️ Tunnel stop error: {e}\")\n",
    "#\n",
    "# print(\"✅ Cleanup complete\")"
   ]
  },
  {
   "cell_type": "markdown",
   "id": "91978a8b",
   "metadata": {
    "id": "help-header",
    "papermill": {
     "duration": null,
     "end_time": null,
     "exception": null,
     "start_time": null,
     "status": "completed"
    },
    "tags": []
   },
   "source": [
    "## 💡 Help & Troubleshooting\n",
    "\n",
    "**🎯 What This Does:**\n",
    "- Starts the **complete Pinokio web interface**\n",
    "- Gives you access to the **entire AI tool library** (500+ tools)\n",
    "- Creates a public URL to access the GUI from anywhere\n",
    "\n",
    "**🖱️ How to Use:**\n",
    "1. Run the \"Quick Start\" cell above\n",
    "2. Click the tunnel URL when it appears\n",
    "3. Browse the \"Discover\" tab in Pinokio GUI\n",
    "4. One-click install any AI tool from the library\n",
    "\n",
    "**🔧 If Quick Start Fails:**\n",
    "1. Try the \"Manual Step-by-Step\" approach\n",
    "2. Check the \"Status Check\" section to see what's running\n",
    "3. Look for error messages and troubleshoot accordingly\n",
    "\n",
    "**🚨 Common Issues:**\n",
    "- **KeyError: 'memory'** → Fixed in this version, should work now\n",
    "- **Import errors** → Re-run the setup cell\n",
    "- **GPU not detected** → Enable GPU runtime in Colab settings\n",
    "- **Tunnel fails** → Server still works locally on port 42000\n",
    "\n",
    "**🛠️ Available Tools Include:**\n",
    "- Stable Diffusion WebUI variants\n",
    "- ComfyUI and custom nodes\n",
    "- Text generation models\n",
    "- Image upscalers and processors  \n",
    "- Voice synthesis tools\n",
    "- Video generation models\n",
    "- Training and fine-tuning tools\n",
    "\n",
    "**💬 Support:** [GitHub Issues](https://github.com/remphanostar/SD-LongNose/issues)"
   ]
  }
 ],
 "metadata": {
  "accelerator": "GPU",
  "colab": {
   "gpuType": "T4",
   "provenance": []
  },
  "kernelspec": {
   "display_name": "Python 3",
   "name": "python3"
  },
  "language_info": {
   "name": "python"
  },
  "papermill": {
   "default_parameters": {},
   "duration": 19.231113,
   "end_time": "2025-09-01T02:11:07.580135",
   "environment_variables": {},
   "exception": null,
   "input_path": "Pinokio_Colab_Final(1).ipynb",
   "output_path": "test_outputs\\test_result_20250901_141048.ipynb",
   "parameters": {},
   "start_time": "2025-09-01T02:10:48.349022",
   "version": "2.6.0"
  }
 },
 "nbformat": 4,
 "nbformat_minor": 5
}