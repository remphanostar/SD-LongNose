{
 "cells": [
  {
   "cell_type": "markdown",
   "metadata": {
    "id": "header"
   },
   "source": [
    "# 🚀 Pinokio Cloud GPU - Google Colab (Final)\n",
    "\n",
    "**One-click deployment of Pinokio AI tools on Google Colab**\n",
    "\n",
    "This notebook automatically sets up Pinokio with AI tools like Stable Diffusion, ComfyUI, and more.\n",
    "\n",
    "---"
   ]
  },
  {
   "cell_type": "code",
   "execution_count": 1,
   "metadata": {
    "cellView": "form",
    "colab": {
     "base_uri": "https://localhost:8080/"
    },
    "execution": {
     "iopub.execute_input": "2025-09-01T04:59:36.507828Z",
     "iopub.status.busy": "2025-09-01T04:59:36.507508Z",
     "iopub.status.idle": "2025-09-01T04:59:39.513088Z",
     "shell.execute_reply": "2025-09-01T04:59:39.512297Z"
    },
    "id": "setup-cell",
    "outputId": "b45bb59c-706d-4027-c55f-750aa4be499e"
   },
   "outputs": [
    {
     "name": "stdout",
     "output_type": "stream",
     "text": [
      "Note: you may need to restart the kernel to use updated packages.\n",
      "✅ Setup complete\n"
     ]
    }
   ],
   "source": [
    "#@title 📦 Setup & Installation repository and dependencies\n",
    "import os\n",
    "import subprocess\n",
    "import sys\n",
    "\n",
    "# Clone the enhanced Pinokio repository\n",
    "if not os.path.exists(\"SD-LongNose\"):\n",
    "    print(\"📥 Cloning Pinokio repository...\")\n",
    "    !git clone https://github.com/remphanostar/SD-LongNose.git\n",
    "    print(\"✅ Repository cloned\")\n",
    "\n",
    "# Change to repository directory and add to path\n",
    "os.chdir(\"SD-LongNose\")\n",
    "sys.path.insert(0, '.')\n",
    "sys.path.insert(0, 'modules')\n",
    "\n",
    "# Install dependencies with better error handling\n",
    "%pip install -q requests pyngrok psutil\n",
    "\n",
    "print(\"✅ Setup complete\")"
   ]
  },
  {
   "cell_type": "code",
   "execution_count": 2,
   "metadata": {
    "cellView": "form",
    "colab": {
     "base_uri": "https://localhost:8080/"
    },
    "execution": {
     "iopub.execute_input": "2025-09-01T04:59:39.557812Z",
     "iopub.status.busy": "2025-09-01T04:59:39.556466Z",
     "iopub.status.idle": "2025-09-01T05:00:10.883286Z",
     "shell.execute_reply": "2025-09-01T05:00:10.882822Z"
    },
    "id": "quickstart",
    "outputId": "3a97d335-a7c6-4ae0-a71d-1325a79615b9"
   },
   "outputs": [
    {
     "name": "stderr",
     "output_type": "stream",
     "text": [
      "2025-09-01 16:59:40,273 - PinokioCloudGPU - WARNING - Failed to load state: 'str' object has no attribute 'value', using fresh state\n"
     ]
    },
    {
     "name": "stderr",
     "output_type": "stream",
     "text": [
      "2025-09-01 16:59:40,275 - PinokioCloudGPU - INFO - State updated: setting_up\n"
     ]
    },
    {
     "name": "stderr",
     "output_type": "stream",
     "text": [
      "2025-09-01 16:59:40,276 - PinokioCloudGPU - INFO - Setting up Pinokio Cloud GPU environment...\n"
     ]
    },
    {
     "name": "stderr",
     "output_type": "stream",
     "text": [
      "2025-09-01 16:59:40,279 - PlatformDetector - INFO - Platform detected by _detect_by_env_vars: colab\n"
     ]
    },
    {
     "name": "stderr",
     "output_type": "stream",
     "text": [
      "2025-09-01 16:59:40,280 - PinokioCloudGPU - INFO - Mounting Google Drive for Colab...\n"
     ]
    },
    {
     "name": "stderr",
     "output_type": "stream",
     "text": [
      "2025-09-01 16:59:40,282 - PlatformDetector - ERROR - google.colab module not available\n"
     ]
    },
    {
     "name": "stderr",
     "output_type": "stream",
     "text": [
      "2025-09-01 16:59:40,283 - PinokioCloudGPU - WARNING - Google Drive mount failed, continuing anyway\n"
     ]
    },
    {
     "name": "stderr",
     "output_type": "stream",
     "text": [
      "2025-09-01 16:59:40,285 - PlatformDetector - INFO - ✅ Created 10 Pinokio directories at /content/pinokio\n"
     ]
    },
    {
     "name": "stderr",
     "output_type": "stream",
     "text": [
      "2025-09-01 16:59:40,331 - PinokioCloudGPU - INFO - State updated: setup_complete\n"
     ]
    },
    {
     "name": "stderr",
     "output_type": "stream",
     "text": [
      "2025-09-01 16:59:40,332 - PinokioCloudGPU - INFO - Environment setup complete\n"
     ]
    },
    {
     "name": "stderr",
     "output_type": "stream",
     "text": [
      "2025-09-01 16:59:40,333 - PinokioCloudGPU - INFO - State updated: installing\n"
     ]
    },
    {
     "name": "stderr",
     "output_type": "stream",
     "text": [
      "2025-09-01 16:59:40,333 - PinokioCloudGPU - INFO - Installing Pinokio...\n"
     ]
    },
    {
     "name": "stderr",
     "output_type": "stream",
     "text": [
      "2025-09-01 16:59:40,335 - PinokioCloudGPU - INFO - Pinokio already installed, skipping installation\n"
     ]
    },
    {
     "name": "stderr",
     "output_type": "stream",
     "text": [
      "2025-09-01 16:59:40,336 - PinokioCloudGPU - INFO - State updated: installation_complete\n"
     ]
    },
    {
     "name": "stderr",
     "output_type": "stream",
     "text": [
      "2025-09-01 16:59:40,337 - PinokioCloudGPU - INFO - State updated: starting_server\n"
     ]
    },
    {
     "name": "stderr",
     "output_type": "stream",
     "text": [
      "2025-09-01 16:59:40,338 - PinokioCloudGPU - INFO - Starting Pinokio server on port 42000...\n"
     ]
    },
    {
     "name": "stderr",
     "output_type": "stream",
     "text": [
      "2025-09-01 16:59:40,343 - pinokio_controller - INFO - 🚀 Starting Pinokio server on port 42000...\n"
     ]
    },
    {
     "name": "stderr",
     "output_type": "stream",
     "text": [
      "2025-09-01 16:59:40,344 - pinokio_controller - ERROR - ❌ Failed to start Pinokio server: Pinokio binary not found at /content/pinokio\\Pinokio.exe\n"
     ]
    },
    {
     "name": "stderr",
     "output_type": "stream",
     "text": [
      "2025-09-01 16:59:40,345 - pinokio_controller - WARNING - start_server failed (attempt 1/3): Pinokio binary not found at /content/pinokio\\Pinokio.exe. Retrying in 2.0s...\n"
     ]
    },
    {
     "name": "stdout",
     "output_type": "stream",
     "text": [
      "🚀 PINOKIO CLOUD GPU - QUICK START\n",
      "==================================================\n",
      "🔍 Setting up environment...\n",
      "============================================================\n",
      "🔍 PLATFORM DETECTION SUMMARY\n",
      "============================================================\n",
      "Platform: colab\n",
      "Pinokio Path: /content/pinokio\n",
      "Data Path: /content\n",
      "\n",
      "📊 GPU Information:\n",
      "  Available: False\n",
      "\n",
      "💾 Memory: 31.9 GB\n",
      "💿 Disk: 11.0 GB free of 110.7 GB\n",
      "============================================================\n",
      "✅ Environment setup complete\n",
      "📦 Installing Pinokio...\n",
      "✅ Pinokio installation complete\n",
      "🚀 Starting Pinokio server...\n"
     ]
    },
    {
     "name": "stderr",
     "output_type": "stream",
     "text": [
      "2025-09-01 16:59:42,346 - pinokio_controller - INFO - 🚀 Starting Pinokio server on port 42000...\n"
     ]
    },
    {
     "name": "stderr",
     "output_type": "stream",
     "text": [
      "2025-09-01 16:59:42,347 - pinokio_controller - ERROR - ❌ Failed to start Pinokio server: Pinokio binary not found at /content/pinokio\\Pinokio.exe\n"
     ]
    },
    {
     "name": "stderr",
     "output_type": "stream",
     "text": [
      "2025-09-01 16:59:42,348 - pinokio_controller - WARNING - start_server failed (attempt 2/3): Pinokio binary not found at /content/pinokio\\Pinokio.exe. Retrying in 4.0s...\n"
     ]
    },
    {
     "name": "stderr",
     "output_type": "stream",
     "text": [
      "2025-09-01 16:59:46,349 - pinokio_controller - INFO - 🚀 Starting Pinokio server on port 42000...\n"
     ]
    },
    {
     "name": "stderr",
     "output_type": "stream",
     "text": [
      "2025-09-01 16:59:46,350 - pinokio_controller - ERROR - ❌ Failed to start Pinokio server: Pinokio binary not found at /content/pinokio\\Pinokio.exe\n"
     ]
    },
    {
     "name": "stderr",
     "output_type": "stream",
     "text": [
      "2025-09-01 16:59:46,350 - pinokio_controller - ERROR - start_server failed after 3 attempts: Pinokio binary not found at /content/pinokio\\Pinokio.exe\n"
     ]
    },
    {
     "name": "stderr",
     "output_type": "stream",
     "text": [
      "2025-09-01 16:59:46,352 - PinokioCloudGPU - INFO - State updated: error\n"
     ]
    },
    {
     "name": "stderr",
     "output_type": "stream",
     "text": [
      "2025-09-01 16:59:46,352 - PinokioCloudGPU - ERROR - Failed to start Pinokio: Pinokio binary not found at /content/pinokio\\Pinokio.exe\n"
     ]
    },
    {
     "name": "stderr",
     "output_type": "stream",
     "text": [
      "2025-09-01 16:59:46,353 - PinokioCloudGPU - WARNING - start_pinokio failed (attempt 1/3): Pinokio binary not found at /content/pinokio\\Pinokio.exe. Retrying in 5.0s...\n"
     ]
    },
    {
     "name": "stderr",
     "output_type": "stream",
     "text": [
      "2025-09-01 16:59:51,355 - PinokioCloudGPU - INFO - State updated: starting_server\n"
     ]
    },
    {
     "name": "stderr",
     "output_type": "stream",
     "text": [
      "2025-09-01 16:59:51,356 - PinokioCloudGPU - INFO - Starting Pinokio server on port 42000...\n"
     ]
    },
    {
     "name": "stderr",
     "output_type": "stream",
     "text": [
      "2025-09-01 16:59:51,357 - pinokio_controller - INFO - 🚀 Starting Pinokio server on port 42000...\n"
     ]
    },
    {
     "name": "stderr",
     "output_type": "stream",
     "text": [
      "2025-09-01 16:59:51,358 - pinokio_controller - ERROR - ❌ Failed to start Pinokio server: Pinokio binary not found at /content/pinokio\\Pinokio.exe\n"
     ]
    },
    {
     "name": "stderr",
     "output_type": "stream",
     "text": [
      "2025-09-01 16:59:51,359 - pinokio_controller - WARNING - start_server failed (attempt 1/3): Pinokio binary not found at /content/pinokio\\Pinokio.exe. Retrying in 2.0s...\n"
     ]
    },
    {
     "name": "stderr",
     "output_type": "stream",
     "text": [
      "2025-09-01 16:59:53,361 - pinokio_controller - INFO - 🚀 Starting Pinokio server on port 42000...\n"
     ]
    },
    {
     "name": "stderr",
     "output_type": "stream",
     "text": [
      "2025-09-01 16:59:53,362 - pinokio_controller - ERROR - ❌ Failed to start Pinokio server: Pinokio binary not found at /content/pinokio\\Pinokio.exe\n"
     ]
    },
    {
     "name": "stderr",
     "output_type": "stream",
     "text": [
      "2025-09-01 16:59:53,362 - pinokio_controller - WARNING - start_server failed (attempt 2/3): Pinokio binary not found at /content/pinokio\\Pinokio.exe. Retrying in 4.0s...\n"
     ]
    },
    {
     "name": "stderr",
     "output_type": "stream",
     "text": [
      "2025-09-01 16:59:57,363 - pinokio_controller - INFO - 🚀 Starting Pinokio server on port 42000...\n"
     ]
    },
    {
     "name": "stderr",
     "output_type": "stream",
     "text": [
      "2025-09-01 16:59:57,365 - pinokio_controller - ERROR - ❌ Failed to start Pinokio server: Pinokio binary not found at /content/pinokio\\Pinokio.exe\n"
     ]
    },
    {
     "name": "stderr",
     "output_type": "stream",
     "text": [
      "2025-09-01 16:59:57,365 - pinokio_controller - ERROR - start_server failed after 3 attempts: Pinokio binary not found at /content/pinokio\\Pinokio.exe\n"
     ]
    },
    {
     "name": "stderr",
     "output_type": "stream",
     "text": [
      "2025-09-01 16:59:57,366 - PinokioCloudGPU - INFO - State updated: error\n"
     ]
    },
    {
     "name": "stderr",
     "output_type": "stream",
     "text": [
      "2025-09-01 16:59:57,367 - PinokioCloudGPU - ERROR - Failed to start Pinokio: Pinokio binary not found at /content/pinokio\\Pinokio.exe\n"
     ]
    },
    {
     "name": "stderr",
     "output_type": "stream",
     "text": [
      "2025-09-01 16:59:57,368 - PinokioCloudGPU - WARNING - start_pinokio failed (attempt 2/3): Pinokio binary not found at /content/pinokio\\Pinokio.exe. Retrying in 7.5s...\n"
     ]
    },
    {
     "name": "stderr",
     "output_type": "stream",
     "text": [
      "2025-09-01 17:00:04,870 - PinokioCloudGPU - INFO - State updated: starting_server\n"
     ]
    },
    {
     "name": "stderr",
     "output_type": "stream",
     "text": [
      "2025-09-01 17:00:04,871 - PinokioCloudGPU - INFO - Starting Pinokio server on port 42000...\n"
     ]
    },
    {
     "name": "stderr",
     "output_type": "stream",
     "text": [
      "2025-09-01 17:00:04,872 - pinokio_controller - INFO - 🚀 Starting Pinokio server on port 42000...\n"
     ]
    },
    {
     "name": "stderr",
     "output_type": "stream",
     "text": [
      "2025-09-01 17:00:04,873 - pinokio_controller - ERROR - ❌ Failed to start Pinokio server: Pinokio binary not found at /content/pinokio\\Pinokio.exe\n"
     ]
    },
    {
     "name": "stderr",
     "output_type": "stream",
     "text": [
      "2025-09-01 17:00:04,874 - pinokio_controller - WARNING - start_server failed (attempt 1/3): Pinokio binary not found at /content/pinokio\\Pinokio.exe. Retrying in 2.0s...\n"
     ]
    },
    {
     "name": "stderr",
     "output_type": "stream",
     "text": [
      "2025-09-01 17:00:06,875 - pinokio_controller - INFO - 🚀 Starting Pinokio server on port 42000...\n"
     ]
    },
    {
     "name": "stderr",
     "output_type": "stream",
     "text": [
      "2025-09-01 17:00:06,876 - pinokio_controller - ERROR - ❌ Failed to start Pinokio server: Pinokio binary not found at /content/pinokio\\Pinokio.exe\n"
     ]
    },
    {
     "name": "stderr",
     "output_type": "stream",
     "text": [
      "2025-09-01 17:00:06,876 - pinokio_controller - WARNING - start_server failed (attempt 2/3): Pinokio binary not found at /content/pinokio\\Pinokio.exe. Retrying in 4.0s...\n"
     ]
    },
    {
     "name": "stderr",
     "output_type": "stream",
     "text": [
      "2025-09-01 17:00:10,877 - pinokio_controller - INFO - 🚀 Starting Pinokio server on port 42000...\n"
     ]
    },
    {
     "name": "stderr",
     "output_type": "stream",
     "text": [
      "2025-09-01 17:00:10,878 - pinokio_controller - ERROR - ❌ Failed to start Pinokio server: Pinokio binary not found at /content/pinokio\\Pinokio.exe\n"
     ]
    },
    {
     "name": "stderr",
     "output_type": "stream",
     "text": [
      "2025-09-01 17:00:10,878 - pinokio_controller - ERROR - start_server failed after 3 attempts: Pinokio binary not found at /content/pinokio\\Pinokio.exe\n"
     ]
    },
    {
     "name": "stderr",
     "output_type": "stream",
     "text": [
      "2025-09-01 17:00:10,879 - PinokioCloudGPU - INFO - State updated: error\n"
     ]
    },
    {
     "name": "stderr",
     "output_type": "stream",
     "text": [
      "2025-09-01 17:00:10,880 - PinokioCloudGPU - ERROR - Failed to start Pinokio: Pinokio binary not found at /content/pinokio\\Pinokio.exe\n"
     ]
    },
    {
     "name": "stderr",
     "output_type": "stream",
     "text": [
      "2025-09-01 17:00:10,880 - PinokioCloudGPU - ERROR - start_pinokio failed after 3 attempts: Pinokio binary not found at /content/pinokio\\Pinokio.exe\n"
     ]
    },
    {
     "name": "stdout",
     "output_type": "stream",
     "text": [
      "❌ Server startup failed: Pinokio binary not found at /content/pinokio\\Pinokio.exe\n",
      "❌ Setup failed: Pinokio binary not found at /content/pinokio\\Pinokio.exe\n",
      "💡 Try running the 'Manual Step-by-Step' section below\n"
     ]
    }
   ],
   "source": [
    "#@title 🚀 Quick Start (Recommended) with error recovery\n",
    "try:\n",
    "    from pinokio_cloud_main import PinokioCloudGPU\n",
    "\n",
    "    print(\"🚀 PINOKIO CLOUD GPU - QUICK START\")\n",
    "    print(\"=\" * 50)\n",
    "\n",
    "    # Initialize with robust error handling\n",
    "    pinokio = PinokioCloudGPU(log_level=\"INFO\")\n",
    "\n",
    "    # Step-by-step setup with individual error handling\n",
    "    print(\"🔍 Setting up environment...\")\n",
    "    try:\n",
    "        pinokio.setup()\n",
    "        print(\"✅ Environment setup complete\")\n",
    "    except Exception as e:\n",
    "        print(f\"⚠️ Environment setup had issues: {e}\")\n",
    "        print(\"Continuing with reduced functionality...\")\n",
    "\n",
    "    print(\"📦 Installing Pinokio...\")\n",
    "    try:\n",
    "        pinokio.install_pinokio()\n",
    "        print(\"✅ Pinokio installation complete\")\n",
    "    except Exception as e:\n",
    "        print(f\"❌ Pinokio installation failed: {e}\")\n",
    "        raise\n",
    "\n",
    "    print(\"🚀 Starting Pinokio server...\")\n",
    "    try:\n",
    "        pinokio.start_pinokio()\n",
    "        print(\"✅ Pinokio server started\")\n",
    "    except Exception as e:\n",
    "        print(f\"❌ Server startup failed: {e}\")\n",
    "        raise\n",
    "\n",
    "    print(\"🌐 Setting up tunnel...\")\n",
    "    tunnel_url = None\n",
    "    try:\n",
    "        tunnel_url = pinokio.setup_tunnel()\n",
    "        if tunnel_url:\n",
    "            print(f\"✅ Tunnel created successfully\")\n",
    "        else:\n",
    "            print(\"⚠️ Tunnel setup failed, but server is running locally\")\n",
    "    except Exception as e:\n",
    "        print(f\"⚠️ Tunnel setup error: {e}\")\n",
    "\n",
    "    # Final status\n",
    "    if tunnel_url:\n",
    "        print(f\"\\n🎉 SUCCESS! Access your Pinokio interface at:\")\n",
    "        print(f\"🔗 {tunnel_url}\")\n",
    "        print(f\"\\n📱 Click the link above to open Pinokio in your browser!\")\n",
    "        print(f\"🤖 You can browse and install from the entire AI tool library!\")\n",
    "    else:\n",
    "        print(f\"\\n⚠️ Setup completed but tunnel unavailable\")\n",
    "        print(f\"🖥️ Pinokio is running locally on port 42000\")\n",
    "\n",
    "    # Show final status\n",
    "    try:\n",
    "        pinokio.print_status()\n",
    "    except:\n",
    "        pass\n",
    "\n",
    "except ImportError as e:\n",
    "    print(f\"❌ Import error: {e}\")\n",
    "    print(\"💡 Please run the setup cell first\")\n",
    "except Exception as e:\n",
    "    print(f\"❌ Setup failed: {e}\")\n",
    "    print(\"💡 Try running the 'Manual Step-by-Step' section below\")"
   ]
  },
  {
   "cell_type": "code",
   "execution_count": 3,
   "metadata": {
    "colab": {
     "base_uri": "https://localhost:8080/"
    },
    "execution": {
     "iopub.execute_input": "2025-09-01T05:00:10.887825Z",
     "iopub.status.busy": "2025-09-01T05:00:10.887410Z",
     "iopub.status.idle": "2025-09-01T05:00:16.954875Z",
     "shell.execute_reply": "2025-09-01T05:00:16.954392Z"
    },
    "id": "manual-setup",
    "outputId": "c895f4a7-491a-42ae-ddde-b6a4192cc9b6"
   },
   "outputs": [
    {
     "name": "stderr",
     "output_type": "stream",
     "text": [
      "2025-09-01 17:00:10,900 - PlatformDetector - INFO - Platform detected by _detect_by_env_vars: colab\n"
     ]
    },
    {
     "name": "stderr",
     "output_type": "stream",
     "text": [
      "2025-09-01 17:00:10,901 - PlatformDetector - ERROR - google.colab module not available\n"
     ]
    },
    {
     "name": "stderr",
     "output_type": "stream",
     "text": [
      "2025-09-01 17:00:10,905 - PlatformDetector - INFO - ✅ Created 10 Pinokio directories at /content/pinokio\n"
     ]
    },
    {
     "name": "stdout",
     "output_type": "stream",
     "text": [
      "🔍 Detecting platform...\n",
      "✅ Platform detected: colab\n",
      "📁 Pinokio path: /content/pinokio\n",
      "🎮 GPU Available: False\n",
      "📦 Installing Pinokio...\n",
      "2025-09-01 17:00:10,942 - PinokioInstaller - INFO - ✅ Pinokio already installed\n"
     ]
    },
    {
     "name": "stderr",
     "output_type": "stream",
     "text": [
      "2025-09-01 17:00:10,943 - modules.pinokio_controller - INFO - 🚀 Starting Pinokio server on port 42000...\n"
     ]
    },
    {
     "name": "stderr",
     "output_type": "stream",
     "text": [
      "2025-09-01 17:00:10,943 - modules.pinokio_controller - ERROR - ❌ Failed to start Pinokio server: Pinokio binary not found at /content/pinokio\\Pinokio.exe\n"
     ]
    },
    {
     "name": "stderr",
     "output_type": "stream",
     "text": [
      "2025-09-01 17:00:10,944 - modules.pinokio_controller - WARNING - start_server failed (attempt 1/3): Pinokio binary not found at /content/pinokio\\Pinokio.exe. Retrying in 2.0s...\n"
     ]
    },
    {
     "name": "stdout",
     "output_type": "stream",
     "text": [
      "🚀 Starting Pinokio server...\n"
     ]
    },
    {
     "name": "stderr",
     "output_type": "stream",
     "text": [
      "2025-09-01 17:00:12,945 - modules.pinokio_controller - INFO - 🚀 Starting Pinokio server on port 42000...\n"
     ]
    },
    {
     "name": "stderr",
     "output_type": "stream",
     "text": [
      "2025-09-01 17:00:12,946 - modules.pinokio_controller - ERROR - ❌ Failed to start Pinokio server: Pinokio binary not found at /content/pinokio\\Pinokio.exe\n"
     ]
    },
    {
     "name": "stderr",
     "output_type": "stream",
     "text": [
      "2025-09-01 17:00:12,946 - modules.pinokio_controller - WARNING - start_server failed (attempt 2/3): Pinokio binary not found at /content/pinokio\\Pinokio.exe. Retrying in 4.0s...\n"
     ]
    },
    {
     "name": "stderr",
     "output_type": "stream",
     "text": [
      "2025-09-01 17:00:16,947 - modules.pinokio_controller - INFO - 🚀 Starting Pinokio server on port 42000...\n"
     ]
    },
    {
     "name": "stderr",
     "output_type": "stream",
     "text": [
      "2025-09-01 17:00:16,948 - modules.pinokio_controller - ERROR - ❌ Failed to start Pinokio server: Pinokio binary not found at /content/pinokio\\Pinokio.exe\n"
     ]
    },
    {
     "name": "stderr",
     "output_type": "stream",
     "text": [
      "2025-09-01 17:00:16,950 - modules.pinokio_controller - ERROR - start_server failed after 3 attempts: Pinokio binary not found at /content/pinokio\\Pinokio.exe\n"
     ]
    },
    {
     "name": "stdout",
     "output_type": "stream",
     "text": [
      "❌ Manual setup failed: Pinokio binary not found at /content/pinokio\\Pinokio.exe\n",
      "💡 Please check the error and try again\n"
     ]
    }
   ],
   "source": [
    "#@title 🛠️ Manual Step-by-Step (If Quick Start Fails) with maximum error recovery\n",
    "try:\n",
    "    # Import modules directly\n",
    "    from modules.platform_detector import PlatformDetector\n",
    "    from modules.pinokio_installer import PinokioInstaller\n",
    "    from modules.tunnel_manager import TunnelManager\n",
    "    from modules.pinokio_controller import PinokioController\n",
    "\n",
    "    print(\"🔍 Detecting platform...\")\n",
    "    detector = PlatformDetector()\n",
    "    platform = detector.detect_platform()\n",
    "    paths = detector.setup_paths()\n",
    "\n",
    "    print(f\"✅ Platform detected: {platform}\")\n",
    "    print(f\"📁 Pinokio path: {paths['pinokio']}\")\n",
    "\n",
    "    # Mount Google Drive if on Colab\n",
    "    if platform == \"colab\":\n",
    "        detector.mount_google_drive()\n",
    "\n",
    "    # Create directories\n",
    "    detector.create_directories()\n",
    "\n",
    "    # GPU detection (optional)\n",
    "    try:\n",
    "        gpu_info = detector.detect_gpu()\n",
    "        print(f\"🎮 GPU Available: {gpu_info.get('available', False)}\")\n",
    "    except Exception as e:\n",
    "        print(f\"⚠️ GPU detection failed: {e}\")\n",
    "\n",
    "    # Install Pinokio\n",
    "    print(\"📦 Installing Pinokio...\")\n",
    "    installer = PinokioInstaller(paths['pinokio'])\n",
    "    installer.install(headless=True)\n",
    "\n",
    "    # Start Pinokio server\n",
    "    print(\"🚀 Starting Pinokio server...\")\n",
    "    controller = PinokioController(paths['pinokio'])\n",
    "    controller.start_server(headless=True, port=42000)\n",
    "\n",
    "    # Setup tunnel\n",
    "    print(\"🌐 Setting up tunnel...\")\n",
    "    tunnel = TunnelManager()\n",
    "    tunnel_url = tunnel.start_cloudflare_tunnel(42000)\n",
    "\n",
    "    if tunnel_url:\n",
    "        print(f\"\\n🎉 SUCCESS! Manual setup complete!\")\n",
    "        print(f\"🔗 Access Pinokio at: {tunnel_url}\")\n",
    "    else:\n",
    "        print(f\"\\n✅ Pinokio server is running on port 42000\")\n",
    "        print(f\"⚠️ Tunnel setup failed - only local access available\")\n",
    "\n",
    "except Exception as e:\n",
    "    print(f\"❌ Manual setup failed: {e}\")\n",
    "    print(\"💡 Please check the error and try again\")"
   ]
  },
  {
   "cell_type": "code",
   "execution_count": 4,
   "metadata": {
    "colab": {
     "base_uri": "https://localhost:8080/"
    },
    "execution": {
     "iopub.execute_input": "2025-09-01T05:00:16.957938Z",
     "iopub.status.busy": "2025-09-01T05:00:16.957525Z",
     "iopub.status.idle": "2025-09-01T05:00:49.138697Z",
     "shell.execute_reply": "2025-09-01T05:00:49.138027Z"
    },
    "id": "install-tools",
    "outputId": "23309e68-340e-4d08-d3f4-702c5b176ffc"
   },
   "outputs": [
    {
     "name": "stderr",
     "output_type": "stream",
     "text": [
      "2025-09-01 17:00:16,960 - modules.pinokio_controller - INFO - 🚀 Quick install and launch: stable-diffusion\n"
     ]
    },
    {
     "name": "stderr",
     "output_type": "stream",
     "text": [
      "2025-09-01 17:00:16,961 - modules.pinokio_controller - INFO - 📦 Installing app from https://github.com/AUTOMATIC1111/stable-diffusion-webui...\n"
     ]
    },
    {
     "name": "stdout",
     "output_type": "stream",
     "text": [
      "🎨 Installing Stable Diffusion...\n"
     ]
    },
    {
     "name": "stderr",
     "output_type": "stream",
     "text": [
      "2025-09-01 17:00:20,995 - modules.pinokio_controller - WARNING - rpc_call failed (attempt 1/3): Pinokio server is not running. Retrying in 1.0s...\n"
     ]
    },
    {
     "name": "stderr",
     "output_type": "stream",
     "text": [
      "2025-09-01 17:00:26,018 - modules.pinokio_controller - WARNING - rpc_call failed (attempt 2/3): Pinokio server is not running. Retrying in 2.0s...\n"
     ]
    },
    {
     "name": "stderr",
     "output_type": "stream",
     "text": [
      "2025-09-01 17:00:32,049 - modules.pinokio_controller - ERROR - rpc_call failed after 3 attempts: Pinokio server is not running\n"
     ]
    },
    {
     "name": "stderr",
     "output_type": "stream",
     "text": [
      "2025-09-01 17:00:32,051 - modules.pinokio_controller - ERROR - ❌ App installation failed: Pinokio server is not running\n"
     ]
    },
    {
     "name": "stderr",
     "output_type": "stream",
     "text": [
      "2025-09-01 17:00:32,052 - modules.pinokio_controller - WARNING - install_app failed (attempt 1/2): Pinokio server is not running. Retrying in 2.0s...\n"
     ]
    },
    {
     "name": "stderr",
     "output_type": "stream",
     "text": [
      "2025-09-01 17:00:34,052 - modules.pinokio_controller - INFO - 📦 Installing app from https://github.com/AUTOMATIC1111/stable-diffusion-webui...\n"
     ]
    },
    {
     "name": "stderr",
     "output_type": "stream",
     "text": [
      "2025-09-01 17:00:38,079 - modules.pinokio_controller - WARNING - rpc_call failed (attempt 1/3): Pinokio server is not running. Retrying in 1.0s...\n"
     ]
    },
    {
     "name": "stderr",
     "output_type": "stream",
     "text": [
      "2025-09-01 17:00:43,102 - modules.pinokio_controller - WARNING - rpc_call failed (attempt 2/3): Pinokio server is not running. Retrying in 2.0s...\n"
     ]
    },
    {
     "name": "stderr",
     "output_type": "stream",
     "text": [
      "2025-09-01 17:00:49,132 - modules.pinokio_controller - ERROR - rpc_call failed after 3 attempts: Pinokio server is not running\n"
     ]
    },
    {
     "name": "stderr",
     "output_type": "stream",
     "text": [
      "2025-09-01 17:00:49,134 - modules.pinokio_controller - ERROR - ❌ App installation failed: Pinokio server is not running\n"
     ]
    },
    {
     "name": "stderr",
     "output_type": "stream",
     "text": [
      "2025-09-01 17:00:49,134 - modules.pinokio_controller - ERROR - install_app failed after 2 attempts: Pinokio server is not running\n"
     ]
    },
    {
     "name": "stderr",
     "output_type": "stream",
     "text": [
      "2025-09-01 17:00:49,135 - modules.pinokio_controller - ERROR - ❌ Quick install and launch failed for stable-diffusion: Pinokio server is not running\n"
     ]
    }
   ],
   "source": [
    "#@title 🤖 Install AI Tools (Optional) Install specific AI tools if controller is available\n",
    "if 'controller' in locals() and controller:\n",
    "    try:\n",
    "        # Example: Install Stable Diffusion via API\n",
    "        print(\"🎨 Installing Stable Diffusion...\")\n",
    "        tool_url = controller.quick_install_and_launch(\"stable-diffusion\")\n",
    "        if tool_url:\n",
    "            print(f\"✅ Stable Diffusion available at: {tool_url}\")\n",
    "    except Exception as e:\n",
    "        print(f\"ℹ️ Tool installation via API failed: {e}\")\n",
    "        print(\"💡 You can install tools manually through the Pinokio GUI\")\n",
    "elif 'pinokio' in locals() and pinokio:\n",
    "    try:\n",
    "        # Try with main orchestrator\n",
    "        tool_url = pinokio.install_ai_tool(\"stable-diffusion\")\n",
    "        if tool_url:\n",
    "            print(f\"🎨 Stable Diffusion installed: {tool_url}\")\n",
    "    except Exception as e:\n",
    "        print(f\"ℹ️ Automated tool installation not available: {e}\")\n",
    "        print(\"💡 Use the Pinokio GUI to browse and install tools\")\n",
    "else:\n",
    "    print(\"💡 Run a setup cell first to enable tool installation\")"
   ]
  },
  {
   "cell_type": "code",
   "execution_count": 5,
   "metadata": {
    "colab": {
     "base_uri": "https://localhost:8080/"
    },
    "execution": {
     "iopub.execute_input": "2025-09-01T05:00:49.141579Z",
     "iopub.status.busy": "2025-09-01T05:00:49.141303Z",
     "iopub.status.idle": "2025-09-01T05:00:53.218486Z",
     "shell.execute_reply": "2025-09-01T05:00:53.217739Z"
    },
    "id": "status-check",
    "outputId": "0a71033d-11d8-4bd9-b40f-7aa0f38b7288"
   },
   "outputs": [
    {
     "name": "stdout",
     "output_type": "stream",
     "text": [
      "📊 CURRENT STATUS\n",
      "==============================\n"
     ]
    },
    {
     "name": "stdout",
     "output_type": "stream",
     "text": [
      "\n",
      "==================================================\n",
      "📊 PINOKIO CLOUD GPU STATUS\n",
      "==================================================\n",
      "🚀 State: error\n",
      "🖥️  Platform: colab\n",
      "❌ Last Error: Failed to start Pinokio: Pinokio binary not found at /content/pinokio\\Pinokio.exe\n",
      "📦 Pinokio: ❌ Stopped (port: None)\n",
      "🌐 Tunnel: Not configured\n",
      "🤖 Installed Tools: 0\n",
      "==================================================\n",
      "\n",
      "🔍 Checking for Pinokio processes...\n"
     ]
    },
    {
     "name": "stdout",
     "output_type": "stream",
     "text": [
      "❌ No Pinokio processes found\n"
     ]
    }
   ],
   "source": [
    "#@title 📊 Status Check Check what's running\n",
    "print(\"📊 CURRENT STATUS\")\n",
    "print(\"=\" * 30)\n",
    "\n",
    "# Check if variables exist and services are running\n",
    "if 'pinokio' in locals():\n",
    "    try:\n",
    "        pinokio.print_status()\n",
    "    except Exception as e:\n",
    "        print(f\"⚠️ Status check failed: {e}\")\n",
    "elif 'controller' in locals():\n",
    "    try:\n",
    "        running = controller.is_running()\n",
    "        print(f\"🚀 Pinokio Server: {'✅ Running' if running else '❌ Stopped'}\")\n",
    "        if 'tunnel_url' in locals() and tunnel_url:\n",
    "            print(f\"🌐 Tunnel URL: {tunnel_url}\")\n",
    "    except Exception as e:\n",
    "        print(f\"⚠️ Controller status check failed: {e}\")\n",
    "else:\n",
    "    print(\"❌ No Pinokio instance found\")\n",
    "    print(\"💡 Run one of the setup cells above first\")\n",
    "\n",
    "# Show running processes\n",
    "print(\"\\n🔍 Checking for Pinokio processes...\")\n",
    "try:\n",
    "    result = !ps aux | grep -i pinokio | grep -v grep\n",
    "    if result:\n",
    "        print(\"✅ Found Pinokio processes:\")\n",
    "        for line in result:\n",
    "            print(f\"  {line}\")\n",
    "    else:\n",
    "        print(\"❌ No Pinokio processes found\")\n",
    "except:\n",
    "    print(\"⚠️ Could not check processes\")"
   ]
  },
  {
   "cell_type": "markdown",
   "metadata": {
    "id": "cleanup-header"
   },
   "source": [
    "## 🧹 Cleanup (Run when finished)"
   ]
  },
  {
   "cell_type": "code",
   "execution_count": 6,
   "metadata": {
    "execution": {
     "iopub.execute_input": "2025-09-01T05:00:53.221019Z",
     "iopub.status.busy": "2025-09-01T05:00:53.220676Z",
     "iopub.status.idle": "2025-09-01T05:00:53.224077Z",
     "shell.execute_reply": "2025-09-01T05:00:53.223732Z"
    },
    "id": "cleanup-cell"
   },
   "outputs": [],
   "source": [
    "# Stop all services (uncomment when done)\n",
    "# print(\"🧹 Stopping all services...\")\n",
    "#\n",
    "# if 'pinokio' in locals():\n",
    "#     try:\n",
    "#         pinokio.cleanup()\n",
    "#         print(\"✅ Main orchestrator cleanup complete\")\n",
    "#     except Exception as e:\n",
    "#         print(f\"⚠️ Main cleanup error: {e}\")\n",
    "#\n",
    "# if 'controller' in locals():\n",
    "#     try:\n",
    "#         controller.stop_server()\n",
    "#         print(\"✅ Pinokio server stopped\")\n",
    "#     except Exception as e:\n",
    "#         print(f\"⚠️ Server stop error: {e}\")\n",
    "#\n",
    "# if 'tunnel' in locals():\n",
    "#     try:\n",
    "#         tunnel.stop_all_tunnels()\n",
    "#         print(\"✅ All tunnels stopped\")\n",
    "#     except Exception as e:\n",
    "#         print(f\"⚠️ Tunnel stop error: {e}\")\n",
    "#\n",
    "# print(\"✅ Cleanup complete\")"
   ]
  },
  {
   "cell_type": "markdown",
   "metadata": {
    "id": "help-header"
   },
   "source": [
    "## 💡 Help & Troubleshooting\n",
    "\n",
    "**🎯 What This Does:**\n",
    "- Starts the **complete Pinokio web interface**\n",
    "- Gives you access to the **entire AI tool library** (500+ tools)\n",
    "- Creates a public URL to access the GUI from anywhere\n",
    "\n",
    "**🖱️ How to Use:**\n",
    "1. Run the \"Quick Start\" cell above\n",
    "2. Click the tunnel URL when it appears\n",
    "3. Browse the \"Discover\" tab in Pinokio GUI\n",
    "4. One-click install any AI tool from the library\n",
    "\n",
    "**🔧 If Quick Start Fails:**\n",
    "1. Try the \"Manual Step-by-Step\" approach\n",
    "2. Check the \"Status Check\" section to see what's running\n",
    "3. Look for error messages and troubleshoot accordingly\n",
    "\n",
    "**🚨 Common Issues:**\n",
    "- **KeyError: 'memory'** → Fixed in this version, should work now\n",
    "- **Import errors** → Re-run the setup cell\n",
    "- **GPU not detected** → Enable GPU runtime in Colab settings\n",
    "- **Tunnel fails** → Server still works locally on port 42000\n",
    "\n",
    "**🛠️ Available Tools Include:**\n",
    "- Stable Diffusion WebUI variants\n",
    "- ComfyUI and custom nodes\n",
    "- Text generation models\n",
    "- Image upscalers and processors  \n",
    "- Voice synthesis tools\n",
    "- Video generation models\n",
    "- Training and fine-tuning tools\n",
    "\n",
    "**💬 Support:** [GitHub Issues](https://github.com/remphanostar/SD-LongNose/issues)"
   ]
  }
 ],
 "metadata": {
  "accelerator": "GPU",
  "colab": {
   "gpuType": "T4",
   "provenance": []
  },
  "kernelspec": {
   "display_name": "Python 3",
   "name": "python3"
  },
  "language_info": {
   "codemirror_mode": {
    "name": "ipython",
    "version": 3
   },
   "file_extension": ".py",
   "mimetype": "text/x-python",
   "name": "python",
   "nbconvert_exporter": "python",
   "pygments_lexer": "ipython3",
   "version": "3.13.5"
  }
 },
 "nbformat": 4,
 "nbformat_minor": 0
}
