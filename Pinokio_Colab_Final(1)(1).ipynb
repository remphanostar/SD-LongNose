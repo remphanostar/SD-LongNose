{
  "cells": [
    {
      "cell_type": "markdown",
      "metadata": {
        "id": "header"
      },
      "source": [
        "# 🚀 Pinokio Cloud GPU - Google Colab (Final)\n",
        "\n",
        "**One-click deployment of Pinokio AI tools on Google Colab**\n",
        "\n",
        "This notebook automatically sets up Pinokio with AI tools like Stable Diffusion, ComfyUI, and more.\n",
        "\n",
        "---"
      ]
    },
    {
      "cell_type": "code",
      "execution_count": 1,
      "metadata": {
        "colab": {
          "base_uri": "https://localhost:8080/"
        },
        "id": "setup-cell",
        "outputId": "b45bb59c-706d-4027-c55f-750aa4be499e",
        "cellView": "form"
      },
      "outputs": [
        {
          "output_type": "stream",
          "name": "stdout",
          "text": [
            "📥 Cloning Pinokio repository...\n",
            "Cloning into 'SD-LongNose'...\n",
            "remote: Enumerating objects: 25, done.\u001b[K\n",
            "remote: Counting objects: 100% (25/25), done.\u001b[K\n",
            "remote: Compressing objects: 100% (24/24), done.\u001b[K\n",
            "remote: Total 25 (delta 0), reused 0 (delta 0), pack-reused 0 (from 0)\u001b[K\n",
            "Receiving objects: 100% (25/25), 120.29 KiB | 4.81 MiB/s, done.\n",
            "✅ Repository cloned\n",
            "✅ Setup complete\n"
          ]
        }
      ],
      "source": [
        "#@title 📦 Setup & Installation repository and dependencies\n",
        "import os\n",
        "import subprocess\n",
        "import sys\n",
        "\n",
        "# Clone the enhanced Pinokio repository\n",
        "if not os.path.exists(\"SD-LongNose\"):\n",
        "    print(\"📥 Cloning Pinokio repository...\")\n",
        "    !git clone https://github.com/remphanostar/SD-LongNose.git\n",
        "    print(\"✅ Repository cloned\")\n",
        "\n",
        "# Change to repository directory and add to path\n",
        "os.chdir(\"SD-LongNose\")\n",
        "sys.path.insert(0, '.')\n",
        "sys.path.insert(0, 'modules')\n",
        "\n",
        "# Install dependencies with better error handling\n",
        "%pip install -q requests pyngrok psutil\n",
        "\n",
        "print(\"✅ Setup complete\")"
      ]
    },
    {
      "cell_type": "code",
      "execution_count": 2,
      "metadata": {
        "colab": {
          "base_uri": "https://localhost:8080/"
        },
        "id": "quickstart",
        "outputId": "3a97d335-a7c6-4ae0-a71d-1325a79615b9",
        "cellView": "form"
      },
      "outputs": [
        {
          "output_type": "stream",
          "name": "stderr",
          "text": [
            "2025-09-01 02:49:07,024 - PinokioCloudGPU - INFO - State updated: setting_up\n",
            "INFO:PinokioCloudGPU:State updated: setting_up\n",
            "2025-09-01 02:49:07,027 - PinokioCloudGPU - INFO - 🔍 Setting up Pinokio Cloud GPU environment...\n",
            "INFO:PinokioCloudGPU:🔍 Setting up Pinokio Cloud GPU environment...\n",
            "2025-09-01 02:49:07,029 - PlatformDetector - INFO - Platform detected by _detect_by_env_vars: colab\n",
            "INFO:PlatformDetector:Platform detected by _detect_by_env_vars: colab\n",
            "2025-09-01 02:49:07,032 - PinokioCloudGPU - INFO - Mounting Google Drive for Colab...\n",
            "INFO:PinokioCloudGPU:Mounting Google Drive for Colab...\n"
          ]
        },
        {
          "output_type": "stream",
          "name": "stdout",
          "text": [
            "🚀 PINOKIO CLOUD GPU - QUICK START\n",
            "==================================================\n",
            "🔍 Setting up environment...\n"
          ]
        },
        {
          "output_type": "stream",
          "name": "stderr",
          "text": [
            "2025-09-01 02:51:08,309 - PlatformDetector - ERROR - ⚠️ Could not mount Google Drive: mount failed\n",
            "ERROR:PlatformDetector:⚠️ Could not mount Google Drive: mount failed\n",
            "2025-09-01 02:51:08,311 - PinokioCloudGPU - WARNING - Google Drive mount failed, continuing anyway\n",
            "WARNING:PinokioCloudGPU:Google Drive mount failed, continuing anyway\n",
            "2025-09-01 02:51:08,313 - PlatformDetector - INFO - ✅ Created 10 Pinokio directories at /content/pinokio\n",
            "INFO:PlatformDetector:✅ Created 10 Pinokio directories at /content/pinokio\n",
            "2025-09-01 02:51:08,333 - PlatformDetector - INFO - Detected 1 NVIDIA GPU(s)\n",
            "INFO:PlatformDetector:Detected 1 NVIDIA GPU(s)\n",
            "2025-09-01 02:51:08,363 - PlatformDetector - INFO - CUDA version: 12.5\n",
            "INFO:PlatformDetector:CUDA version: 12.5\n",
            "2025-09-01 02:51:12,913 - PlatformDetector - INFO - PyTorch CUDA available: 12.6\n",
            "INFO:PlatformDetector:PyTorch CUDA available: 12.6\n",
            "2025-09-01 02:51:16,441 - PlatformDetector - INFO - TensorFlow detected 1 GPU(s)\n",
            "INFO:PlatformDetector:TensorFlow detected 1 GPU(s)\n",
            "2025-09-01 02:51:16,444 - PinokioCloudGPU - INFO - State updated: setup_complete\n",
            "INFO:PinokioCloudGPU:State updated: setup_complete\n",
            "2025-09-01 02:51:16,446 - PinokioCloudGPU - INFO - ✅ Environment setup complete\n",
            "INFO:PinokioCloudGPU:✅ Environment setup complete\n",
            "2025-09-01 02:51:16,447 - PinokioCloudGPU - INFO - State updated: installing\n",
            "INFO:PinokioCloudGPU:State updated: installing\n",
            "2025-09-01 02:51:16,449 - PinokioCloudGPU - INFO - 📦 Installing Pinokio...\n",
            "INFO:PinokioCloudGPU:📦 Installing Pinokio...\n"
          ]
        },
        {
          "output_type": "stream",
          "name": "stdout",
          "text": [
            "============================================================\n",
            "🔍 PLATFORM DETECTION SUMMARY\n",
            "============================================================\n",
            "Platform: colab\n",
            "Pinokio Path: /content/pinokio\n",
            "Data Path: /content\n",
            "\n",
            "📊 GPU Information:\n",
            "  Available: True\n",
            "  Device 0: Tesla T4 (15360 MiB)\n",
            "  CUDA Version: 12.5\n",
            "\n",
            "💾 Memory: 12.7 GB\n",
            "💿 Disk: 73.6 GB free of 112.6 GB\n",
            "============================================================\n",
            "✅ Environment setup complete\n",
            "📦 Installing Pinokio...\n",
            "2025-09-01 02:51:16,451 - PinokioInstaller - INFO - Starting Pinokio installation...\n"
          ]
        },
        {
          "output_type": "stream",
          "name": "stderr",
          "text": [
            "INFO:PinokioInstaller:Starting Pinokio installation...\n"
          ]
        },
        {
          "output_type": "stream",
          "name": "stdout",
          "text": [
            "2025-09-01 02:51:16,452 - PinokioInstaller - INFO - 📦 Installing system dependencies...\n"
          ]
        },
        {
          "output_type": "stream",
          "name": "stderr",
          "text": [
            "INFO:PinokioInstaller:📦 Installing system dependencies...\n"
          ]
        },
        {
          "output_type": "stream",
          "name": "stdout",
          "text": [
            "2025-09-01 02:51:16,454 - PinokioInstaller - INFO - Updating package list...\n"
          ]
        },
        {
          "output_type": "stream",
          "name": "stderr",
          "text": [
            "INFO:PinokioInstaller:Updating package list...\n"
          ]
        },
        {
          "output_type": "stream",
          "name": "stdout",
          "text": [
            "2025-09-01 02:51:25,305 - PinokioInstaller - INFO - ✅ Installed 10 dependencies\n"
          ]
        },
        {
          "output_type": "stream",
          "name": "stderr",
          "text": [
            "INFO:PinokioInstaller:✅ Installed 10 dependencies\n"
          ]
        },
        {
          "output_type": "stream",
          "name": "stdout",
          "text": [
            "2025-09-01 02:51:25,307 - PinokioInstaller - INFO - 📺 Setting up virtual display...\n"
          ]
        },
        {
          "output_type": "stream",
          "name": "stderr",
          "text": [
            "INFO:PinokioInstaller:📺 Setting up virtual display...\n"
          ]
        },
        {
          "output_type": "stream",
          "name": "stdout",
          "text": [
            "2025-09-01 02:51:28,321 - PinokioInstaller - ERROR - ⚠️ Virtual display setup failed: [Errno 2] No such file or directory: 'xdpyinfo'\n"
          ]
        },
        {
          "output_type": "stream",
          "name": "stderr",
          "text": [
            "ERROR:PinokioInstaller:⚠️ Virtual display setup failed: [Errno 2] No such file or directory: 'xdpyinfo'\n"
          ]
        },
        {
          "output_type": "stream",
          "name": "stdout",
          "text": [
            "2025-09-01 02:51:28,323 - PinokioInstaller - WARNING - Virtual display setup failed, continuing anyway\n"
          ]
        },
        {
          "output_type": "stream",
          "name": "stderr",
          "text": [
            "WARNING:PinokioInstaller:Virtual display setup failed, continuing anyway\n"
          ]
        },
        {
          "output_type": "stream",
          "name": "stdout",
          "text": [
            "2025-09-01 02:51:28,599 - PinokioInstaller - WARNING - No Linux AppImage found in latest release\n"
          ]
        },
        {
          "output_type": "stream",
          "name": "stderr",
          "text": [
            "WARNING:PinokioInstaller:No Linux AppImage found in latest release\n"
          ]
        },
        {
          "output_type": "stream",
          "name": "stdout",
          "text": [
            "2025-09-01 02:51:28,601 - PinokioInstaller - INFO - 📥 Downloading Pinokio from https://github.com/pinokiocomputer/pinokio/releases/download/3.9.0/Pinokio-3.9.0.AppImage\n"
          ]
        },
        {
          "output_type": "stream",
          "name": "stderr",
          "text": [
            "INFO:PinokioInstaller:📥 Downloading Pinokio from https://github.com/pinokiocomputer/pinokio/releases/download/3.9.0/Pinokio-3.9.0.AppImage\n"
          ]
        },
        {
          "output_type": "stream",
          "name": "stdout",
          "text": [
            "Progress: 100.0% (120.0MB / 120.0MB)\n",
            "2025-09-01 02:51:30,023 - PinokioInstaller - INFO - ✅ Download complete and verified\n"
          ]
        },
        {
          "output_type": "stream",
          "name": "stderr",
          "text": [
            "INFO:PinokioInstaller:✅ Download complete and verified\n"
          ]
        },
        {
          "output_type": "stream",
          "name": "stdout",
          "text": [
            "2025-09-01 02:51:30,026 - PinokioInstaller - INFO - ✅ Pinokio installation complete and verified!\n"
          ]
        },
        {
          "output_type": "stream",
          "name": "stderr",
          "text": [
            "INFO:PinokioInstaller:✅ Pinokio installation complete and verified!\n"
          ]
        },
        {
          "output_type": "stream",
          "name": "stdout",
          "text": [
            "2025-09-01 02:51:30,443 - PinokioInstaller - WARNING - ⚠️ Installation test failed, but Pinokio is installed\n"
          ]
        },
        {
          "output_type": "stream",
          "name": "stderr",
          "text": [
            "WARNING:PinokioInstaller:⚠️ Installation test failed, but Pinokio is installed\n",
            "2025-09-01 02:51:30,447 - PinokioCloudGPU - INFO - State updated: installation_complete\n",
            "INFO:PinokioCloudGPU:State updated: installation_complete\n",
            "2025-09-01 02:51:30,449 - PinokioCloudGPU - INFO - ✅ Pinokio installation complete\n",
            "INFO:PinokioCloudGPU:✅ Pinokio installation complete\n",
            "2025-09-01 02:51:30,452 - PinokioCloudGPU - INFO - State updated: starting_server\n",
            "INFO:PinokioCloudGPU:State updated: starting_server\n",
            "2025-09-01 02:51:30,453 - PinokioCloudGPU - INFO - 🚀 Starting Pinokio server on port 42000...\n",
            "INFO:PinokioCloudGPU:🚀 Starting Pinokio server on port 42000...\n",
            "2025-09-01 02:51:30,458 - pinokio_controller - INFO - 🚀 Starting Pinokio server on port 42000...\n",
            "INFO:pinokio_controller:🚀 Starting Pinokio server on port 42000...\n",
            "2025-09-01 02:51:30,459 - pinokio_controller - ERROR - ❌ Failed to start Pinokio server: Pinokio binary not found at /content/pinokio/Pinokio-linux.AppImage\n",
            "ERROR:pinokio_controller:❌ Failed to start Pinokio server: Pinokio binary not found at /content/pinokio/Pinokio-linux.AppImage\n",
            "2025-09-01 02:51:30,460 - pinokio_controller - WARNING - start_server failed (attempt 1/3): Pinokio binary not found at /content/pinokio/Pinokio-linux.AppImage. Retrying in 2.0s...\n",
            "WARNING:pinokio_controller:start_server failed (attempt 1/3): Pinokio binary not found at /content/pinokio/Pinokio-linux.AppImage. Retrying in 2.0s...\n"
          ]
        },
        {
          "output_type": "stream",
          "name": "stdout",
          "text": [
            "✅ Pinokio installation complete\n",
            "🚀 Starting Pinokio server...\n"
          ]
        },
        {
          "output_type": "stream",
          "name": "stderr",
          "text": [
            "2025-09-01 02:51:32,461 - pinokio_controller - INFO - 🚀 Starting Pinokio server on port 42000...\n",
            "INFO:pinokio_controller:🚀 Starting Pinokio server on port 42000...\n",
            "2025-09-01 02:51:32,463 - pinokio_controller - ERROR - ❌ Failed to start Pinokio server: Pinokio binary not found at /content/pinokio/Pinokio-linux.AppImage\n",
            "ERROR:pinokio_controller:❌ Failed to start Pinokio server: Pinokio binary not found at /content/pinokio/Pinokio-linux.AppImage\n",
            "2025-09-01 02:51:32,464 - pinokio_controller - WARNING - start_server failed (attempt 2/3): Pinokio binary not found at /content/pinokio/Pinokio-linux.AppImage. Retrying in 4.0s...\n",
            "WARNING:pinokio_controller:start_server failed (attempt 2/3): Pinokio binary not found at /content/pinokio/Pinokio-linux.AppImage. Retrying in 4.0s...\n",
            "2025-09-01 02:51:36,465 - pinokio_controller - INFO - 🚀 Starting Pinokio server on port 42000...\n",
            "INFO:pinokio_controller:🚀 Starting Pinokio server on port 42000...\n",
            "2025-09-01 02:51:36,467 - pinokio_controller - ERROR - ❌ Failed to start Pinokio server: Pinokio binary not found at /content/pinokio/Pinokio-linux.AppImage\n",
            "ERROR:pinokio_controller:❌ Failed to start Pinokio server: Pinokio binary not found at /content/pinokio/Pinokio-linux.AppImage\n",
            "2025-09-01 02:51:36,468 - pinokio_controller - ERROR - start_server failed after 3 attempts: Pinokio binary not found at /content/pinokio/Pinokio-linux.AppImage\n",
            "ERROR:pinokio_controller:start_server failed after 3 attempts: Pinokio binary not found at /content/pinokio/Pinokio-linux.AppImage\n",
            "2025-09-01 02:51:36,469 - PinokioCloudGPU - INFO - State updated: error\n",
            "INFO:PinokioCloudGPU:State updated: error\n",
            "2025-09-01 02:51:36,470 - PinokioCloudGPU - ERROR - Failed to start Pinokio: Pinokio binary not found at /content/pinokio/Pinokio-linux.AppImage\n",
            "ERROR:PinokioCloudGPU:Failed to start Pinokio: Pinokio binary not found at /content/pinokio/Pinokio-linux.AppImage\n",
            "2025-09-01 02:51:36,471 - PinokioCloudGPU - WARNING - start_pinokio failed (attempt 1/3): Pinokio binary not found at /content/pinokio/Pinokio-linux.AppImage. Retrying in 5.0s...\n",
            "WARNING:PinokioCloudGPU:start_pinokio failed (attempt 1/3): Pinokio binary not found at /content/pinokio/Pinokio-linux.AppImage. Retrying in 5.0s...\n",
            "2025-09-01 02:51:41,474 - PinokioCloudGPU - INFO - State updated: starting_server\n",
            "INFO:PinokioCloudGPU:State updated: starting_server\n",
            "2025-09-01 02:51:41,475 - PinokioCloudGPU - INFO - 🚀 Starting Pinokio server on port 42000...\n",
            "INFO:PinokioCloudGPU:🚀 Starting Pinokio server on port 42000...\n",
            "2025-09-01 02:51:41,477 - pinokio_controller - INFO - 🚀 Starting Pinokio server on port 42000...\n",
            "INFO:pinokio_controller:🚀 Starting Pinokio server on port 42000...\n",
            "2025-09-01 02:51:41,478 - pinokio_controller - ERROR - ❌ Failed to start Pinokio server: Pinokio binary not found at /content/pinokio/Pinokio-linux.AppImage\n",
            "ERROR:pinokio_controller:❌ Failed to start Pinokio server: Pinokio binary not found at /content/pinokio/Pinokio-linux.AppImage\n",
            "2025-09-01 02:51:41,479 - pinokio_controller - WARNING - start_server failed (attempt 1/3): Pinokio binary not found at /content/pinokio/Pinokio-linux.AppImage. Retrying in 2.0s...\n",
            "WARNING:pinokio_controller:start_server failed (attempt 1/3): Pinokio binary not found at /content/pinokio/Pinokio-linux.AppImage. Retrying in 2.0s...\n",
            "2025-09-01 02:51:43,481 - pinokio_controller - INFO - 🚀 Starting Pinokio server on port 42000...\n",
            "INFO:pinokio_controller:🚀 Starting Pinokio server on port 42000...\n",
            "2025-09-01 02:51:43,482 - pinokio_controller - ERROR - ❌ Failed to start Pinokio server: Pinokio binary not found at /content/pinokio/Pinokio-linux.AppImage\n",
            "ERROR:pinokio_controller:❌ Failed to start Pinokio server: Pinokio binary not found at /content/pinokio/Pinokio-linux.AppImage\n",
            "2025-09-01 02:51:43,483 - pinokio_controller - WARNING - start_server failed (attempt 2/3): Pinokio binary not found at /content/pinokio/Pinokio-linux.AppImage. Retrying in 4.0s...\n",
            "WARNING:pinokio_controller:start_server failed (attempt 2/3): Pinokio binary not found at /content/pinokio/Pinokio-linux.AppImage. Retrying in 4.0s...\n",
            "2025-09-01 02:51:47,484 - pinokio_controller - INFO - 🚀 Starting Pinokio server on port 42000...\n",
            "INFO:pinokio_controller:🚀 Starting Pinokio server on port 42000...\n",
            "2025-09-01 02:51:47,486 - pinokio_controller - ERROR - ❌ Failed to start Pinokio server: Pinokio binary not found at /content/pinokio/Pinokio-linux.AppImage\n",
            "ERROR:pinokio_controller:❌ Failed to start Pinokio server: Pinokio binary not found at /content/pinokio/Pinokio-linux.AppImage\n",
            "2025-09-01 02:51:47,487 - pinokio_controller - ERROR - start_server failed after 3 attempts: Pinokio binary not found at /content/pinokio/Pinokio-linux.AppImage\n",
            "ERROR:pinokio_controller:start_server failed after 3 attempts: Pinokio binary not found at /content/pinokio/Pinokio-linux.AppImage\n",
            "2025-09-01 02:51:47,489 - PinokioCloudGPU - INFO - State updated: error\n",
            "INFO:PinokioCloudGPU:State updated: error\n",
            "2025-09-01 02:51:47,490 - PinokioCloudGPU - ERROR - Failed to start Pinokio: Pinokio binary not found at /content/pinokio/Pinokio-linux.AppImage\n",
            "ERROR:PinokioCloudGPU:Failed to start Pinokio: Pinokio binary not found at /content/pinokio/Pinokio-linux.AppImage\n",
            "2025-09-01 02:51:47,492 - PinokioCloudGPU - WARNING - start_pinokio failed (attempt 2/3): Pinokio binary not found at /content/pinokio/Pinokio-linux.AppImage. Retrying in 7.5s...\n",
            "WARNING:PinokioCloudGPU:start_pinokio failed (attempt 2/3): Pinokio binary not found at /content/pinokio/Pinokio-linux.AppImage. Retrying in 7.5s...\n",
            "2025-09-01 02:51:54,993 - PinokioCloudGPU - INFO - State updated: starting_server\n",
            "INFO:PinokioCloudGPU:State updated: starting_server\n",
            "2025-09-01 02:51:54,994 - PinokioCloudGPU - INFO - 🚀 Starting Pinokio server on port 42000...\n",
            "INFO:PinokioCloudGPU:🚀 Starting Pinokio server on port 42000...\n",
            "2025-09-01 02:51:54,996 - pinokio_controller - INFO - 🚀 Starting Pinokio server on port 42000...\n",
            "INFO:pinokio_controller:🚀 Starting Pinokio server on port 42000...\n",
            "2025-09-01 02:51:54,997 - pinokio_controller - ERROR - ❌ Failed to start Pinokio server: Pinokio binary not found at /content/pinokio/Pinokio-linux.AppImage\n",
            "ERROR:pinokio_controller:❌ Failed to start Pinokio server: Pinokio binary not found at /content/pinokio/Pinokio-linux.AppImage\n",
            "2025-09-01 02:51:54,998 - pinokio_controller - WARNING - start_server failed (attempt 1/3): Pinokio binary not found at /content/pinokio/Pinokio-linux.AppImage. Retrying in 2.0s...\n",
            "WARNING:pinokio_controller:start_server failed (attempt 1/3): Pinokio binary not found at /content/pinokio/Pinokio-linux.AppImage. Retrying in 2.0s...\n",
            "2025-09-01 02:51:57,001 - pinokio_controller - INFO - 🚀 Starting Pinokio server on port 42000...\n",
            "INFO:pinokio_controller:🚀 Starting Pinokio server on port 42000...\n",
            "2025-09-01 02:51:57,002 - pinokio_controller - ERROR - ❌ Failed to start Pinokio server: Pinokio binary not found at /content/pinokio/Pinokio-linux.AppImage\n",
            "ERROR:pinokio_controller:❌ Failed to start Pinokio server: Pinokio binary not found at /content/pinokio/Pinokio-linux.AppImage\n",
            "2025-09-01 02:51:57,003 - pinokio_controller - WARNING - start_server failed (attempt 2/3): Pinokio binary not found at /content/pinokio/Pinokio-linux.AppImage. Retrying in 4.0s...\n",
            "WARNING:pinokio_controller:start_server failed (attempt 2/3): Pinokio binary not found at /content/pinokio/Pinokio-linux.AppImage. Retrying in 4.0s...\n",
            "2025-09-01 02:52:01,005 - pinokio_controller - INFO - 🚀 Starting Pinokio server on port 42000...\n",
            "INFO:pinokio_controller:🚀 Starting Pinokio server on port 42000...\n",
            "2025-09-01 02:52:01,006 - pinokio_controller - ERROR - ❌ Failed to start Pinokio server: Pinokio binary not found at /content/pinokio/Pinokio-linux.AppImage\n",
            "ERROR:pinokio_controller:❌ Failed to start Pinokio server: Pinokio binary not found at /content/pinokio/Pinokio-linux.AppImage\n",
            "2025-09-01 02:52:01,007 - pinokio_controller - ERROR - start_server failed after 3 attempts: Pinokio binary not found at /content/pinokio/Pinokio-linux.AppImage\n",
            "ERROR:pinokio_controller:start_server failed after 3 attempts: Pinokio binary not found at /content/pinokio/Pinokio-linux.AppImage\n",
            "2025-09-01 02:52:01,009 - PinokioCloudGPU - INFO - State updated: error\n",
            "INFO:PinokioCloudGPU:State updated: error\n",
            "2025-09-01 02:52:01,010 - PinokioCloudGPU - ERROR - Failed to start Pinokio: Pinokio binary not found at /content/pinokio/Pinokio-linux.AppImage\n",
            "ERROR:PinokioCloudGPU:Failed to start Pinokio: Pinokio binary not found at /content/pinokio/Pinokio-linux.AppImage\n",
            "2025-09-01 02:52:01,012 - PinokioCloudGPU - ERROR - start_pinokio failed after 3 attempts: Pinokio binary not found at /content/pinokio/Pinokio-linux.AppImage\n",
            "ERROR:PinokioCloudGPU:start_pinokio failed after 3 attempts: Pinokio binary not found at /content/pinokio/Pinokio-linux.AppImage\n"
          ]
        },
        {
          "output_type": "stream",
          "name": "stdout",
          "text": [
            "❌ Server startup failed: Pinokio binary not found at /content/pinokio/Pinokio-linux.AppImage\n",
            "❌ Setup failed: Pinokio binary not found at /content/pinokio/Pinokio-linux.AppImage\n",
            "💡 Try running the 'Manual Step-by-Step' section below\n"
          ]
        }
      ],
      "source": [
        "#@title 🚀 Quick Start (Recommended) with error recovery\n",
        "try:\n",
        "    from pinokio_cloud_main import PinokioCloudGPU\n",
        "\n",
        "    print(\"🚀 PINOKIO CLOUD GPU - QUICK START\")\n",
        "    print(\"=\" * 50)\n",
        "\n",
        "    # Initialize with robust error handling\n",
        "    pinokio = PinokioCloudGPU(log_level=\"INFO\")\n",
        "\n",
        "    # Step-by-step setup with individual error handling\n",
        "    print(\"🔍 Setting up environment...\")\n",
        "    try:\n",
        "        pinokio.setup()\n",
        "        print(\"✅ Environment setup complete\")\n",
        "    except Exception as e:\n",
        "        print(f\"⚠️ Environment setup had issues: {e}\")\n",
        "        print(\"Continuing with reduced functionality...\")\n",
        "\n",
        "    print(\"📦 Installing Pinokio...\")\n",
        "    try:\n",
        "        pinokio.install_pinokio()\n",
        "        print(\"✅ Pinokio installation complete\")\n",
        "    except Exception as e:\n",
        "        print(f\"❌ Pinokio installation failed: {e}\")\n",
        "        raise\n",
        "\n",
        "    print(\"🚀 Starting Pinokio server...\")\n",
        "    try:\n",
        "        pinokio.start_pinokio()\n",
        "        print(\"✅ Pinokio server started\")\n",
        "    except Exception as e:\n",
        "        print(f\"❌ Server startup failed: {e}\")\n",
        "        raise\n",
        "\n",
        "    print(\"🌐 Setting up tunnel...\")\n",
        "    tunnel_url = None\n",
        "    try:\n",
        "        tunnel_url = pinokio.setup_tunnel()\n",
        "        if tunnel_url:\n",
        "            print(f\"✅ Tunnel created successfully\")\n",
        "        else:\n",
        "            print(\"⚠️ Tunnel setup failed, but server is running locally\")\n",
        "    except Exception as e:\n",
        "        print(f\"⚠️ Tunnel setup error: {e}\")\n",
        "\n",
        "    # Final status\n",
        "    if tunnel_url:\n",
        "        print(f\"\\n🎉 SUCCESS! Access your Pinokio interface at:\")\n",
        "        print(f\"🔗 {tunnel_url}\")\n",
        "        print(f\"\\n📱 Click the link above to open Pinokio in your browser!\")\n",
        "        print(f\"🤖 You can browse and install from the entire AI tool library!\")\n",
        "    else:\n",
        "        print(f\"\\n⚠️ Setup completed but tunnel unavailable\")\n",
        "        print(f\"🖥️ Pinokio is running locally on port 42000\")\n",
        "\n",
        "    # Show final status\n",
        "    try:\n",
        "        pinokio.print_status()\n",
        "    except:\n",
        "        pass\n",
        "\n",
        "except ImportError as e:\n",
        "    print(f\"❌ Import error: {e}\")\n",
        "    print(\"💡 Please run the setup cell first\")\n",
        "except Exception as e:\n",
        "    print(f\"❌ Setup failed: {e}\")\n",
        "    print(\"💡 Try running the 'Manual Step-by-Step' section below\")"
      ]
    },
    {
      "cell_type": "code",
      "execution_count": 3,
      "metadata": {
        "colab": {
          "base_uri": "https://localhost:8080/"
        },
        "id": "manual-setup",
        "outputId": "c895f4a7-491a-42ae-ddde-b6a4192cc9b6"
      },
      "outputs": [
        {
          "output_type": "stream",
          "name": "stderr",
          "text": [
            "2025-09-01 02:52:01,033 - PlatformDetector - INFO - Platform detected by _detect_by_env_vars: colab\n",
            "INFO:PlatformDetector:Platform detected by _detect_by_env_vars: colab\n"
          ]
        },
        {
          "output_type": "stream",
          "name": "stdout",
          "text": [
            "🔍 Detecting platform...\n",
            "✅ Platform detected: colab\n",
            "📁 Pinokio path: /content/pinokio\n"
          ]
        },
        {
          "output_type": "stream",
          "name": "stderr",
          "text": [
            "2025-09-01 02:52:09,970 - PlatformDetector - INFO - ✅ Google Drive mounted successfully at /content/drive\n",
            "INFO:PlatformDetector:✅ Google Drive mounted successfully at /content/drive\n",
            "2025-09-01 02:52:09,973 - PlatformDetector - INFO - ✅ Created 10 Pinokio directories at /content/pinokio\n",
            "INFO:PlatformDetector:✅ Created 10 Pinokio directories at /content/pinokio\n",
            "2025-09-01 02:52:10,031 - PlatformDetector - INFO - Detected 1 NVIDIA GPU(s)\n",
            "INFO:PlatformDetector:Detected 1 NVIDIA GPU(s)\n",
            "2025-09-01 02:52:10,037 - PlatformDetector - INFO - CUDA version: 12.5\n",
            "INFO:PlatformDetector:CUDA version: 12.5\n",
            "2025-09-01 02:52:10,039 - PlatformDetector - INFO - PyTorch CUDA available: 12.6\n",
            "INFO:PlatformDetector:PyTorch CUDA available: 12.6\n",
            "2025-09-01 02:52:10,042 - PlatformDetector - INFO - TensorFlow detected 1 GPU(s)\n",
            "INFO:PlatformDetector:TensorFlow detected 1 GPU(s)\n"
          ]
        },
        {
          "output_type": "stream",
          "name": "stdout",
          "text": [
            "Mounted at /content/drive\n",
            "🎮 GPU Available: True\n",
            "📦 Installing Pinokio...\n",
            "2025-09-01 02:52:10,046 - PinokioInstaller - INFO - ✅ Pinokio already installed\n"
          ]
        },
        {
          "output_type": "stream",
          "name": "stderr",
          "text": [
            "INFO:PinokioInstaller:✅ Pinokio already installed\n",
            "2025-09-01 02:52:10,048 - modules.pinokio_controller - INFO - 🚀 Starting Pinokio server on port 42000...\n",
            "INFO:modules.pinokio_controller:🚀 Starting Pinokio server on port 42000...\n",
            "2025-09-01 02:52:10,051 - modules.pinokio_controller - ERROR - ❌ Failed to start Pinokio server: Pinokio binary not found at /content/pinokio/Pinokio-linux.AppImage\n",
            "ERROR:modules.pinokio_controller:❌ Failed to start Pinokio server: Pinokio binary not found at /content/pinokio/Pinokio-linux.AppImage\n",
            "2025-09-01 02:52:10,057 - modules.pinokio_controller - WARNING - start_server failed (attempt 1/3): Pinokio binary not found at /content/pinokio/Pinokio-linux.AppImage. Retrying in 2.0s...\n",
            "WARNING:modules.pinokio_controller:start_server failed (attempt 1/3): Pinokio binary not found at /content/pinokio/Pinokio-linux.AppImage. Retrying in 2.0s...\n"
          ]
        },
        {
          "output_type": "stream",
          "name": "stdout",
          "text": [
            "🚀 Starting Pinokio server...\n"
          ]
        },
        {
          "output_type": "stream",
          "name": "stderr",
          "text": [
            "2025-09-01 02:52:12,058 - modules.pinokio_controller - INFO - 🚀 Starting Pinokio server on port 42000...\n",
            "INFO:modules.pinokio_controller:🚀 Starting Pinokio server on port 42000...\n",
            "2025-09-01 02:52:12,059 - modules.pinokio_controller - ERROR - ❌ Failed to start Pinokio server: Pinokio binary not found at /content/pinokio/Pinokio-linux.AppImage\n",
            "ERROR:modules.pinokio_controller:❌ Failed to start Pinokio server: Pinokio binary not found at /content/pinokio/Pinokio-linux.AppImage\n",
            "2025-09-01 02:52:12,060 - modules.pinokio_controller - WARNING - start_server failed (attempt 2/3): Pinokio binary not found at /content/pinokio/Pinokio-linux.AppImage. Retrying in 4.0s...\n",
            "WARNING:modules.pinokio_controller:start_server failed (attempt 2/3): Pinokio binary not found at /content/pinokio/Pinokio-linux.AppImage. Retrying in 4.0s...\n",
            "2025-09-01 02:52:16,062 - modules.pinokio_controller - INFO - 🚀 Starting Pinokio server on port 42000...\n",
            "INFO:modules.pinokio_controller:🚀 Starting Pinokio server on port 42000...\n",
            "2025-09-01 02:52:16,063 - modules.pinokio_controller - ERROR - ❌ Failed to start Pinokio server: Pinokio binary not found at /content/pinokio/Pinokio-linux.AppImage\n",
            "ERROR:modules.pinokio_controller:❌ Failed to start Pinokio server: Pinokio binary not found at /content/pinokio/Pinokio-linux.AppImage\n",
            "2025-09-01 02:52:16,064 - modules.pinokio_controller - ERROR - start_server failed after 3 attempts: Pinokio binary not found at /content/pinokio/Pinokio-linux.AppImage\n",
            "ERROR:modules.pinokio_controller:start_server failed after 3 attempts: Pinokio binary not found at /content/pinokio/Pinokio-linux.AppImage\n"
          ]
        },
        {
          "output_type": "stream",
          "name": "stdout",
          "text": [
            "❌ Manual setup failed: Pinokio binary not found at /content/pinokio/Pinokio-linux.AppImage\n",
            "💡 Please check the error and try again\n"
          ]
        }
      ],
      "source": [
        "#@title 🛠️ Manual Step-by-Step (If Quick Start Fails) with maximum error recovery\n",
        "try:\n",
        "    # Import modules directly\n",
        "    from modules.platform_detector import PlatformDetector\n",
        "    from modules.pinokio_installer import PinokioInstaller\n",
        "    from modules.tunnel_manager import TunnelManager\n",
        "    from modules.pinokio_controller import PinokioController\n",
        "\n",
        "    print(\"🔍 Detecting platform...\")\n",
        "    detector = PlatformDetector()\n",
        "    platform = detector.detect_platform()\n",
        "    paths = detector.setup_paths()\n",
        "\n",
        "    print(f\"✅ Platform detected: {platform}\")\n",
        "    print(f\"📁 Pinokio path: {paths['pinokio']}\")\n",
        "\n",
        "    # Mount Google Drive if on Colab\n",
        "    if platform == \"colab\":\n",
        "        detector.mount_google_drive()\n",
        "\n",
        "    # Create directories\n",
        "    detector.create_directories()\n",
        "\n",
        "    # GPU detection (optional)\n",
        "    try:\n",
        "        gpu_info = detector.detect_gpu()\n",
        "        print(f\"🎮 GPU Available: {gpu_info.get('available', False)}\")\n",
        "    except Exception as e:\n",
        "        print(f\"⚠️ GPU detection failed: {e}\")\n",
        "\n",
        "    # Install Pinokio\n",
        "    print(\"📦 Installing Pinokio...\")\n",
        "    installer = PinokioInstaller(paths['pinokio'])\n",
        "    installer.install(headless=True)\n",
        "\n",
        "    # Start Pinokio server\n",
        "    print(\"🚀 Starting Pinokio server...\")\n",
        "    controller = PinokioController(paths['pinokio'])\n",
        "    controller.start_server(headless=True, port=42000)\n",
        "\n",
        "    # Setup tunnel\n",
        "    print(\"🌐 Setting up tunnel...\")\n",
        "    tunnel = TunnelManager()\n",
        "    tunnel_url = tunnel.start_cloudflare_tunnel(42000)\n",
        "\n",
        "    if tunnel_url:\n",
        "        print(f\"\\n🎉 SUCCESS! Manual setup complete!\")\n",
        "        print(f\"🔗 Access Pinokio at: {tunnel_url}\")\n",
        "    else:\n",
        "        print(f\"\\n✅ Pinokio server is running on port 42000\")\n",
        "        print(f\"⚠️ Tunnel setup failed - only local access available\")\n",
        "\n",
        "except Exception as e:\n",
        "    print(f\"❌ Manual setup failed: {e}\")\n",
        "    print(\"💡 Please check the error and try again\")"
      ]
    },
    {
      "cell_type": "code",
      "execution_count": 4,
      "metadata": {
        "id": "install-tools",
        "colab": {
          "base_uri": "https://localhost:8080/"
        },
        "outputId": "23309e68-340e-4d08-d3f4-702c5b176ffc"
      },
      "outputs": [
        {
          "output_type": "stream",
          "name": "stderr",
          "text": [
            "2025-09-01 02:52:16,075 - modules.pinokio_controller - INFO - 🚀 Quick install and launch: stable-diffusion\n",
            "INFO:modules.pinokio_controller:🚀 Quick install and launch: stable-diffusion\n",
            "2025-09-01 02:52:16,078 - modules.pinokio_controller - INFO - 📦 Installing app from https://github.com/AUTOMATIC1111/stable-diffusion-webui...\n",
            "INFO:modules.pinokio_controller:📦 Installing app from https://github.com/AUTOMATIC1111/stable-diffusion-webui...\n",
            "2025-09-01 02:52:16,081 - modules.pinokio_controller - WARNING - rpc_call failed (attempt 1/3): Pinokio server is not running. Retrying in 1.0s...\n",
            "WARNING:modules.pinokio_controller:rpc_call failed (attempt 1/3): Pinokio server is not running. Retrying in 1.0s...\n"
          ]
        },
        {
          "output_type": "stream",
          "name": "stdout",
          "text": [
            "🎨 Installing Stable Diffusion...\n"
          ]
        },
        {
          "output_type": "stream",
          "name": "stderr",
          "text": [
            "2025-09-01 02:52:17,084 - modules.pinokio_controller - WARNING - rpc_call failed (attempt 2/3): Pinokio server is not running. Retrying in 2.0s...\n",
            "WARNING:modules.pinokio_controller:rpc_call failed (attempt 2/3): Pinokio server is not running. Retrying in 2.0s...\n",
            "2025-09-01 02:52:19,086 - modules.pinokio_controller - ERROR - rpc_call failed after 3 attempts: Pinokio server is not running\n",
            "ERROR:modules.pinokio_controller:rpc_call failed after 3 attempts: Pinokio server is not running\n",
            "2025-09-01 02:52:19,088 - modules.pinokio_controller - ERROR - ❌ App installation failed: Pinokio server is not running\n",
            "ERROR:modules.pinokio_controller:❌ App installation failed: Pinokio server is not running\n",
            "2025-09-01 02:52:19,089 - modules.pinokio_controller - WARNING - install_app failed (attempt 1/2): Pinokio server is not running. Retrying in 2.0s...\n",
            "WARNING:modules.pinokio_controller:install_app failed (attempt 1/2): Pinokio server is not running. Retrying in 2.0s...\n",
            "2025-09-01 02:52:21,090 - modules.pinokio_controller - INFO - 📦 Installing app from https://github.com/AUTOMATIC1111/stable-diffusion-webui...\n",
            "INFO:modules.pinokio_controller:📦 Installing app from https://github.com/AUTOMATIC1111/stable-diffusion-webui...\n",
            "2025-09-01 02:52:21,093 - modules.pinokio_controller - WARNING - rpc_call failed (attempt 1/3): Pinokio server is not running. Retrying in 1.0s...\n",
            "WARNING:modules.pinokio_controller:rpc_call failed (attempt 1/3): Pinokio server is not running. Retrying in 1.0s...\n",
            "2025-09-01 02:52:22,096 - modules.pinokio_controller - WARNING - rpc_call failed (attempt 2/3): Pinokio server is not running. Retrying in 2.0s...\n",
            "WARNING:modules.pinokio_controller:rpc_call failed (attempt 2/3): Pinokio server is not running. Retrying in 2.0s...\n",
            "2025-09-01 02:52:24,098 - modules.pinokio_controller - ERROR - rpc_call failed after 3 attempts: Pinokio server is not running\n",
            "ERROR:modules.pinokio_controller:rpc_call failed after 3 attempts: Pinokio server is not running\n",
            "2025-09-01 02:52:24,100 - modules.pinokio_controller - ERROR - ❌ App installation failed: Pinokio server is not running\n",
            "ERROR:modules.pinokio_controller:❌ App installation failed: Pinokio server is not running\n",
            "2025-09-01 02:52:24,101 - modules.pinokio_controller - ERROR - install_app failed after 2 attempts: Pinokio server is not running\n",
            "ERROR:modules.pinokio_controller:install_app failed after 2 attempts: Pinokio server is not running\n",
            "2025-09-01 02:52:24,102 - modules.pinokio_controller - ERROR - ❌ Quick install and launch failed for stable-diffusion: Pinokio server is not running\n",
            "ERROR:modules.pinokio_controller:❌ Quick install and launch failed for stable-diffusion: Pinokio server is not running\n"
          ]
        }
      ],
      "source": [
        "#@title 🤖 Install AI Tools (Optional) Install specific AI tools if controller is available\n",
        "if 'controller' in locals() and controller:\n",
        "    try:\n",
        "        # Example: Install Stable Diffusion via API\n",
        "        print(\"🎨 Installing Stable Diffusion...\")\n",
        "        tool_url = controller.quick_install_and_launch(\"stable-diffusion\")\n",
        "        if tool_url:\n",
        "            print(f\"✅ Stable Diffusion available at: {tool_url}\")\n",
        "    except Exception as e:\n",
        "        print(f\"ℹ️ Tool installation via API failed: {e}\")\n",
        "        print(\"💡 You can install tools manually through the Pinokio GUI\")\n",
        "elif 'pinokio' in locals() and pinokio:\n",
        "    try:\n",
        "        # Try with main orchestrator\n",
        "        tool_url = pinokio.install_ai_tool(\"stable-diffusion\")\n",
        "        if tool_url:\n",
        "            print(f\"🎨 Stable Diffusion installed: {tool_url}\")\n",
        "    except Exception as e:\n",
        "        print(f\"ℹ️ Automated tool installation not available: {e}\")\n",
        "        print(\"💡 Use the Pinokio GUI to browse and install tools\")\n",
        "else:\n",
        "    print(\"💡 Run a setup cell first to enable tool installation\")"
      ]
    },
    {
      "cell_type": "code",
      "execution_count": 5,
      "metadata": {
        "colab": {
          "base_uri": "https://localhost:8080/"
        },
        "id": "status-check",
        "outputId": "0a71033d-11d8-4bd9-b40f-7aa0f38b7288"
      },
      "outputs": [
        {
          "output_type": "stream",
          "name": "stdout",
          "text": [
            "📊 CURRENT STATUS\n",
            "==============================\n",
            "\n",
            "==================================================\n",
            "📊 PINOKIO CLOUD GPU STATUS\n",
            "==================================================\n",
            "🚀 State: error\n",
            "🖥️  Platform: colab\n",
            "❌ Last Error: Failed to start Pinokio: Pinokio binary not found at /content/pinokio/Pinokio-linux.AppImage\n",
            "📦 Pinokio: ❌ Stopped (port: None)\n",
            "🌐 Tunnel: Not configured\n",
            "🤖 Installed Tools: 0\n",
            "==================================================\n",
            "\n",
            "🔍 Checking for Pinokio processes...\n",
            "❌ No Pinokio processes found\n"
          ]
        }
      ],
      "source": [
        "#@title 📊 Status Check Check what's running\n",
        "print(\"📊 CURRENT STATUS\")\n",
        "print(\"=\" * 30)\n",
        "\n",
        "# Check if variables exist and services are running\n",
        "if 'pinokio' in locals():\n",
        "    try:\n",
        "        pinokio.print_status()\n",
        "    except Exception as e:\n",
        "        print(f\"⚠️ Status check failed: {e}\")\n",
        "elif 'controller' in locals():\n",
        "    try:\n",
        "        running = controller.is_running()\n",
        "        print(f\"🚀 Pinokio Server: {'✅ Running' if running else '❌ Stopped'}\")\n",
        "        if 'tunnel_url' in locals() and tunnel_url:\n",
        "            print(f\"🌐 Tunnel URL: {tunnel_url}\")\n",
        "    except Exception as e:\n",
        "        print(f\"⚠️ Controller status check failed: {e}\")\n",
        "else:\n",
        "    print(\"❌ No Pinokio instance found\")\n",
        "    print(\"💡 Run one of the setup cells above first\")\n",
        "\n",
        "# Show running processes\n",
        "print(\"\\n🔍 Checking for Pinokio processes...\")\n",
        "try:\n",
        "    result = !ps aux | grep -i pinokio | grep -v grep\n",
        "    if result:\n",
        "        print(\"✅ Found Pinokio processes:\")\n",
        "        for line in result:\n",
        "            print(f\"  {line}\")\n",
        "    else:\n",
        "        print(\"❌ No Pinokio processes found\")\n",
        "except:\n",
        "    print(\"⚠️ Could not check processes\")"
      ]
    },
    {
      "cell_type": "markdown",
      "metadata": {
        "id": "cleanup-header"
      },
      "source": [
        "## 🧹 Cleanup (Run when finished)"
      ]
    },
    {
      "cell_type": "code",
      "execution_count": 6,
      "metadata": {
        "id": "cleanup-cell"
      },
      "outputs": [],
      "source": [
        "# Stop all services (uncomment when done)\n",
        "# print(\"🧹 Stopping all services...\")\n",
        "#\n",
        "# if 'pinokio' in locals():\n",
        "#     try:\n",
        "#         pinokio.cleanup()\n",
        "#         print(\"✅ Main orchestrator cleanup complete\")\n",
        "#     except Exception as e:\n",
        "#         print(f\"⚠️ Main cleanup error: {e}\")\n",
        "#\n",
        "# if 'controller' in locals():\n",
        "#     try:\n",
        "#         controller.stop_server()\n",
        "#         print(\"✅ Pinokio server stopped\")\n",
        "#     except Exception as e:\n",
        "#         print(f\"⚠️ Server stop error: {e}\")\n",
        "#\n",
        "# if 'tunnel' in locals():\n",
        "#     try:\n",
        "#         tunnel.stop_all_tunnels()\n",
        "#         print(\"✅ All tunnels stopped\")\n",
        "#     except Exception as e:\n",
        "#         print(f\"⚠️ Tunnel stop error: {e}\")\n",
        "#\n",
        "# print(\"✅ Cleanup complete\")"
      ]
    },
    {
      "cell_type": "markdown",
      "metadata": {
        "id": "help-header"
      },
      "source": [
        "## 💡 Help & Troubleshooting\n",
        "\n",
        "**🎯 What This Does:**\n",
        "- Starts the **complete Pinokio web interface**\n",
        "- Gives you access to the **entire AI tool library** (500+ tools)\n",
        "- Creates a public URL to access the GUI from anywhere\n",
        "\n",
        "**🖱️ How to Use:**\n",
        "1. Run the \"Quick Start\" cell above\n",
        "2. Click the tunnel URL when it appears\n",
        "3. Browse the \"Discover\" tab in Pinokio GUI\n",
        "4. One-click install any AI tool from the library\n",
        "\n",
        "**🔧 If Quick Start Fails:**\n",
        "1. Try the \"Manual Step-by-Step\" approach\n",
        "2. Check the \"Status Check\" section to see what's running\n",
        "3. Look for error messages and troubleshoot accordingly\n",
        "\n",
        "**🚨 Common Issues:**\n",
        "- **KeyError: 'memory'** → Fixed in this version, should work now\n",
        "- **Import errors** → Re-run the setup cell\n",
        "- **GPU not detected** → Enable GPU runtime in Colab settings\n",
        "- **Tunnel fails** → Server still works locally on port 42000\n",
        "\n",
        "**🛠️ Available Tools Include:**\n",
        "- Stable Diffusion WebUI variants\n",
        "- ComfyUI and custom nodes\n",
        "- Text generation models\n",
        "- Image upscalers and processors  \n",
        "- Voice synthesis tools\n",
        "- Video generation models\n",
        "- Training and fine-tuning tools\n",
        "\n",
        "**💬 Support:** [GitHub Issues](https://github.com/remphanostar/SD-LongNose/issues)"
      ]
    }
  ],
  "metadata": {
    "accelerator": "GPU",
    "colab": {
      "gpuType": "T4",
      "provenance": []
    },
    "kernelspec": {
      "display_name": "Python 3",
      "name": "python3"
    },
    "language_info": {
      "name": "python"
    }
  },
  "nbformat": 4,
  "nbformat_minor": 0
}